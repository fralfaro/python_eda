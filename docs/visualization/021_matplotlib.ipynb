{
 "cells": [
  {
   "cell_type": "markdown",
   "metadata": {
    "slideshow": {
     "slide_type": "slide"
    }
   },
   "source": [
    "<a href=\"https://colab.research.google.com/github/fralfaro/python_eda/blob/main/docs/visualization/021_matplotlib.ipynb\" target=\"_parent\"><img src=\"https://colab.research.google.com/assets/colab-badge.svg\" alt=\"Open In Colab\"/></a>\n",
    "\n",
    "\n",
    "# Matplotlib\n",
    "\n",
    "## Visualización Imperativa\n",
    "\n",
    "Este paradigma se focaliza en las instrucciones recibidas, ya que no abstrae las operaciones o codificaciones visuales. Algunas de sus características son:\n",
    "\n",
    "* Se especifica _Cómo_ se debe hacer algo.\n",
    "* Se deben especificar manualmente los pasos del trazado.\n",
    "* Especificación y ejecución entrelazadas.\n",
    "\n",
    "Coloquialmente se puede entender como que se debe decidir pixel a pixel lo que se desea mostrar.\n",
    "\n",
    "\n",
    "## Acerca de Matplotlib \n",
    "\n",
    "\n",
    "<img src=\"https://raw.githubusercontent.com/fralfaro/MAT281_2022/main/docs/lectures/data_manipulation/visualization/images/matplotlib.png\" alt=\"\" width=\"400\" align=\"center\"/>\n",
    "\n",
    "**Matplotlib** es una biblioteca para la generación de gráficos a partir de datos contenidos en listas o arrays en el lenguaje de programación Python y su extensión matemática NumPy. Proporciona una API, pylab, diseñada para recordar a la de **MATLAB**.\n",
    "\n",
    "En matplotlib todo está organizado en una jerarquía:\n",
    "\n",
    "* En la parte superior se encuentra el módulo `matplotlib.pyplot`. En este nivel, se utilizan funciones simples para agregar elementos de trazado (líneas, imágenes, texto, etc.) a los ejes actuales en la figura actual. \n",
    "\n",
    "\n",
    "* El siguiente nivel en la jerarquía es el primer nivel de la interfaz orientada a objetos, en la que pyplot se usa solo para algunas funciones, como la creación de figuras, y el usuario crea y realiza un seguimiento explícito de los objetos de figuras y ejes. En este nivel, el usuario usa pyplot para crear figuras, y a través de esas figuras, se pueden crear uno o más objetos de ejes."
   ]
  },
  {
   "cell_type": "markdown",
   "metadata": {},
   "source": [
    "### Componentes de un gráfico\n",
    "\n",
    "\n",
    "![image info](https://raw.githubusercontent.com/fralfaro/MAT281_2022/main/docs/lectures/data_manipulation/visualization/images/matplotlib_anatomy.webp )\n",
    "\n",
    "#### Figure\n",
    "\n",
    "Es la visualización completa. _Figure_ realiza un seguimiento de todos los _Axes_ hijos y el _Canvas_. Una figura puede tener cualquier número de _Axes_, pero para ser útil debe tener al menos uno.\n",
    "\n",
    "La forma más fácil de crear una nueva _Figure_ es con pyplot:\n",
    "\n",
    "```python\n",
    "fig = plt.figure()  # an empty figure with no axes\n",
    "\n",
    "fig, ax_lst = plt.subplots(2, 2)  # a figure with a 2x2 grid of Axes\n",
    "```\n",
    "\n",
    "#### Axes\n",
    "\n",
    "Esto es lo que se puede pensar como 'un gráfico', es la región de la imagen con el espacio de datos. Un _Figure_ dada puede contener muchos _Axes_, pero un objeto _Axe_ dado solo puede estar en un _Figure_. _Axes_ contiene dos (o tres en el caso de 3D) objetos _Axis_ que se ocupan de los límites de datos. Cada _Axe_ tiene un título, una etiqueta para el eje horizonal y una etiqueta para el eje vertical.\n",
    "\n",
    "La clase _Axes_ y sus funciones son el punto de entrada principal para trabajar con la interfaz orientada a objetos.\n",
    "\n",
    "#### Axis\n",
    "\n",
    "Corresponden a los ejes, algo así como líneas rectas. Se encargan de establecer los límites del gráfico y generar los ticks (las marcas en el eje) y los ticklabels (_strings_ que etiquetan los ticks)."
   ]
  },
  {
   "cell_type": "markdown",
   "metadata": {},
   "source": [
    "## Referencias\n",
    "\n",
    "1. [Gallery-matplotlib](https://matplotlib.org/3.1.1/gallery/index.html)\n"
   ]
  }
 ],
 "metadata": {
  "kernelspec": {
   "display_name": "Python 3 (ipykernel)",
   "language": "python",
   "name": "python3"
  },
  "language_info": {
   "codemirror_mode": {
    "name": "ipython",
    "version": 3
   },
   "file_extension": ".py",
   "mimetype": "text/x-python",
   "name": "python",
   "nbconvert_exporter": "python",
   "pygments_lexer": "ipython3",
   "version": "3.10.11"
  }
 },
 "nbformat": 4,
 "nbformat_minor": 4
}
