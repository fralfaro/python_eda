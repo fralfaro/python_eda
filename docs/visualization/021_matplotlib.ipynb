{
 "cells": [
  {
   "cell_type": "markdown",
   "metadata": {
    "slideshow": {
     "slide_type": "slide"
    }
   },
   "source": [
    "<a href=\"https://colab.research.google.com/github/fralfaro/python_eda/blob/main/docs/visualization/021_matplotlib.ipynb\" target=\"_parent\"><img src=\"https://colab.research.google.com/assets/colab-badge.svg\" alt=\"Open In Colab\"/></a>\n",
    "\n",
    "\n",
    "# Matplotlib\n",
    "\n",
    "## Acerca de Matplotlib \n",
    "\n",
    "\n",
    "<img src=\"https://raw.githubusercontent.com/fralfaro/MAT281_2022/main/docs/lectures/data_manipulation/visualization/images/matplotlib.png\" alt=\"\" width=\"400\" align=\"center\"/>\n",
    "\n",
    "**Matplotlib** es una biblioteca para la generación de gráficos a partir de datos contenidos en listas o arrays en Python, complementada con la extensión matemática NumPy. Proporciona una API llamada `pylab`, diseñada para recordar la funcionalidad de **MATLAB**.\n",
    "\n",
    "En Matplotlib, todo está organizado en una jerarquía que facilita tanto el uso básico como el avanzado:"
   ]
  },
  {
   "cell_type": "markdown",
   "metadata": {
    "slideshow": {
     "slide_type": "slide"
    }
   },
   "source": [
    "1. **Módulo `matplotlib.pyplot`**: En la parte superior de la jerarquía se encuentra `pyplot`, un conjunto de funciones simples para agregar elementos de trazado (líneas, imágenes, texto, etc.) a los ejes actuales en la figura actual. Este nivel es ideal para usuarios que buscan una manera rápida y sencilla de crear gráficos.\n",
    "\n",
    "    ```python\n",
    "    import matplotlib.pyplot as plt\n",
    "\n",
    "    # Crear una figura y un conjunto de ejes\n",
    "    fig, ax = plt.subplots()\n",
    "\n",
    "    # Agregar una línea a los ejes\n",
    "    ax.plot([1, 2, 3, 4], [10, 20, 25, 30])\n",
    "\n",
    "    # Mostrar el gráfico\n",
    "    plt.show()\n",
    "    ```"
   ]
  },
  {
   "cell_type": "markdown",
   "metadata": {
    "slideshow": {
     "slide_type": "slide"
    }
   },
   "source": [
    "2. **Interfaz Orientada a Objetos (OO)**: En el siguiente nivel de la jerarquía se encuentra la interfaz orientada a objetos. Aquí, `pyplot` se usa solo para algunas funciones como la creación de figuras, mientras que el usuario crea y maneja explícitamente los objetos de figura y ejes. Este enfoque proporciona un mayor control y flexibilidad sobre los elementos gráficos.\n",
    "\n",
    "    ```python\n",
    "    import matplotlib.pyplot as plt\n",
    "\n",
    "    # Crear una figura\n",
    "    fig = plt.figure()\n",
    "\n",
    "    # Agregar un conjunto de ejes a la figura\n",
    "    ax = fig.add_subplot(111)\n",
    "\n",
    "    # Agregar una línea a los ejes\n",
    "    ax.plot([1, 2, 3, 4], [10, 20, 25, 30])\n",
    "\n",
    "    # Mostrar el gráfico\n",
    "    plt.show()\n",
    "    ```\n",
    "\n",
    "### Componentes de un gráfico\n",
    "\n",
    "\n",
    "![image info](https://raw.githubusercontent.com/fralfaro/MAT281_2022/main/docs/lectures/data_manipulation/visualization/images/matplotlib_anatomy.webp )\n",
    "\n",
    "#### Figure\n",
    "\n",
    "Es la visualización completa. _Figure_ realiza un seguimiento de todos los _Axes_ hijos y el _Canvas_. Una figura puede tener cualquier número de _Axes_, pero para ser útil debe tener al menos uno.\n",
    "\n",
    "La forma más fácil de crear una nueva _Figure_ es con pyplot:\n",
    "\n",
    "```python\n",
    "fig = plt.figure()  # an empty figure with no axes\n",
    "\n",
    "fig, ax_lst = plt.subplots(2, 2)  # a figure with a 2x2 grid of Axes\n",
    "```\n",
    "\n",
    "#### Axes\n",
    "\n",
    "Esto es lo que se puede pensar como 'un gráfico', es la región de la imagen con el espacio de datos. Un _Figure_ dada puede contener muchos _Axes_, pero un objeto _Axe_ dado solo puede estar en un _Figure_. _Axes_ contiene dos (o tres en el caso de 3D) objetos _Axis_ que se ocupan de los límites de datos. Cada _Axe_ tiene un título, una etiqueta para el eje horizonal y una etiqueta para el eje vertical.\n",
    "\n",
    "La clase _Axes_ y sus funciones son el punto de entrada principal para trabajar con la interfaz orientada a objetos.\n",
    "\n",
    "#### Axis\n",
    "\n",
    "Corresponden a los ejes, algo así como líneas rectas. Se encargan de establecer los límites del gráfico y generar los ticks (las marcas en el eje) y los ticklabels (_strings_ que etiquetan los ticks).\n",
    "\n",
    "## Visualización Imperativa\n",
    "\n",
    "La visualización imperativa se centra en las instrucciones específicas necesarias para crear una visualización, sin abstraer las operaciones o codificaciones visuales. Este enfoque requiere una especificación detallada de cada paso del proceso de trazado. Algunas de sus características principales son:\n",
    "\n",
    "* **Especificación del \"Cómo\"**: Se debe definir explícitamente cómo se deben realizar las tareas para crear la visualización.\n",
    "* **Pasos del trazado manuales**: Cada paso del proceso de creación de la visualización debe ser especificado manualmente por el usuario.\n",
    "* **Especificación y ejecución entrelazadas**: La definición de la visualización y su ejecución están estrechamente vinculadas, lo que significa que los pasos de especificación y ejecución se realizan conjuntamente.\n",
    "\n",
    "Coloquialmente, esto significa que se debe decidir pixel a pixel lo que se desea mostrar en la visualización. En otras palabras, el usuario tiene un control total y detallado sobre cada aspecto del gráfico, lo que puede resultar en un proceso más laborioso pero permite una personalización completa."
   ]
  },
  {
   "cell_type": "markdown",
   "metadata": {},
   "source": [
    "## Referencias\n",
    "\n",
    "1. [Gallery-matplotlib](https://matplotlib.org/3.1.1/gallery/index.html)\n"
   ]
  }
 ],
 "metadata": {
  "kernelspec": {
   "display_name": "Python 3 (ipykernel)",
   "language": "python",
   "name": "python3"
  },
  "language_info": {
   "codemirror_mode": {
    "name": "ipython",
    "version": 3
   },
   "file_extension": ".py",
   "mimetype": "text/x-python",
   "name": "python",
   "nbconvert_exporter": "python",
   "pygments_lexer": "ipython3",
   "version": "3.10.11"
  }
 },
 "nbformat": 4,
 "nbformat_minor": 4
}
