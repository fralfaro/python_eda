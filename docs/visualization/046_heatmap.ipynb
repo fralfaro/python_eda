{
 "cells": [
  {
   "cell_type": "markdown",
   "id": "f1200f6e-a667-4236-96d9-b0f0fdab8c8e",
   "metadata": {},
   "source": [
    "<a href=\"https://colab.research.google.com/github/fralfaro/python_eda/blob/main/docs/visualization/036_heatmap.ipynb\" target=\"_parent\"><img src=\"https://colab.research.google.com/assets/colab-badge.svg\" alt=\"Open In Colab\"/></a>\n",
    "\n",
    "# Heat Map"
   ]
  },
  {
   "cell_type": "markdown",
   "id": "535f3a16-5601-466e-bc14-1decd6b89357",
   "metadata": {},
   "source": [
    "\n",
    "Altair es una biblioteca de visualización de datos en Python que utiliza una sintaxis declarativa para crear gráficos interactivos y de alta calidad. A continuación, se presentan algunos ejemplos de cómo crear mapas de calor con Altair en Python."
   ]
  },
  {
   "cell_type": "markdown",
   "id": "4a9abc7e-bbba-4f0b-9828-9818d8f345a5",
   "metadata": {
    "jp-MarkdownHeadingCollapsed": true
   },
   "source": [
    "1. **Mapa de calor básico**:"
   ]
  },
  {
   "cell_type": "code",
   "execution_count": 2,
   "id": "7dafb8a7-1884-43fc-b4ca-0d233d1548d2",
   "metadata": {},
   "outputs": [
    {
     "data": {
      "text/html": [
       "\n",
       "<div id=\"altair-viz-4c8bdf526ab5470cb826a5af0c889457\"></div>\n",
       "<script type=\"text/javascript\">\n",
       "  var VEGA_DEBUG = (typeof VEGA_DEBUG == \"undefined\") ? {} : VEGA_DEBUG;\n",
       "  (function(spec, embedOpt){\n",
       "    let outputDiv = document.currentScript.previousElementSibling;\n",
       "    if (outputDiv.id !== \"altair-viz-4c8bdf526ab5470cb826a5af0c889457\") {\n",
       "      outputDiv = document.getElementById(\"altair-viz-4c8bdf526ab5470cb826a5af0c889457\");\n",
       "    }\n",
       "    const paths = {\n",
       "      \"vega\": \"https://cdn.jsdelivr.net/npm//vega@5?noext\",\n",
       "      \"vega-lib\": \"https://cdn.jsdelivr.net/npm//vega-lib?noext\",\n",
       "      \"vega-lite\": \"https://cdn.jsdelivr.net/npm//vega-lite@4.17.0?noext\",\n",
       "      \"vega-embed\": \"https://cdn.jsdelivr.net/npm//vega-embed@6?noext\",\n",
       "    };\n",
       "\n",
       "    function maybeLoadScript(lib, version) {\n",
       "      var key = `${lib.replace(\"-\", \"\")}_version`;\n",
       "      return (VEGA_DEBUG[key] == version) ?\n",
       "        Promise.resolve(paths[lib]) :\n",
       "        new Promise(function(resolve, reject) {\n",
       "          var s = document.createElement('script');\n",
       "          document.getElementsByTagName(\"head\")[0].appendChild(s);\n",
       "          s.async = true;\n",
       "          s.onload = () => {\n",
       "            VEGA_DEBUG[key] = version;\n",
       "            return resolve(paths[lib]);\n",
       "          };\n",
       "          s.onerror = () => reject(`Error loading script: ${paths[lib]}`);\n",
       "          s.src = paths[lib];\n",
       "        });\n",
       "    }\n",
       "\n",
       "    function showError(err) {\n",
       "      outputDiv.innerHTML = `<div class=\"error\" style=\"color:red;\">${err}</div>`;\n",
       "      throw err;\n",
       "    }\n",
       "\n",
       "    function displayChart(vegaEmbed) {\n",
       "      vegaEmbed(outputDiv, spec, embedOpt)\n",
       "        .catch(err => showError(`Javascript Error: ${err.message}<br>This usually means there's a typo in your chart specification. See the javascript console for the full traceback.`));\n",
       "    }\n",
       "\n",
       "    if(typeof define === \"function\" && define.amd) {\n",
       "      requirejs.config({paths});\n",
       "      require([\"vega-embed\"], displayChart, err => showError(`Error loading script: ${err.message}`));\n",
       "    } else {\n",
       "      maybeLoadScript(\"vega\", \"5\")\n",
       "        .then(() => maybeLoadScript(\"vega-lite\", \"4.17.0\"))\n",
       "        .then(() => maybeLoadScript(\"vega-embed\", \"6\"))\n",
       "        .catch(showError)\n",
       "        .then(() => displayChart(vegaEmbed));\n",
       "    }\n",
       "  })({\"config\": {\"view\": {\"continuousWidth\": 400, \"continuousHeight\": 300}}, \"data\": {\"name\": \"data-f53abae243b294a7469b292a618d09d0\"}, \"mark\": \"rect\", \"encoding\": {\"color\": {\"field\": \"passengers\", \"type\": \"quantitative\"}, \"x\": {\"field\": \"year\", \"type\": \"ordinal\"}, \"y\": {\"field\": \"month\", \"type\": \"ordinal\"}}, \"height\": 400, \"title\": \"Mapa de Calor de N\\u00famero de Pasajeros\", \"width\": 600, \"$schema\": \"https://vega.github.io/schema/vega-lite/v4.17.0.json\", \"datasets\": {\"data-f53abae243b294a7469b292a618d09d0\": [{\"month\": \"Jan\", \"year\": 1949, \"passengers\": 112}, {\"month\": \"Feb\", \"year\": 1949, \"passengers\": 118}, {\"month\": \"Mar\", \"year\": 1949, \"passengers\": 132}, {\"month\": \"Apr\", \"year\": 1949, \"passengers\": 129}, {\"month\": \"May\", \"year\": 1949, \"passengers\": 121}, {\"month\": \"Jun\", \"year\": 1949, \"passengers\": 135}, {\"month\": \"Jul\", \"year\": 1949, \"passengers\": 148}, {\"month\": \"Aug\", \"year\": 1949, \"passengers\": 148}, {\"month\": \"Sep\", \"year\": 1949, \"passengers\": 136}, {\"month\": \"Oct\", \"year\": 1949, \"passengers\": 119}, {\"month\": \"Nov\", \"year\": 1949, \"passengers\": 104}, {\"month\": \"Dec\", \"year\": 1949, \"passengers\": 118}, {\"month\": \"Jan\", \"year\": 1950, \"passengers\": 115}, {\"month\": \"Feb\", \"year\": 1950, \"passengers\": 126}, {\"month\": \"Mar\", \"year\": 1950, \"passengers\": 141}, {\"month\": \"Apr\", \"year\": 1950, \"passengers\": 135}, {\"month\": \"May\", \"year\": 1950, \"passengers\": 125}, {\"month\": \"Jun\", \"year\": 1950, \"passengers\": 149}, {\"month\": \"Jul\", \"year\": 1950, \"passengers\": 170}, {\"month\": \"Aug\", \"year\": 1950, \"passengers\": 170}, {\"month\": \"Sep\", \"year\": 1950, \"passengers\": 158}, {\"month\": \"Oct\", \"year\": 1950, \"passengers\": 133}, {\"month\": \"Nov\", \"year\": 1950, \"passengers\": 114}, {\"month\": \"Dec\", \"year\": 1950, \"passengers\": 140}, {\"month\": \"Jan\", \"year\": 1951, \"passengers\": 145}, {\"month\": \"Feb\", \"year\": 1951, \"passengers\": 150}, {\"month\": \"Mar\", \"year\": 1951, \"passengers\": 178}, {\"month\": \"Apr\", \"year\": 1951, \"passengers\": 163}, {\"month\": \"May\", \"year\": 1951, \"passengers\": 172}, {\"month\": \"Jun\", \"year\": 1951, \"passengers\": 178}, {\"month\": \"Jul\", \"year\": 1951, \"passengers\": 199}, {\"month\": \"Aug\", \"year\": 1951, \"passengers\": 199}, {\"month\": \"Sep\", \"year\": 1951, \"passengers\": 184}, {\"month\": \"Oct\", \"year\": 1951, \"passengers\": 162}, {\"month\": \"Nov\", \"year\": 1951, \"passengers\": 146}, {\"month\": \"Dec\", \"year\": 1951, \"passengers\": 166}, {\"month\": \"Jan\", \"year\": 1952, \"passengers\": 171}, {\"month\": \"Feb\", \"year\": 1952, \"passengers\": 180}, {\"month\": \"Mar\", \"year\": 1952, \"passengers\": 193}, {\"month\": \"Apr\", \"year\": 1952, \"passengers\": 181}, {\"month\": \"May\", \"year\": 1952, \"passengers\": 183}, {\"month\": \"Jun\", \"year\": 1952, \"passengers\": 218}, {\"month\": \"Jul\", \"year\": 1952, \"passengers\": 230}, {\"month\": \"Aug\", \"year\": 1952, \"passengers\": 242}, {\"month\": \"Sep\", \"year\": 1952, \"passengers\": 209}, {\"month\": \"Oct\", \"year\": 1952, \"passengers\": 191}, {\"month\": \"Nov\", \"year\": 1952, \"passengers\": 172}, {\"month\": \"Dec\", \"year\": 1952, \"passengers\": 194}, {\"month\": \"Jan\", \"year\": 1953, \"passengers\": 196}, {\"month\": \"Feb\", \"year\": 1953, \"passengers\": 196}, {\"month\": \"Mar\", \"year\": 1953, \"passengers\": 236}, {\"month\": \"Apr\", \"year\": 1953, \"passengers\": 235}, {\"month\": \"May\", \"year\": 1953, \"passengers\": 229}, {\"month\": \"Jun\", \"year\": 1953, \"passengers\": 243}, {\"month\": \"Jul\", \"year\": 1953, \"passengers\": 264}, {\"month\": \"Aug\", \"year\": 1953, \"passengers\": 272}, {\"month\": \"Sep\", \"year\": 1953, \"passengers\": 237}, {\"month\": \"Oct\", \"year\": 1953, \"passengers\": 211}, {\"month\": \"Nov\", \"year\": 1953, \"passengers\": 180}, {\"month\": \"Dec\", \"year\": 1953, \"passengers\": 201}, {\"month\": \"Jan\", \"year\": 1954, \"passengers\": 204}, {\"month\": \"Feb\", \"year\": 1954, \"passengers\": 188}, {\"month\": \"Mar\", \"year\": 1954, \"passengers\": 235}, {\"month\": \"Apr\", \"year\": 1954, \"passengers\": 227}, {\"month\": \"May\", \"year\": 1954, \"passengers\": 234}, {\"month\": \"Jun\", \"year\": 1954, \"passengers\": 264}, {\"month\": \"Jul\", \"year\": 1954, \"passengers\": 302}, {\"month\": \"Aug\", \"year\": 1954, \"passengers\": 293}, {\"month\": \"Sep\", \"year\": 1954, \"passengers\": 259}, {\"month\": \"Oct\", \"year\": 1954, \"passengers\": 229}, {\"month\": \"Nov\", \"year\": 1954, \"passengers\": 203}, {\"month\": \"Dec\", \"year\": 1954, \"passengers\": 229}, {\"month\": \"Jan\", \"year\": 1955, \"passengers\": 242}, {\"month\": \"Feb\", \"year\": 1955, \"passengers\": 233}, {\"month\": \"Mar\", \"year\": 1955, \"passengers\": 267}, {\"month\": \"Apr\", \"year\": 1955, \"passengers\": 269}, {\"month\": \"May\", \"year\": 1955, \"passengers\": 270}, {\"month\": \"Jun\", \"year\": 1955, \"passengers\": 315}, {\"month\": \"Jul\", \"year\": 1955, \"passengers\": 364}, {\"month\": \"Aug\", \"year\": 1955, \"passengers\": 347}, {\"month\": \"Sep\", \"year\": 1955, \"passengers\": 312}, {\"month\": \"Oct\", \"year\": 1955, \"passengers\": 274}, {\"month\": \"Nov\", \"year\": 1955, \"passengers\": 237}, {\"month\": \"Dec\", \"year\": 1955, \"passengers\": 278}, {\"month\": \"Jan\", \"year\": 1956, \"passengers\": 284}, {\"month\": \"Feb\", \"year\": 1956, \"passengers\": 277}, {\"month\": \"Mar\", \"year\": 1956, \"passengers\": 317}, {\"month\": \"Apr\", \"year\": 1956, \"passengers\": 313}, {\"month\": \"May\", \"year\": 1956, \"passengers\": 318}, {\"month\": \"Jun\", \"year\": 1956, \"passengers\": 374}, {\"month\": \"Jul\", \"year\": 1956, \"passengers\": 413}, {\"month\": \"Aug\", \"year\": 1956, \"passengers\": 405}, {\"month\": \"Sep\", \"year\": 1956, \"passengers\": 355}, {\"month\": \"Oct\", \"year\": 1956, \"passengers\": 306}, {\"month\": \"Nov\", \"year\": 1956, \"passengers\": 271}, {\"month\": \"Dec\", \"year\": 1956, \"passengers\": 306}, {\"month\": \"Jan\", \"year\": 1957, \"passengers\": 315}, {\"month\": \"Feb\", \"year\": 1957, \"passengers\": 301}, {\"month\": \"Mar\", \"year\": 1957, \"passengers\": 356}, {\"month\": \"Apr\", \"year\": 1957, \"passengers\": 348}, {\"month\": \"May\", \"year\": 1957, \"passengers\": 355}, {\"month\": \"Jun\", \"year\": 1957, \"passengers\": 422}, {\"month\": \"Jul\", \"year\": 1957, \"passengers\": 465}, {\"month\": \"Aug\", \"year\": 1957, \"passengers\": 467}, {\"month\": \"Sep\", \"year\": 1957, \"passengers\": 404}, {\"month\": \"Oct\", \"year\": 1957, \"passengers\": 347}, {\"month\": \"Nov\", \"year\": 1957, \"passengers\": 305}, {\"month\": \"Dec\", \"year\": 1957, \"passengers\": 336}, {\"month\": \"Jan\", \"year\": 1958, \"passengers\": 340}, {\"month\": \"Feb\", \"year\": 1958, \"passengers\": 318}, {\"month\": \"Mar\", \"year\": 1958, \"passengers\": 362}, {\"month\": \"Apr\", \"year\": 1958, \"passengers\": 348}, {\"month\": \"May\", \"year\": 1958, \"passengers\": 363}, {\"month\": \"Jun\", \"year\": 1958, \"passengers\": 435}, {\"month\": \"Jul\", \"year\": 1958, \"passengers\": 491}, {\"month\": \"Aug\", \"year\": 1958, \"passengers\": 505}, {\"month\": \"Sep\", \"year\": 1958, \"passengers\": 404}, {\"month\": \"Oct\", \"year\": 1958, \"passengers\": 359}, {\"month\": \"Nov\", \"year\": 1958, \"passengers\": 310}, {\"month\": \"Dec\", \"year\": 1958, \"passengers\": 337}, {\"month\": \"Jan\", \"year\": 1959, \"passengers\": 360}, {\"month\": \"Feb\", \"year\": 1959, \"passengers\": 342}, {\"month\": \"Mar\", \"year\": 1959, \"passengers\": 406}, {\"month\": \"Apr\", \"year\": 1959, \"passengers\": 396}, {\"month\": \"May\", \"year\": 1959, \"passengers\": 420}, {\"month\": \"Jun\", \"year\": 1959, \"passengers\": 472}, {\"month\": \"Jul\", \"year\": 1959, \"passengers\": 548}, {\"month\": \"Aug\", \"year\": 1959, \"passengers\": 559}, {\"month\": \"Sep\", \"year\": 1959, \"passengers\": 463}, {\"month\": \"Oct\", \"year\": 1959, \"passengers\": 407}, {\"month\": \"Nov\", \"year\": 1959, \"passengers\": 362}, {\"month\": \"Dec\", \"year\": 1959, \"passengers\": 405}, {\"month\": \"Jan\", \"year\": 1960, \"passengers\": 417}, {\"month\": \"Feb\", \"year\": 1960, \"passengers\": 391}, {\"month\": \"Mar\", \"year\": 1960, \"passengers\": 419}, {\"month\": \"Apr\", \"year\": 1960, \"passengers\": 461}, {\"month\": \"May\", \"year\": 1960, \"passengers\": 472}, {\"month\": \"Jun\", \"year\": 1960, \"passengers\": 535}, {\"month\": \"Jul\", \"year\": 1960, \"passengers\": 622}, {\"month\": \"Aug\", \"year\": 1960, \"passengers\": 606}, {\"month\": \"Sep\", \"year\": 1960, \"passengers\": 508}, {\"month\": \"Oct\", \"year\": 1960, \"passengers\": 461}, {\"month\": \"Nov\", \"year\": 1960, \"passengers\": 390}, {\"month\": \"Dec\", \"year\": 1960, \"passengers\": 432}]}}, {\"mode\": \"vega-lite\"});\n",
       "</script>"
      ],
      "text/plain": [
       "alt.Chart(...)"
      ]
     },
     "execution_count": 2,
     "metadata": {},
     "output_type": "execute_result"
    }
   ],
   "source": [
    "import altair as alt\n",
    "import pandas as pd\n",
    "import seaborn as sns\n",
    "\n",
    "import warnings\n",
    "warnings.filterwarnings(\"ignore\", message=\".*convert_dtype parameter is deprecated.*\")\n",
    "\n",
    "# Cargar los datos\n",
    "flights = sns.load_dataset(\"flights\")\n",
    "flights = flights.pivot(index=\"month\", columns=\"year\", values=\"passengers\").reset_index()\n",
    "flights = flights.melt(id_vars=\"month\", var_name=\"year\", value_name=\"passengers\")\n",
    "\n",
    "# Crear el mapa de calor\n",
    "heatmap = alt.Chart(flights).mark_rect().encode(\n",
    "    x='year:O',\n",
    "    y='month:O',\n",
    "    color='passengers:Q'\n",
    ").properties(\n",
    "    width=600,\n",
    "    height=400,\n",
    "    title=\"Mapa de Calor de Número de Pasajeros\"\n",
    ")\n",
    "\n",
    "# Mostrar el gráfico\n",
    "heatmap"
   ]
  },
  {
   "cell_type": "markdown",
   "id": "7b9fb4c6-51bc-40fc-bf77-f4efcaa1bd33",
   "metadata": {
    "jp-MarkdownHeadingCollapsed": true
   },
   "source": [
    "2. **Mapa de calor con paleta de colores personalizada**:"
   ]
  },
  {
   "cell_type": "code",
   "execution_count": 3,
   "id": "ca70a105-d7d0-487d-af12-8e1ec305da3f",
   "metadata": {},
   "outputs": [
    {
     "data": {
      "text/html": [
       "\n",
       "<div id=\"altair-viz-41fbba763070427f8194318f2a44a469\"></div>\n",
       "<script type=\"text/javascript\">\n",
       "  var VEGA_DEBUG = (typeof VEGA_DEBUG == \"undefined\") ? {} : VEGA_DEBUG;\n",
       "  (function(spec, embedOpt){\n",
       "    let outputDiv = document.currentScript.previousElementSibling;\n",
       "    if (outputDiv.id !== \"altair-viz-41fbba763070427f8194318f2a44a469\") {\n",
       "      outputDiv = document.getElementById(\"altair-viz-41fbba763070427f8194318f2a44a469\");\n",
       "    }\n",
       "    const paths = {\n",
       "      \"vega\": \"https://cdn.jsdelivr.net/npm//vega@5?noext\",\n",
       "      \"vega-lib\": \"https://cdn.jsdelivr.net/npm//vega-lib?noext\",\n",
       "      \"vega-lite\": \"https://cdn.jsdelivr.net/npm//vega-lite@4.17.0?noext\",\n",
       "      \"vega-embed\": \"https://cdn.jsdelivr.net/npm//vega-embed@6?noext\",\n",
       "    };\n",
       "\n",
       "    function maybeLoadScript(lib, version) {\n",
       "      var key = `${lib.replace(\"-\", \"\")}_version`;\n",
       "      return (VEGA_DEBUG[key] == version) ?\n",
       "        Promise.resolve(paths[lib]) :\n",
       "        new Promise(function(resolve, reject) {\n",
       "          var s = document.createElement('script');\n",
       "          document.getElementsByTagName(\"head\")[0].appendChild(s);\n",
       "          s.async = true;\n",
       "          s.onload = () => {\n",
       "            VEGA_DEBUG[key] = version;\n",
       "            return resolve(paths[lib]);\n",
       "          };\n",
       "          s.onerror = () => reject(`Error loading script: ${paths[lib]}`);\n",
       "          s.src = paths[lib];\n",
       "        });\n",
       "    }\n",
       "\n",
       "    function showError(err) {\n",
       "      outputDiv.innerHTML = `<div class=\"error\" style=\"color:red;\">${err}</div>`;\n",
       "      throw err;\n",
       "    }\n",
       "\n",
       "    function displayChart(vegaEmbed) {\n",
       "      vegaEmbed(outputDiv, spec, embedOpt)\n",
       "        .catch(err => showError(`Javascript Error: ${err.message}<br>This usually means there's a typo in your chart specification. See the javascript console for the full traceback.`));\n",
       "    }\n",
       "\n",
       "    if(typeof define === \"function\" && define.amd) {\n",
       "      requirejs.config({paths});\n",
       "      require([\"vega-embed\"], displayChart, err => showError(`Error loading script: ${err.message}`));\n",
       "    } else {\n",
       "      maybeLoadScript(\"vega\", \"5\")\n",
       "        .then(() => maybeLoadScript(\"vega-lite\", \"4.17.0\"))\n",
       "        .then(() => maybeLoadScript(\"vega-embed\", \"6\"))\n",
       "        .catch(showError)\n",
       "        .then(() => displayChart(vegaEmbed));\n",
       "    }\n",
       "  })({\"config\": {\"view\": {\"continuousWidth\": 400, \"continuousHeight\": 300}}, \"data\": {\"name\": \"data-f53abae243b294a7469b292a618d09d0\"}, \"mark\": \"rect\", \"encoding\": {\"color\": {\"field\": \"passengers\", \"scale\": {\"scheme\": \"yellowgreenblue\"}, \"type\": \"quantitative\"}, \"x\": {\"field\": \"year\", \"type\": \"ordinal\"}, \"y\": {\"field\": \"month\", \"type\": \"ordinal\"}}, \"height\": 400, \"title\": \"Mapa de Calor con Paleta de Colores Personalizada\", \"width\": 600, \"$schema\": \"https://vega.github.io/schema/vega-lite/v4.17.0.json\", \"datasets\": {\"data-f53abae243b294a7469b292a618d09d0\": [{\"month\": \"Jan\", \"year\": 1949, \"passengers\": 112}, {\"month\": \"Feb\", \"year\": 1949, \"passengers\": 118}, {\"month\": \"Mar\", \"year\": 1949, \"passengers\": 132}, {\"month\": \"Apr\", \"year\": 1949, \"passengers\": 129}, {\"month\": \"May\", \"year\": 1949, \"passengers\": 121}, {\"month\": \"Jun\", \"year\": 1949, \"passengers\": 135}, {\"month\": \"Jul\", \"year\": 1949, \"passengers\": 148}, {\"month\": \"Aug\", \"year\": 1949, \"passengers\": 148}, {\"month\": \"Sep\", \"year\": 1949, \"passengers\": 136}, {\"month\": \"Oct\", \"year\": 1949, \"passengers\": 119}, {\"month\": \"Nov\", \"year\": 1949, \"passengers\": 104}, {\"month\": \"Dec\", \"year\": 1949, \"passengers\": 118}, {\"month\": \"Jan\", \"year\": 1950, \"passengers\": 115}, {\"month\": \"Feb\", \"year\": 1950, \"passengers\": 126}, {\"month\": \"Mar\", \"year\": 1950, \"passengers\": 141}, {\"month\": \"Apr\", \"year\": 1950, \"passengers\": 135}, {\"month\": \"May\", \"year\": 1950, \"passengers\": 125}, {\"month\": \"Jun\", \"year\": 1950, \"passengers\": 149}, {\"month\": \"Jul\", \"year\": 1950, \"passengers\": 170}, {\"month\": \"Aug\", \"year\": 1950, \"passengers\": 170}, {\"month\": \"Sep\", \"year\": 1950, \"passengers\": 158}, {\"month\": \"Oct\", \"year\": 1950, \"passengers\": 133}, {\"month\": \"Nov\", \"year\": 1950, \"passengers\": 114}, {\"month\": \"Dec\", \"year\": 1950, \"passengers\": 140}, {\"month\": \"Jan\", \"year\": 1951, \"passengers\": 145}, {\"month\": \"Feb\", \"year\": 1951, \"passengers\": 150}, {\"month\": \"Mar\", \"year\": 1951, \"passengers\": 178}, {\"month\": \"Apr\", \"year\": 1951, \"passengers\": 163}, {\"month\": \"May\", \"year\": 1951, \"passengers\": 172}, {\"month\": \"Jun\", \"year\": 1951, \"passengers\": 178}, {\"month\": \"Jul\", \"year\": 1951, \"passengers\": 199}, {\"month\": \"Aug\", \"year\": 1951, \"passengers\": 199}, {\"month\": \"Sep\", \"year\": 1951, \"passengers\": 184}, {\"month\": \"Oct\", \"year\": 1951, \"passengers\": 162}, {\"month\": \"Nov\", \"year\": 1951, \"passengers\": 146}, {\"month\": \"Dec\", \"year\": 1951, \"passengers\": 166}, {\"month\": \"Jan\", \"year\": 1952, \"passengers\": 171}, {\"month\": \"Feb\", \"year\": 1952, \"passengers\": 180}, {\"month\": \"Mar\", \"year\": 1952, \"passengers\": 193}, {\"month\": \"Apr\", \"year\": 1952, \"passengers\": 181}, {\"month\": \"May\", \"year\": 1952, \"passengers\": 183}, {\"month\": \"Jun\", \"year\": 1952, \"passengers\": 218}, {\"month\": \"Jul\", \"year\": 1952, \"passengers\": 230}, {\"month\": \"Aug\", \"year\": 1952, \"passengers\": 242}, {\"month\": \"Sep\", \"year\": 1952, \"passengers\": 209}, {\"month\": \"Oct\", \"year\": 1952, \"passengers\": 191}, {\"month\": \"Nov\", \"year\": 1952, \"passengers\": 172}, {\"month\": \"Dec\", \"year\": 1952, \"passengers\": 194}, {\"month\": \"Jan\", \"year\": 1953, \"passengers\": 196}, {\"month\": \"Feb\", \"year\": 1953, \"passengers\": 196}, {\"month\": \"Mar\", \"year\": 1953, \"passengers\": 236}, {\"month\": \"Apr\", \"year\": 1953, \"passengers\": 235}, {\"month\": \"May\", \"year\": 1953, \"passengers\": 229}, {\"month\": \"Jun\", \"year\": 1953, \"passengers\": 243}, {\"month\": \"Jul\", \"year\": 1953, \"passengers\": 264}, {\"month\": \"Aug\", \"year\": 1953, \"passengers\": 272}, {\"month\": \"Sep\", \"year\": 1953, \"passengers\": 237}, {\"month\": \"Oct\", \"year\": 1953, \"passengers\": 211}, {\"month\": \"Nov\", \"year\": 1953, \"passengers\": 180}, {\"month\": \"Dec\", \"year\": 1953, \"passengers\": 201}, {\"month\": \"Jan\", \"year\": 1954, \"passengers\": 204}, {\"month\": \"Feb\", \"year\": 1954, \"passengers\": 188}, {\"month\": \"Mar\", \"year\": 1954, \"passengers\": 235}, {\"month\": \"Apr\", \"year\": 1954, \"passengers\": 227}, {\"month\": \"May\", \"year\": 1954, \"passengers\": 234}, {\"month\": \"Jun\", \"year\": 1954, \"passengers\": 264}, {\"month\": \"Jul\", \"year\": 1954, \"passengers\": 302}, {\"month\": \"Aug\", \"year\": 1954, \"passengers\": 293}, {\"month\": \"Sep\", \"year\": 1954, \"passengers\": 259}, {\"month\": \"Oct\", \"year\": 1954, \"passengers\": 229}, {\"month\": \"Nov\", \"year\": 1954, \"passengers\": 203}, {\"month\": \"Dec\", \"year\": 1954, \"passengers\": 229}, {\"month\": \"Jan\", \"year\": 1955, \"passengers\": 242}, {\"month\": \"Feb\", \"year\": 1955, \"passengers\": 233}, {\"month\": \"Mar\", \"year\": 1955, \"passengers\": 267}, {\"month\": \"Apr\", \"year\": 1955, \"passengers\": 269}, {\"month\": \"May\", \"year\": 1955, \"passengers\": 270}, {\"month\": \"Jun\", \"year\": 1955, \"passengers\": 315}, {\"month\": \"Jul\", \"year\": 1955, \"passengers\": 364}, {\"month\": \"Aug\", \"year\": 1955, \"passengers\": 347}, {\"month\": \"Sep\", \"year\": 1955, \"passengers\": 312}, {\"month\": \"Oct\", \"year\": 1955, \"passengers\": 274}, {\"month\": \"Nov\", \"year\": 1955, \"passengers\": 237}, {\"month\": \"Dec\", \"year\": 1955, \"passengers\": 278}, {\"month\": \"Jan\", \"year\": 1956, \"passengers\": 284}, {\"month\": \"Feb\", \"year\": 1956, \"passengers\": 277}, {\"month\": \"Mar\", \"year\": 1956, \"passengers\": 317}, {\"month\": \"Apr\", \"year\": 1956, \"passengers\": 313}, {\"month\": \"May\", \"year\": 1956, \"passengers\": 318}, {\"month\": \"Jun\", \"year\": 1956, \"passengers\": 374}, {\"month\": \"Jul\", \"year\": 1956, \"passengers\": 413}, {\"month\": \"Aug\", \"year\": 1956, \"passengers\": 405}, {\"month\": \"Sep\", \"year\": 1956, \"passengers\": 355}, {\"month\": \"Oct\", \"year\": 1956, \"passengers\": 306}, {\"month\": \"Nov\", \"year\": 1956, \"passengers\": 271}, {\"month\": \"Dec\", \"year\": 1956, \"passengers\": 306}, {\"month\": \"Jan\", \"year\": 1957, \"passengers\": 315}, {\"month\": \"Feb\", \"year\": 1957, \"passengers\": 301}, {\"month\": \"Mar\", \"year\": 1957, \"passengers\": 356}, {\"month\": \"Apr\", \"year\": 1957, \"passengers\": 348}, {\"month\": \"May\", \"year\": 1957, \"passengers\": 355}, {\"month\": \"Jun\", \"year\": 1957, \"passengers\": 422}, {\"month\": \"Jul\", \"year\": 1957, \"passengers\": 465}, {\"month\": \"Aug\", \"year\": 1957, \"passengers\": 467}, {\"month\": \"Sep\", \"year\": 1957, \"passengers\": 404}, {\"month\": \"Oct\", \"year\": 1957, \"passengers\": 347}, {\"month\": \"Nov\", \"year\": 1957, \"passengers\": 305}, {\"month\": \"Dec\", \"year\": 1957, \"passengers\": 336}, {\"month\": \"Jan\", \"year\": 1958, \"passengers\": 340}, {\"month\": \"Feb\", \"year\": 1958, \"passengers\": 318}, {\"month\": \"Mar\", \"year\": 1958, \"passengers\": 362}, {\"month\": \"Apr\", \"year\": 1958, \"passengers\": 348}, {\"month\": \"May\", \"year\": 1958, \"passengers\": 363}, {\"month\": \"Jun\", \"year\": 1958, \"passengers\": 435}, {\"month\": \"Jul\", \"year\": 1958, \"passengers\": 491}, {\"month\": \"Aug\", \"year\": 1958, \"passengers\": 505}, {\"month\": \"Sep\", \"year\": 1958, \"passengers\": 404}, {\"month\": \"Oct\", \"year\": 1958, \"passengers\": 359}, {\"month\": \"Nov\", \"year\": 1958, \"passengers\": 310}, {\"month\": \"Dec\", \"year\": 1958, \"passengers\": 337}, {\"month\": \"Jan\", \"year\": 1959, \"passengers\": 360}, {\"month\": \"Feb\", \"year\": 1959, \"passengers\": 342}, {\"month\": \"Mar\", \"year\": 1959, \"passengers\": 406}, {\"month\": \"Apr\", \"year\": 1959, \"passengers\": 396}, {\"month\": \"May\", \"year\": 1959, \"passengers\": 420}, {\"month\": \"Jun\", \"year\": 1959, \"passengers\": 472}, {\"month\": \"Jul\", \"year\": 1959, \"passengers\": 548}, {\"month\": \"Aug\", \"year\": 1959, \"passengers\": 559}, {\"month\": \"Sep\", \"year\": 1959, \"passengers\": 463}, {\"month\": \"Oct\", \"year\": 1959, \"passengers\": 407}, {\"month\": \"Nov\", \"year\": 1959, \"passengers\": 362}, {\"month\": \"Dec\", \"year\": 1959, \"passengers\": 405}, {\"month\": \"Jan\", \"year\": 1960, \"passengers\": 417}, {\"month\": \"Feb\", \"year\": 1960, \"passengers\": 391}, {\"month\": \"Mar\", \"year\": 1960, \"passengers\": 419}, {\"month\": \"Apr\", \"year\": 1960, \"passengers\": 461}, {\"month\": \"May\", \"year\": 1960, \"passengers\": 472}, {\"month\": \"Jun\", \"year\": 1960, \"passengers\": 535}, {\"month\": \"Jul\", \"year\": 1960, \"passengers\": 622}, {\"month\": \"Aug\", \"year\": 1960, \"passengers\": 606}, {\"month\": \"Sep\", \"year\": 1960, \"passengers\": 508}, {\"month\": \"Oct\", \"year\": 1960, \"passengers\": 461}, {\"month\": \"Nov\", \"year\": 1960, \"passengers\": 390}, {\"month\": \"Dec\", \"year\": 1960, \"passengers\": 432}]}}, {\"mode\": \"vega-lite\"});\n",
       "</script>"
      ],
      "text/plain": [
       "alt.Chart(...)"
      ]
     },
     "execution_count": 3,
     "metadata": {},
     "output_type": "execute_result"
    }
   ],
   "source": [
    "import altair as alt\n",
    "import pandas as pd\n",
    "import seaborn as sns\n",
    "\n",
    "# Cargar los datos\n",
    "flights = sns.load_dataset(\"flights\")\n",
    "flights = flights.pivot(index=\"month\", columns=\"year\", values=\"passengers\").reset_index()\n",
    "flights = flights.melt(id_vars=\"month\", var_name=\"year\", value_name=\"passengers\")\n",
    "\n",
    "# Crear el mapa de calor con paleta de colores personalizada\n",
    "heatmap = alt.Chart(flights).mark_rect().encode(\n",
    "    x='year:O',\n",
    "    y='month:O',\n",
    "    color=alt.Color('passengers:Q', scale=alt.Scale(scheme='yellowgreenblue'))\n",
    ").properties(\n",
    "    width=600,\n",
    "    height=400,\n",
    "    title=\"Mapa de Calor con Paleta de Colores Personalizada\"\n",
    ")\n",
    "\n",
    "# Mostrar el gráfico\n",
    "heatmap"
   ]
  },
  {
   "cell_type": "markdown",
   "id": "d0deffe3-4b66-4b4d-973b-b73070fd23ab",
   "metadata": {
    "jp-MarkdownHeadingCollapsed": true
   },
   "source": [
    "3. **Mapa de calor con anotaciones y etiquetas de ejes personalizadas**:"
   ]
  },
  {
   "cell_type": "code",
   "execution_count": 4,
   "id": "4f0fc57f-de42-4cae-8c03-5e0d90442f49",
   "metadata": {},
   "outputs": [
    {
     "data": {
      "text/html": [
       "\n",
       "<div id=\"altair-viz-a478d73abb82449285f56864e9f6515d\"></div>\n",
       "<script type=\"text/javascript\">\n",
       "  var VEGA_DEBUG = (typeof VEGA_DEBUG == \"undefined\") ? {} : VEGA_DEBUG;\n",
       "  (function(spec, embedOpt){\n",
       "    let outputDiv = document.currentScript.previousElementSibling;\n",
       "    if (outputDiv.id !== \"altair-viz-a478d73abb82449285f56864e9f6515d\") {\n",
       "      outputDiv = document.getElementById(\"altair-viz-a478d73abb82449285f56864e9f6515d\");\n",
       "    }\n",
       "    const paths = {\n",
       "      \"vega\": \"https://cdn.jsdelivr.net/npm//vega@5?noext\",\n",
       "      \"vega-lib\": \"https://cdn.jsdelivr.net/npm//vega-lib?noext\",\n",
       "      \"vega-lite\": \"https://cdn.jsdelivr.net/npm//vega-lite@4.17.0?noext\",\n",
       "      \"vega-embed\": \"https://cdn.jsdelivr.net/npm//vega-embed@6?noext\",\n",
       "    };\n",
       "\n",
       "    function maybeLoadScript(lib, version) {\n",
       "      var key = `${lib.replace(\"-\", \"\")}_version`;\n",
       "      return (VEGA_DEBUG[key] == version) ?\n",
       "        Promise.resolve(paths[lib]) :\n",
       "        new Promise(function(resolve, reject) {\n",
       "          var s = document.createElement('script');\n",
       "          document.getElementsByTagName(\"head\")[0].appendChild(s);\n",
       "          s.async = true;\n",
       "          s.onload = () => {\n",
       "            VEGA_DEBUG[key] = version;\n",
       "            return resolve(paths[lib]);\n",
       "          };\n",
       "          s.onerror = () => reject(`Error loading script: ${paths[lib]}`);\n",
       "          s.src = paths[lib];\n",
       "        });\n",
       "    }\n",
       "\n",
       "    function showError(err) {\n",
       "      outputDiv.innerHTML = `<div class=\"error\" style=\"color:red;\">${err}</div>`;\n",
       "      throw err;\n",
       "    }\n",
       "\n",
       "    function displayChart(vegaEmbed) {\n",
       "      vegaEmbed(outputDiv, spec, embedOpt)\n",
       "        .catch(err => showError(`Javascript Error: ${err.message}<br>This usually means there's a typo in your chart specification. See the javascript console for the full traceback.`));\n",
       "    }\n",
       "\n",
       "    if(typeof define === \"function\" && define.amd) {\n",
       "      requirejs.config({paths});\n",
       "      require([\"vega-embed\"], displayChart, err => showError(`Error loading script: ${err.message}`));\n",
       "    } else {\n",
       "      maybeLoadScript(\"vega\", \"5\")\n",
       "        .then(() => maybeLoadScript(\"vega-lite\", \"4.17.0\"))\n",
       "        .then(() => maybeLoadScript(\"vega-embed\", \"6\"))\n",
       "        .catch(showError)\n",
       "        .then(() => displayChart(vegaEmbed));\n",
       "    }\n",
       "  })({\"config\": {\"view\": {\"continuousWidth\": 400, \"continuousHeight\": 300}}, \"layer\": [{\"mark\": \"rect\", \"encoding\": {\"color\": {\"field\": \"passengers\", \"type\": \"quantitative\"}, \"x\": {\"field\": \"year\", \"type\": \"ordinal\"}, \"y\": {\"field\": \"month\", \"type\": \"ordinal\"}}, \"height\": 400, \"title\": \"Mapa de Calor con Anotaciones y Etiquetas Personalizadas\", \"width\": 600}, {\"mark\": {\"type\": \"text\", \"baseline\": \"middle\"}, \"encoding\": {\"color\": {\"field\": \"passengers\", \"type\": \"quantitative\"}, \"text\": {\"field\": \"passengers\", \"format\": \"d\", \"type\": \"quantitative\"}, \"x\": {\"field\": \"year\", \"type\": \"ordinal\"}, \"y\": {\"field\": \"month\", \"type\": \"ordinal\"}}, \"height\": 400, \"title\": \"Mapa de Calor con Anotaciones y Etiquetas Personalizadas\", \"width\": 600}], \"data\": {\"name\": \"data-f53abae243b294a7469b292a618d09d0\"}, \"$schema\": \"https://vega.github.io/schema/vega-lite/v4.17.0.json\", \"datasets\": {\"data-f53abae243b294a7469b292a618d09d0\": [{\"month\": \"Jan\", \"year\": 1949, \"passengers\": 112}, {\"month\": \"Feb\", \"year\": 1949, \"passengers\": 118}, {\"month\": \"Mar\", \"year\": 1949, \"passengers\": 132}, {\"month\": \"Apr\", \"year\": 1949, \"passengers\": 129}, {\"month\": \"May\", \"year\": 1949, \"passengers\": 121}, {\"month\": \"Jun\", \"year\": 1949, \"passengers\": 135}, {\"month\": \"Jul\", \"year\": 1949, \"passengers\": 148}, {\"month\": \"Aug\", \"year\": 1949, \"passengers\": 148}, {\"month\": \"Sep\", \"year\": 1949, \"passengers\": 136}, {\"month\": \"Oct\", \"year\": 1949, \"passengers\": 119}, {\"month\": \"Nov\", \"year\": 1949, \"passengers\": 104}, {\"month\": \"Dec\", \"year\": 1949, \"passengers\": 118}, {\"month\": \"Jan\", \"year\": 1950, \"passengers\": 115}, {\"month\": \"Feb\", \"year\": 1950, \"passengers\": 126}, {\"month\": \"Mar\", \"year\": 1950, \"passengers\": 141}, {\"month\": \"Apr\", \"year\": 1950, \"passengers\": 135}, {\"month\": \"May\", \"year\": 1950, \"passengers\": 125}, {\"month\": \"Jun\", \"year\": 1950, \"passengers\": 149}, {\"month\": \"Jul\", \"year\": 1950, \"passengers\": 170}, {\"month\": \"Aug\", \"year\": 1950, \"passengers\": 170}, {\"month\": \"Sep\", \"year\": 1950, \"passengers\": 158}, {\"month\": \"Oct\", \"year\": 1950, \"passengers\": 133}, {\"month\": \"Nov\", \"year\": 1950, \"passengers\": 114}, {\"month\": \"Dec\", \"year\": 1950, \"passengers\": 140}, {\"month\": \"Jan\", \"year\": 1951, \"passengers\": 145}, {\"month\": \"Feb\", \"year\": 1951, \"passengers\": 150}, {\"month\": \"Mar\", \"year\": 1951, \"passengers\": 178}, {\"month\": \"Apr\", \"year\": 1951, \"passengers\": 163}, {\"month\": \"May\", \"year\": 1951, \"passengers\": 172}, {\"month\": \"Jun\", \"year\": 1951, \"passengers\": 178}, {\"month\": \"Jul\", \"year\": 1951, \"passengers\": 199}, {\"month\": \"Aug\", \"year\": 1951, \"passengers\": 199}, {\"month\": \"Sep\", \"year\": 1951, \"passengers\": 184}, {\"month\": \"Oct\", \"year\": 1951, \"passengers\": 162}, {\"month\": \"Nov\", \"year\": 1951, \"passengers\": 146}, {\"month\": \"Dec\", \"year\": 1951, \"passengers\": 166}, {\"month\": \"Jan\", \"year\": 1952, \"passengers\": 171}, {\"month\": \"Feb\", \"year\": 1952, \"passengers\": 180}, {\"month\": \"Mar\", \"year\": 1952, \"passengers\": 193}, {\"month\": \"Apr\", \"year\": 1952, \"passengers\": 181}, {\"month\": \"May\", \"year\": 1952, \"passengers\": 183}, {\"month\": \"Jun\", \"year\": 1952, \"passengers\": 218}, {\"month\": \"Jul\", \"year\": 1952, \"passengers\": 230}, {\"month\": \"Aug\", \"year\": 1952, \"passengers\": 242}, {\"month\": \"Sep\", \"year\": 1952, \"passengers\": 209}, {\"month\": \"Oct\", \"year\": 1952, \"passengers\": 191}, {\"month\": \"Nov\", \"year\": 1952, \"passengers\": 172}, {\"month\": \"Dec\", \"year\": 1952, \"passengers\": 194}, {\"month\": \"Jan\", \"year\": 1953, \"passengers\": 196}, {\"month\": \"Feb\", \"year\": 1953, \"passengers\": 196}, {\"month\": \"Mar\", \"year\": 1953, \"passengers\": 236}, {\"month\": \"Apr\", \"year\": 1953, \"passengers\": 235}, {\"month\": \"May\", \"year\": 1953, \"passengers\": 229}, {\"month\": \"Jun\", \"year\": 1953, \"passengers\": 243}, {\"month\": \"Jul\", \"year\": 1953, \"passengers\": 264}, {\"month\": \"Aug\", \"year\": 1953, \"passengers\": 272}, {\"month\": \"Sep\", \"year\": 1953, \"passengers\": 237}, {\"month\": \"Oct\", \"year\": 1953, \"passengers\": 211}, {\"month\": \"Nov\", \"year\": 1953, \"passengers\": 180}, {\"month\": \"Dec\", \"year\": 1953, \"passengers\": 201}, {\"month\": \"Jan\", \"year\": 1954, \"passengers\": 204}, {\"month\": \"Feb\", \"year\": 1954, \"passengers\": 188}, {\"month\": \"Mar\", \"year\": 1954, \"passengers\": 235}, {\"month\": \"Apr\", \"year\": 1954, \"passengers\": 227}, {\"month\": \"May\", \"year\": 1954, \"passengers\": 234}, {\"month\": \"Jun\", \"year\": 1954, \"passengers\": 264}, {\"month\": \"Jul\", \"year\": 1954, \"passengers\": 302}, {\"month\": \"Aug\", \"year\": 1954, \"passengers\": 293}, {\"month\": \"Sep\", \"year\": 1954, \"passengers\": 259}, {\"month\": \"Oct\", \"year\": 1954, \"passengers\": 229}, {\"month\": \"Nov\", \"year\": 1954, \"passengers\": 203}, {\"month\": \"Dec\", \"year\": 1954, \"passengers\": 229}, {\"month\": \"Jan\", \"year\": 1955, \"passengers\": 242}, {\"month\": \"Feb\", \"year\": 1955, \"passengers\": 233}, {\"month\": \"Mar\", \"year\": 1955, \"passengers\": 267}, {\"month\": \"Apr\", \"year\": 1955, \"passengers\": 269}, {\"month\": \"May\", \"year\": 1955, \"passengers\": 270}, {\"month\": \"Jun\", \"year\": 1955, \"passengers\": 315}, {\"month\": \"Jul\", \"year\": 1955, \"passengers\": 364}, {\"month\": \"Aug\", \"year\": 1955, \"passengers\": 347}, {\"month\": \"Sep\", \"year\": 1955, \"passengers\": 312}, {\"month\": \"Oct\", \"year\": 1955, \"passengers\": 274}, {\"month\": \"Nov\", \"year\": 1955, \"passengers\": 237}, {\"month\": \"Dec\", \"year\": 1955, \"passengers\": 278}, {\"month\": \"Jan\", \"year\": 1956, \"passengers\": 284}, {\"month\": \"Feb\", \"year\": 1956, \"passengers\": 277}, {\"month\": \"Mar\", \"year\": 1956, \"passengers\": 317}, {\"month\": \"Apr\", \"year\": 1956, \"passengers\": 313}, {\"month\": \"May\", \"year\": 1956, \"passengers\": 318}, {\"month\": \"Jun\", \"year\": 1956, \"passengers\": 374}, {\"month\": \"Jul\", \"year\": 1956, \"passengers\": 413}, {\"month\": \"Aug\", \"year\": 1956, \"passengers\": 405}, {\"month\": \"Sep\", \"year\": 1956, \"passengers\": 355}, {\"month\": \"Oct\", \"year\": 1956, \"passengers\": 306}, {\"month\": \"Nov\", \"year\": 1956, \"passengers\": 271}, {\"month\": \"Dec\", \"year\": 1956, \"passengers\": 306}, {\"month\": \"Jan\", \"year\": 1957, \"passengers\": 315}, {\"month\": \"Feb\", \"year\": 1957, \"passengers\": 301}, {\"month\": \"Mar\", \"year\": 1957, \"passengers\": 356}, {\"month\": \"Apr\", \"year\": 1957, \"passengers\": 348}, {\"month\": \"May\", \"year\": 1957, \"passengers\": 355}, {\"month\": \"Jun\", \"year\": 1957, \"passengers\": 422}, {\"month\": \"Jul\", \"year\": 1957, \"passengers\": 465}, {\"month\": \"Aug\", \"year\": 1957, \"passengers\": 467}, {\"month\": \"Sep\", \"year\": 1957, \"passengers\": 404}, {\"month\": \"Oct\", \"year\": 1957, \"passengers\": 347}, {\"month\": \"Nov\", \"year\": 1957, \"passengers\": 305}, {\"month\": \"Dec\", \"year\": 1957, \"passengers\": 336}, {\"month\": \"Jan\", \"year\": 1958, \"passengers\": 340}, {\"month\": \"Feb\", \"year\": 1958, \"passengers\": 318}, {\"month\": \"Mar\", \"year\": 1958, \"passengers\": 362}, {\"month\": \"Apr\", \"year\": 1958, \"passengers\": 348}, {\"month\": \"May\", \"year\": 1958, \"passengers\": 363}, {\"month\": \"Jun\", \"year\": 1958, \"passengers\": 435}, {\"month\": \"Jul\", \"year\": 1958, \"passengers\": 491}, {\"month\": \"Aug\", \"year\": 1958, \"passengers\": 505}, {\"month\": \"Sep\", \"year\": 1958, \"passengers\": 404}, {\"month\": \"Oct\", \"year\": 1958, \"passengers\": 359}, {\"month\": \"Nov\", \"year\": 1958, \"passengers\": 310}, {\"month\": \"Dec\", \"year\": 1958, \"passengers\": 337}, {\"month\": \"Jan\", \"year\": 1959, \"passengers\": 360}, {\"month\": \"Feb\", \"year\": 1959, \"passengers\": 342}, {\"month\": \"Mar\", \"year\": 1959, \"passengers\": 406}, {\"month\": \"Apr\", \"year\": 1959, \"passengers\": 396}, {\"month\": \"May\", \"year\": 1959, \"passengers\": 420}, {\"month\": \"Jun\", \"year\": 1959, \"passengers\": 472}, {\"month\": \"Jul\", \"year\": 1959, \"passengers\": 548}, {\"month\": \"Aug\", \"year\": 1959, \"passengers\": 559}, {\"month\": \"Sep\", \"year\": 1959, \"passengers\": 463}, {\"month\": \"Oct\", \"year\": 1959, \"passengers\": 407}, {\"month\": \"Nov\", \"year\": 1959, \"passengers\": 362}, {\"month\": \"Dec\", \"year\": 1959, \"passengers\": 405}, {\"month\": \"Jan\", \"year\": 1960, \"passengers\": 417}, {\"month\": \"Feb\", \"year\": 1960, \"passengers\": 391}, {\"month\": \"Mar\", \"year\": 1960, \"passengers\": 419}, {\"month\": \"Apr\", \"year\": 1960, \"passengers\": 461}, {\"month\": \"May\", \"year\": 1960, \"passengers\": 472}, {\"month\": \"Jun\", \"year\": 1960, \"passengers\": 535}, {\"month\": \"Jul\", \"year\": 1960, \"passengers\": 622}, {\"month\": \"Aug\", \"year\": 1960, \"passengers\": 606}, {\"month\": \"Sep\", \"year\": 1960, \"passengers\": 508}, {\"month\": \"Oct\", \"year\": 1960, \"passengers\": 461}, {\"month\": \"Nov\", \"year\": 1960, \"passengers\": 390}, {\"month\": \"Dec\", \"year\": 1960, \"passengers\": 432}]}}, {\"mode\": \"vega-lite\"});\n",
       "</script>"
      ],
      "text/plain": [
       "alt.LayerChart(...)"
      ]
     },
     "execution_count": 4,
     "metadata": {},
     "output_type": "execute_result"
    }
   ],
   "source": [
    "import altair as alt\n",
    "import pandas as pd\n",
    "import seaborn as sns\n",
    "\n",
    "# Cargar los datos\n",
    "flights = sns.load_dataset(\"flights\")\n",
    "flights = flights.pivot(index=\"month\", columns=\"year\", values=\"passengers\").reset_index()\n",
    "flights = flights.melt(id_vars=\"month\", var_name=\"year\", value_name=\"passengers\")\n",
    "\n",
    "# Crear el mapa de calor con anotaciones y etiquetas de ejes personalizadas\n",
    "heatmap = alt.Chart(flights).mark_rect().encode(\n",
    "    x='year:O',\n",
    "    y='month:O',\n",
    "    color='passengers:Q'\n",
    ").properties(\n",
    "    width=600,\n",
    "    height=400,\n",
    "    title=\"Mapa de Calor con Anotaciones y Etiquetas Personalizadas\"\n",
    ")\n",
    "\n",
    "text = heatmap.mark_text(baseline='middle').encode(\n",
    "    text=alt.Text('passengers:Q', format='d')\n",
    ")\n",
    "\n",
    "# Mostrar el gráfico combinado\n",
    "heatmap + text"
   ]
  },
  {
   "cell_type": "markdown",
   "id": "c4ba017b-5437-4345-b5ee-1c12fb05f6ce",
   "metadata": {
    "jp-MarkdownHeadingCollapsed": true
   },
   "source": [
    "4. **Mapa de calor con barra de color personalizada y límites de valores**:"
   ]
  },
  {
   "cell_type": "code",
   "execution_count": 5,
   "id": "e998a657-c7f1-4f79-9999-34252233a38b",
   "metadata": {},
   "outputs": [
    {
     "data": {
      "text/html": [
       "\n",
       "<div id=\"altair-viz-582725351335450d83f615703beb27c5\"></div>\n",
       "<script type=\"text/javascript\">\n",
       "  var VEGA_DEBUG = (typeof VEGA_DEBUG == \"undefined\") ? {} : VEGA_DEBUG;\n",
       "  (function(spec, embedOpt){\n",
       "    let outputDiv = document.currentScript.previousElementSibling;\n",
       "    if (outputDiv.id !== \"altair-viz-582725351335450d83f615703beb27c5\") {\n",
       "      outputDiv = document.getElementById(\"altair-viz-582725351335450d83f615703beb27c5\");\n",
       "    }\n",
       "    const paths = {\n",
       "      \"vega\": \"https://cdn.jsdelivr.net/npm//vega@5?noext\",\n",
       "      \"vega-lib\": \"https://cdn.jsdelivr.net/npm//vega-lib?noext\",\n",
       "      \"vega-lite\": \"https://cdn.jsdelivr.net/npm//vega-lite@4.17.0?noext\",\n",
       "      \"vega-embed\": \"https://cdn.jsdelivr.net/npm//vega-embed@6?noext\",\n",
       "    };\n",
       "\n",
       "    function maybeLoadScript(lib, version) {\n",
       "      var key = `${lib.replace(\"-\", \"\")}_version`;\n",
       "      return (VEGA_DEBUG[key] == version) ?\n",
       "        Promise.resolve(paths[lib]) :\n",
       "        new Promise(function(resolve, reject) {\n",
       "          var s = document.createElement('script');\n",
       "          document.getElementsByTagName(\"head\")[0].appendChild(s);\n",
       "          s.async = true;\n",
       "          s.onload = () => {\n",
       "            VEGA_DEBUG[key] = version;\n",
       "            return resolve(paths[lib]);\n",
       "          };\n",
       "          s.onerror = () => reject(`Error loading script: ${paths[lib]}`);\n",
       "          s.src = paths[lib];\n",
       "        });\n",
       "    }\n",
       "\n",
       "    function showError(err) {\n",
       "      outputDiv.innerHTML = `<div class=\"error\" style=\"color:red;\">${err}</div>`;\n",
       "      throw err;\n",
       "    }\n",
       "\n",
       "    function displayChart(vegaEmbed) {\n",
       "      vegaEmbed(outputDiv, spec, embedOpt)\n",
       "        .catch(err => showError(`Javascript Error: ${err.message}<br>This usually means there's a typo in your chart specification. See the javascript console for the full traceback.`));\n",
       "    }\n",
       "\n",
       "    if(typeof define === \"function\" && define.amd) {\n",
       "      requirejs.config({paths});\n",
       "      require([\"vega-embed\"], displayChart, err => showError(`Error loading script: ${err.message}`));\n",
       "    } else {\n",
       "      maybeLoadScript(\"vega\", \"5\")\n",
       "        .then(() => maybeLoadScript(\"vega-lite\", \"4.17.0\"))\n",
       "        .then(() => maybeLoadScript(\"vega-embed\", \"6\"))\n",
       "        .catch(showError)\n",
       "        .then(() => displayChart(vegaEmbed));\n",
       "    }\n",
       "  })({\"config\": {\"view\": {\"continuousWidth\": 400, \"continuousHeight\": 300}}, \"data\": {\"name\": \"data-f53abae243b294a7469b292a618d09d0\"}, \"mark\": \"rect\", \"encoding\": {\"color\": {\"field\": \"passengers\", \"scale\": {\"domain\": [100, 650], \"scheme\": \"yellowgreenblue\"}, \"title\": \"N\\u00famero de Pasajeros\", \"type\": \"quantitative\"}, \"x\": {\"field\": \"year\", \"type\": \"ordinal\"}, \"y\": {\"field\": \"month\", \"type\": \"ordinal\"}}, \"height\": 400, \"title\": \"Mapa de Calor con Barra de Color y L\\u00edmites de Valores\", \"width\": 600, \"$schema\": \"https://vega.github.io/schema/vega-lite/v4.17.0.json\", \"datasets\": {\"data-f53abae243b294a7469b292a618d09d0\": [{\"month\": \"Jan\", \"year\": 1949, \"passengers\": 112}, {\"month\": \"Feb\", \"year\": 1949, \"passengers\": 118}, {\"month\": \"Mar\", \"year\": 1949, \"passengers\": 132}, {\"month\": \"Apr\", \"year\": 1949, \"passengers\": 129}, {\"month\": \"May\", \"year\": 1949, \"passengers\": 121}, {\"month\": \"Jun\", \"year\": 1949, \"passengers\": 135}, {\"month\": \"Jul\", \"year\": 1949, \"passengers\": 148}, {\"month\": \"Aug\", \"year\": 1949, \"passengers\": 148}, {\"month\": \"Sep\", \"year\": 1949, \"passengers\": 136}, {\"month\": \"Oct\", \"year\": 1949, \"passengers\": 119}, {\"month\": \"Nov\", \"year\": 1949, \"passengers\": 104}, {\"month\": \"Dec\", \"year\": 1949, \"passengers\": 118}, {\"month\": \"Jan\", \"year\": 1950, \"passengers\": 115}, {\"month\": \"Feb\", \"year\": 1950, \"passengers\": 126}, {\"month\": \"Mar\", \"year\": 1950, \"passengers\": 141}, {\"month\": \"Apr\", \"year\": 1950, \"passengers\": 135}, {\"month\": \"May\", \"year\": 1950, \"passengers\": 125}, {\"month\": \"Jun\", \"year\": 1950, \"passengers\": 149}, {\"month\": \"Jul\", \"year\": 1950, \"passengers\": 170}, {\"month\": \"Aug\", \"year\": 1950, \"passengers\": 170}, {\"month\": \"Sep\", \"year\": 1950, \"passengers\": 158}, {\"month\": \"Oct\", \"year\": 1950, \"passengers\": 133}, {\"month\": \"Nov\", \"year\": 1950, \"passengers\": 114}, {\"month\": \"Dec\", \"year\": 1950, \"passengers\": 140}, {\"month\": \"Jan\", \"year\": 1951, \"passengers\": 145}, {\"month\": \"Feb\", \"year\": 1951, \"passengers\": 150}, {\"month\": \"Mar\", \"year\": 1951, \"passengers\": 178}, {\"month\": \"Apr\", \"year\": 1951, \"passengers\": 163}, {\"month\": \"May\", \"year\": 1951, \"passengers\": 172}, {\"month\": \"Jun\", \"year\": 1951, \"passengers\": 178}, {\"month\": \"Jul\", \"year\": 1951, \"passengers\": 199}, {\"month\": \"Aug\", \"year\": 1951, \"passengers\": 199}, {\"month\": \"Sep\", \"year\": 1951, \"passengers\": 184}, {\"month\": \"Oct\", \"year\": 1951, \"passengers\": 162}, {\"month\": \"Nov\", \"year\": 1951, \"passengers\": 146}, {\"month\": \"Dec\", \"year\": 1951, \"passengers\": 166}, {\"month\": \"Jan\", \"year\": 1952, \"passengers\": 171}, {\"month\": \"Feb\", \"year\": 1952, \"passengers\": 180}, {\"month\": \"Mar\", \"year\": 1952, \"passengers\": 193}, {\"month\": \"Apr\", \"year\": 1952, \"passengers\": 181}, {\"month\": \"May\", \"year\": 1952, \"passengers\": 183}, {\"month\": \"Jun\", \"year\": 1952, \"passengers\": 218}, {\"month\": \"Jul\", \"year\": 1952, \"passengers\": 230}, {\"month\": \"Aug\", \"year\": 1952, \"passengers\": 242}, {\"month\": \"Sep\", \"year\": 1952, \"passengers\": 209}, {\"month\": \"Oct\", \"year\": 1952, \"passengers\": 191}, {\"month\": \"Nov\", \"year\": 1952, \"passengers\": 172}, {\"month\": \"Dec\", \"year\": 1952, \"passengers\": 194}, {\"month\": \"Jan\", \"year\": 1953, \"passengers\": 196}, {\"month\": \"Feb\", \"year\": 1953, \"passengers\": 196}, {\"month\": \"Mar\", \"year\": 1953, \"passengers\": 236}, {\"month\": \"Apr\", \"year\": 1953, \"passengers\": 235}, {\"month\": \"May\", \"year\": 1953, \"passengers\": 229}, {\"month\": \"Jun\", \"year\": 1953, \"passengers\": 243}, {\"month\": \"Jul\", \"year\": 1953, \"passengers\": 264}, {\"month\": \"Aug\", \"year\": 1953, \"passengers\": 272}, {\"month\": \"Sep\", \"year\": 1953, \"passengers\": 237}, {\"month\": \"Oct\", \"year\": 1953, \"passengers\": 211}, {\"month\": \"Nov\", \"year\": 1953, \"passengers\": 180}, {\"month\": \"Dec\", \"year\": 1953, \"passengers\": 201}, {\"month\": \"Jan\", \"year\": 1954, \"passengers\": 204}, {\"month\": \"Feb\", \"year\": 1954, \"passengers\": 188}, {\"month\": \"Mar\", \"year\": 1954, \"passengers\": 235}, {\"month\": \"Apr\", \"year\": 1954, \"passengers\": 227}, {\"month\": \"May\", \"year\": 1954, \"passengers\": 234}, {\"month\": \"Jun\", \"year\": 1954, \"passengers\": 264}, {\"month\": \"Jul\", \"year\": 1954, \"passengers\": 302}, {\"month\": \"Aug\", \"year\": 1954, \"passengers\": 293}, {\"month\": \"Sep\", \"year\": 1954, \"passengers\": 259}, {\"month\": \"Oct\", \"year\": 1954, \"passengers\": 229}, {\"month\": \"Nov\", \"year\": 1954, \"passengers\": 203}, {\"month\": \"Dec\", \"year\": 1954, \"passengers\": 229}, {\"month\": \"Jan\", \"year\": 1955, \"passengers\": 242}, {\"month\": \"Feb\", \"year\": 1955, \"passengers\": 233}, {\"month\": \"Mar\", \"year\": 1955, \"passengers\": 267}, {\"month\": \"Apr\", \"year\": 1955, \"passengers\": 269}, {\"month\": \"May\", \"year\": 1955, \"passengers\": 270}, {\"month\": \"Jun\", \"year\": 1955, \"passengers\": 315}, {\"month\": \"Jul\", \"year\": 1955, \"passengers\": 364}, {\"month\": \"Aug\", \"year\": 1955, \"passengers\": 347}, {\"month\": \"Sep\", \"year\": 1955, \"passengers\": 312}, {\"month\": \"Oct\", \"year\": 1955, \"passengers\": 274}, {\"month\": \"Nov\", \"year\": 1955, \"passengers\": 237}, {\"month\": \"Dec\", \"year\": 1955, \"passengers\": 278}, {\"month\": \"Jan\", \"year\": 1956, \"passengers\": 284}, {\"month\": \"Feb\", \"year\": 1956, \"passengers\": 277}, {\"month\": \"Mar\", \"year\": 1956, \"passengers\": 317}, {\"month\": \"Apr\", \"year\": 1956, \"passengers\": 313}, {\"month\": \"May\", \"year\": 1956, \"passengers\": 318}, {\"month\": \"Jun\", \"year\": 1956, \"passengers\": 374}, {\"month\": \"Jul\", \"year\": 1956, \"passengers\": 413}, {\"month\": \"Aug\", \"year\": 1956, \"passengers\": 405}, {\"month\": \"Sep\", \"year\": 1956, \"passengers\": 355}, {\"month\": \"Oct\", \"year\": 1956, \"passengers\": 306}, {\"month\": \"Nov\", \"year\": 1956, \"passengers\": 271}, {\"month\": \"Dec\", \"year\": 1956, \"passengers\": 306}, {\"month\": \"Jan\", \"year\": 1957, \"passengers\": 315}, {\"month\": \"Feb\", \"year\": 1957, \"passengers\": 301}, {\"month\": \"Mar\", \"year\": 1957, \"passengers\": 356}, {\"month\": \"Apr\", \"year\": 1957, \"passengers\": 348}, {\"month\": \"May\", \"year\": 1957, \"passengers\": 355}, {\"month\": \"Jun\", \"year\": 1957, \"passengers\": 422}, {\"month\": \"Jul\", \"year\": 1957, \"passengers\": 465}, {\"month\": \"Aug\", \"year\": 1957, \"passengers\": 467}, {\"month\": \"Sep\", \"year\": 1957, \"passengers\": 404}, {\"month\": \"Oct\", \"year\": 1957, \"passengers\": 347}, {\"month\": \"Nov\", \"year\": 1957, \"passengers\": 305}, {\"month\": \"Dec\", \"year\": 1957, \"passengers\": 336}, {\"month\": \"Jan\", \"year\": 1958, \"passengers\": 340}, {\"month\": \"Feb\", \"year\": 1958, \"passengers\": 318}, {\"month\": \"Mar\", \"year\": 1958, \"passengers\": 362}, {\"month\": \"Apr\", \"year\": 1958, \"passengers\": 348}, {\"month\": \"May\", \"year\": 1958, \"passengers\": 363}, {\"month\": \"Jun\", \"year\": 1958, \"passengers\": 435}, {\"month\": \"Jul\", \"year\": 1958, \"passengers\": 491}, {\"month\": \"Aug\", \"year\": 1958, \"passengers\": 505}, {\"month\": \"Sep\", \"year\": 1958, \"passengers\": 404}, {\"month\": \"Oct\", \"year\": 1958, \"passengers\": 359}, {\"month\": \"Nov\", \"year\": 1958, \"passengers\": 310}, {\"month\": \"Dec\", \"year\": 1958, \"passengers\": 337}, {\"month\": \"Jan\", \"year\": 1959, \"passengers\": 360}, {\"month\": \"Feb\", \"year\": 1959, \"passengers\": 342}, {\"month\": \"Mar\", \"year\": 1959, \"passengers\": 406}, {\"month\": \"Apr\", \"year\": 1959, \"passengers\": 396}, {\"month\": \"May\", \"year\": 1959, \"passengers\": 420}, {\"month\": \"Jun\", \"year\": 1959, \"passengers\": 472}, {\"month\": \"Jul\", \"year\": 1959, \"passengers\": 548}, {\"month\": \"Aug\", \"year\": 1959, \"passengers\": 559}, {\"month\": \"Sep\", \"year\": 1959, \"passengers\": 463}, {\"month\": \"Oct\", \"year\": 1959, \"passengers\": 407}, {\"month\": \"Nov\", \"year\": 1959, \"passengers\": 362}, {\"month\": \"Dec\", \"year\": 1959, \"passengers\": 405}, {\"month\": \"Jan\", \"year\": 1960, \"passengers\": 417}, {\"month\": \"Feb\", \"year\": 1960, \"passengers\": 391}, {\"month\": \"Mar\", \"year\": 1960, \"passengers\": 419}, {\"month\": \"Apr\", \"year\": 1960, \"passengers\": 461}, {\"month\": \"May\", \"year\": 1960, \"passengers\": 472}, {\"month\": \"Jun\", \"year\": 1960, \"passengers\": 535}, {\"month\": \"Jul\", \"year\": 1960, \"passengers\": 622}, {\"month\": \"Aug\", \"year\": 1960, \"passengers\": 606}, {\"month\": \"Sep\", \"year\": 1960, \"passengers\": 508}, {\"month\": \"Oct\", \"year\": 1960, \"passengers\": 461}, {\"month\": \"Nov\", \"year\": 1960, \"passengers\": 390}, {\"month\": \"Dec\", \"year\": 1960, \"passengers\": 432}]}}, {\"mode\": \"vega-lite\"});\n",
       "</script>"
      ],
      "text/plain": [
       "alt.Chart(...)"
      ]
     },
     "execution_count": 5,
     "metadata": {},
     "output_type": "execute_result"
    }
   ],
   "source": [
    "import altair as alt\n",
    "import pandas as pd\n",
    "import seaborn as sns\n",
    "\n",
    "# Cargar los datos\n",
    "flights = sns.load_dataset(\"flights\")\n",
    "flights = flights.pivot(index=\"month\", columns=\"year\", values=\"passengers\").reset_index()\n",
    "flights = flights.melt(id_vars=\"month\", var_name=\"year\", value_name=\"passengers\")\n",
    "\n",
    "# Crear el mapa de calor con barra de color personalizada y límites de valores\n",
    "heatmap = alt.Chart(flights).mark_rect().encode(\n",
    "    x='year:O',\n",
    "    y='month:O',\n",
    "    color=alt.Color('passengers:Q', scale=alt.Scale(scheme='yellowgreenblue', domain=[100, 650]), title=\"Número de Pasajeros\")\n",
    ").properties(\n",
    "    width=600,\n",
    "    height=400,\n",
    "    title=\"Mapa de Calor con Barra de Color y Límites de Valores\"\n",
    ")\n",
    "\n",
    "# Mostrar el gráfico\n",
    "heatmap\n"
   ]
  }
 ],
 "metadata": {
  "kernelspec": {
   "display_name": "Python 3 (ipykernel)",
   "language": "python",
   "name": "python3"
  },
  "language_info": {
   "codemirror_mode": {
    "name": "ipython",
    "version": 3
   },
   "file_extension": ".py",
   "mimetype": "text/x-python",
   "name": "python",
   "nbconvert_exporter": "python",
   "pygments_lexer": "ipython3",
   "version": "3.10.11"
  }
 },
 "nbformat": 4,
 "nbformat_minor": 5
}
