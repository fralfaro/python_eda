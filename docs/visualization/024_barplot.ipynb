{
 "cells": [
  {
   "cell_type": "markdown",
   "id": "9fec7c04",
   "metadata": {},
   "source": [
    "<a href=\"https://colab.research.google.com/github/fralfaro/python_eda/blob/main/docs/visualization/024_barplot.ipynb\" target=\"_parent\"><img src=\"https://colab.research.google.com/assets/colab-badge.svg\" alt=\"Open In Colab\"/></a>\n",
    "\n",
    "# Bar Plots\n",
    "\n",
    "Un **gráfico de Barras** (bar plot) es una visualización que representa datos discretos utilizando barras rectangulares, donde la longitud de cada barra representa la magnitud de los datos. Los datos discretos pueden ser variables categóricas o variables numéricas agrupadas en intervalos.\n"
   ]
  },
  {
   "cell_type": "markdown",
   "id": "0d6c6617",
   "metadata": {},
   "source": [
    "1. **Gráfico de barras verticales simples**: En este ejemplo, se han utilizado las listas `labels` y `values` para representar los datos que se mostrarán en el gráfico. Se ha utilizado la función `bar()` para crear el gráfico de barras.\n"
   ]
  },
  {
   "cell_type": "code",
   "execution_count": 3,
   "id": "3db2af07",
   "metadata": {},
   "outputs": [
    {
     "data": {
      "image/png": "[encoded data removed]",
      "text/plain": [
       "<Figure size 432x288 with 1 Axes>"
      ]
     },
     "metadata": {
      "needs_background": "light"
     },
     "output_type": "display_data"
    }
   ],
   "source": [
    "import matplotlib.pyplot as plt\n",
    "\n",
    "labels = ['A', 'B', 'C', 'D', 'E']\n",
    "values = [10, 5, 8, 12, 6]\n",
    "\n",
    "plt.bar(labels, values)\n",
    "plt.xlabel('Categorías')\n",
    "plt.ylabel('Valores')\n",
    "plt.title('Gráfico de barras')\n",
    "plt.show()"
   ]
  },
  {
   "cell_type": "markdown",
   "id": "5e454ce1",
   "metadata": {},
   "source": [
    "2. **Gráfico de barras horizontales con colores personalizados**: En este ejemplo, se ha utilizado la función `barh()` para crear un gráfico de barras horizontal. Los colores de las barras se han asignado al azar utilizando la función `np.random.rand()`. Además, se han agregado etiquetas de eje `y` un título al gráfico utilizando las funciones `xlabel()`, `ylabel()` y `title()`."
   ]
  },
  {
   "cell_type": "code",
   "execution_count": 5,
   "id": "010aab07",
   "metadata": {},
   "outputs": [
    {
     "data": {
      "image/png": "[encoded data removed]",
      "text/plain": [
       "<Figure size 432x288 with 1 Axes>"
      ]
     },
     "metadata": {
      "needs_background": "light"
     },
     "output_type": "display_data"
    }
   ],
   "source": [
    "import matplotlib.pyplot as plt\n",
    "import numpy as np\n",
    "\n",
    "labels = ['A', 'B', 'C', 'D', 'E']\n",
    "values = [10, 5, 8, 12, 6]\n",
    "colors = ['blue','red','green','yellow','black']\n",
    "\n",
    "plt.barh(labels, values, color=colors)\n",
    "plt.xlabel('Valores')\n",
    "plt.ylabel('Categorías')\n",
    "plt.title('Gráfico de barras')\n",
    "plt.show()"
   ]
  },
  {
   "cell_type": "markdown",
   "id": "5563d299",
   "metadata": {},
   "source": [
    "3. **Gráfico de barras agrupadas con varias series de datos**: En este ejemplo, se han utilizado dos listas de valores (`men_means` y `women_means`) para representar dos series de datos que se mostrarán en el gráfico. Se han utilizado las funciones `bar()` y `subplots()` para crear un gráfico de barras agrupadas con dos series de datos. Además, se han agregado etiquetas de eje, un título, leyendas y un eje x personalizado al gráfico utilizando varias funciones de Matplotlib.\n"
   ]
  },
  {
   "cell_type": "code",
   "execution_count": 6,
   "id": "3e748a8b",
   "metadata": {},
   "outputs": [
    {
     "data": {
      "image/png": "[encoded data removed]",
      "text/plain": [
       "<Figure size 432x288 with 1 Axes>"
      ]
     },
     "metadata": {
      "needs_background": "light"
     },
     "output_type": "display_data"
    }
   ],
   "source": [
    "import matplotlib.pyplot as plt\n",
    "import numpy as np\n",
    "\n",
    "labels = ['A', 'B', 'C', 'D', 'E']\n",
    "men_means = [20, 35, 30, 35, 27]\n",
    "women_means = [25, 32, 34, 20, 25]\n",
    "ind = np.arange(len(labels))\n",
    "width = 0.35\n",
    "\n",
    "fig, ax = plt.subplots()\n",
    "rects1 = ax.bar(ind - width/2, men_means, width, label='Hombres')\n",
    "rects2 = ax.bar(ind + width/2, women_means, width, label='Mujeres')\n",
    "\n",
    "ax.set_xlabel('Categorías')\n",
    "ax.set_ylabel('Valores')\n",
    "ax.set_title('Gráfico de barras agrupadas')\n",
    "ax.set_xticks(ind)\n",
    "ax.set_xticklabels(labels)\n",
    "ax.legend()\n",
    "\n",
    "plt.show()"
   ]
  }
 ],
 "metadata": {
  "kernelspec": {
   "display_name": "Python 3 (ipykernel)",
   "language": "python",
   "name": "python3"
  },
  "language_info": {
   "codemirror_mode": {
    "name": "ipython",
    "version": 3
   },
   "file_extension": ".py",
   "mimetype": "text/x-python",
   "name": "python",
   "nbconvert_exporter": "python",
   "pygments_lexer": "ipython3",
   "version": "3.8.10"
  }
 },
 "nbformat": 4,
 "nbformat_minor": 5
}
