{
 "cells": [
  {
   "cell_type": "markdown",
   "metadata": {},
   "source": [
    "<a href=\"https://colab.research.google.com/github/fralfaro/python_eda/blob/main/docs/pandas/031_groupby.ipynb\" target=\"_parent\"><img src=\"https://colab.research.google.com/assets/colab-badge.svg\" alt=\"Open In Colab\"/></a>\n",
    "\n",
    "# Groupby\n",
    "\n",
    "\n",
    "**Groupby** es un concepto bastante simple. Podemos crear una agrupación de categorías y aplicar una función a las categorías. \n",
    "\n",
    "El proceso de groupby se puede resumiren los siguientes pasos:\n",
    "\n",
    "* **División**: es un proceso en el que dividimos los datos en grupos aplicando algunas condiciones en los conjuntos de datos.\n",
    "* **Aplicación**: es un proceso en el que aplicamos una función a cada grupo de forma independiente\n",
    "* **Combinación**: es un proceso en el que combinamos diferentes conjuntos de datos después de aplicar groupby y resultados en una estructura de datos\n",
    "\n",
    "<img src=\"https://raw.githubusercontent.com/fralfaro/MAT281_2022/main/docs/lectures/data_manipulation/data_manipulation/images/groupby.jpg\" alt=\"\" align=\"center\" width=\"400px\"/>\n",
    "\n",
    "\n",
    "\n",
    "Después de dividir los datos en un grupo, aplicamos una función a cada grupo para realizar algunas operaciones que son:\n",
    "\n",
    "* **Agregación**: es un proceso en el que calculamos una estadística resumida (o estadística) sobre cada grupo. Por ejemplo, Calcular sumas de grupo o medios\n",
    "* **Transformación**: es un proceso en el que realizamos algunos cálculos específicos del grupo y devolvemos un índice similar. Por ejemplo, llenar NA dentro de grupos con un valor derivado de cada grupo\n",
    "* **Filtración**: es un proceso en el cual descartamos algunos grupos, de acuerdo con un cálculo grupal que evalúa Verdadero o Falso. Por ejemplo, Filtrar datos en función de la suma o media grupal"
   ]
  },
  {
   "cell_type": "markdown",
   "metadata": {},
   "source": [
    "## Agrupar por una columna\n",
    "Supongamos que tenemos un conjunto de datos de ventas de productos y queremos agruparlos por la columna \"Producto\". El siguiente código nos permitirá hacerlo:"
   ]
  },
  {
   "cell_type": "code",
   "execution_count": 1,
   "metadata": {},
   "outputs": [
    {
     "data": {
      "text/html": [
       "<div>\n",
       "<style scoped>\n",
       "    .dataframe tbody tr th:only-of-type {\n",
       "        vertical-align: middle;\n",
       "    }\n",
       "\n",
       "    .dataframe tbody tr th {\n",
       "        vertical-align: top;\n",
       "    }\n",
       "\n",
       "    .dataframe thead th {\n",
       "        text-align: right;\n",
       "    }\n",
       "</style>\n",
       "<table border=\"1\" class=\"dataframe\">\n",
       "  <thead>\n",
       "    <tr style=\"text-align: right;\">\n",
       "      <th></th>\n",
       "      <th>Producto</th>\n",
       "      <th>Mes</th>\n",
       "      <th>Ventas</th>\n",
       "    </tr>\n",
       "  </thead>\n",
       "  <tbody>\n",
       "    <tr>\n",
       "      <th>0</th>\n",
       "      <td>A</td>\n",
       "      <td>Enero</td>\n",
       "      <td>100</td>\n",
       "    </tr>\n",
       "    <tr>\n",
       "      <th>2</th>\n",
       "      <td>A</td>\n",
       "      <td>Enero</td>\n",
       "      <td>150</td>\n",
       "    </tr>\n",
       "    <tr>\n",
       "      <th>4</th>\n",
       "      <td>A</td>\n",
       "      <td>Febrero</td>\n",
       "      <td>300</td>\n",
       "    </tr>\n",
       "    <tr>\n",
       "      <th>6</th>\n",
       "      <td>A</td>\n",
       "      <td>Febrero</td>\n",
       "      <td>400</td>\n",
       "    </tr>\n",
       "    <tr>\n",
       "      <th>1</th>\n",
       "      <td>B</td>\n",
       "      <td>Enero</td>\n",
       "      <td>200</td>\n",
       "    </tr>\n",
       "    <tr>\n",
       "      <th>3</th>\n",
       "      <td>B</td>\n",
       "      <td>Enero</td>\n",
       "      <td>250</td>\n",
       "    </tr>\n",
       "    <tr>\n",
       "      <th>5</th>\n",
       "      <td>B</td>\n",
       "      <td>Febrero</td>\n",
       "      <td>350</td>\n",
       "    </tr>\n",
       "    <tr>\n",
       "      <th>7</th>\n",
       "      <td>B</td>\n",
       "      <td>Febrero</td>\n",
       "      <td>450</td>\n",
       "    </tr>\n",
       "  </tbody>\n",
       "</table>\n",
       "</div>"
      ],
      "text/plain": [
       "  Producto      Mes  Ventas\n",
       "0        A    Enero     100\n",
       "2        A    Enero     150\n",
       "4        A  Febrero     300\n",
       "6        A  Febrero     400\n",
       "1        B    Enero     200\n",
       "3        B    Enero     250\n",
       "5        B  Febrero     350\n",
       "7        B  Febrero     450"
      ]
     },
     "execution_count": 1,
     "metadata": {},
     "output_type": "execute_result"
    }
   ],
   "source": [
    "import pandas as pd\n",
    "\n",
    "# Crear un DataFrame de ejemplo\n",
    "datos = {\n",
    "    'Producto': ['A', 'B', 'A', 'B', 'A', 'B', 'A', 'B'], \n",
    "    'Mes': ['Enero', 'Enero','Enero', 'Enero', 'Febrero', 'Febrero','Febrero', 'Febrero'], \n",
    "    'Ventas': [100, 200, 150, 250, 300, 350, 400, 450]\n",
    "}\n",
    "df = pd.DataFrame(datos).sort_values(['Producto'])\n",
    "df"
   ]
  },
  {
   "cell_type": "code",
   "execution_count": 2,
   "metadata": {},
   "outputs": [
    {
     "data": {
      "text/plain": [
       "Producto\n",
       "A     950\n",
       "B    1250\n",
       "Name: Ventas, dtype: int64"
      ]
     },
     "execution_count": 2,
     "metadata": {},
     "output_type": "execute_result"
    }
   ],
   "source": [
    "# Agrupar por Producto y calcular la suma de las ventas en cada grupo\n",
    "agrupado = df.groupby('Producto')['Ventas'].sum()\n",
    "agrupado"
   ]
  },
  {
   "cell_type": "markdown",
   "metadata": {},
   "source": [
    "## Agrupar por varias columnas\n",
    "En este ejemplo, supongamos que queremos agrupar los datos por dos columnas: \"Producto\" y \"Mes\". El siguiente código nos permitirá hacerlo:"
   ]
  },
  {
   "cell_type": "code",
   "execution_count": 3,
   "metadata": {},
   "outputs": [
    {
     "data": {
      "text/plain": [
       "Producto  Mes    \n",
       "A         Enero      250\n",
       "          Febrero    700\n",
       "B         Enero      450\n",
       "          Febrero    800\n",
       "Name: Ventas, dtype: int64"
      ]
     },
     "execution_count": 3,
     "metadata": {},
     "output_type": "execute_result"
    }
   ],
   "source": [
    "# Agrupar por Producto y Mes y calcular la suma de las ventas en cada grupo\n",
    "agrupado = df.groupby(['Producto', 'Mes'])['Ventas'].sum()\n",
    "agrupado"
   ]
  },
  {
   "cell_type": "markdown",
   "metadata": {},
   "source": [
    "## Aplicar múltiples funciones a cada grupo\n",
    "\n",
    "En este ejemplo, supongamos que queremos calcular la suma y el promedio de las ventas en cada grupo. El siguiente código nos permitirá hacerlo:"
   ]
  },
  {
   "cell_type": "code",
   "execution_count": 4,
   "metadata": {},
   "outputs": [
    {
     "data": {
      "text/html": [
       "<div>\n",
       "<style scoped>\n",
       "    .dataframe tbody tr th:only-of-type {\n",
       "        vertical-align: middle;\n",
       "    }\n",
       "\n",
       "    .dataframe tbody tr th {\n",
       "        vertical-align: top;\n",
       "    }\n",
       "\n",
       "    .dataframe thead tr th {\n",
       "        text-align: left;\n",
       "    }\n",
       "\n",
       "    .dataframe thead tr:last-of-type th {\n",
       "        text-align: right;\n",
       "    }\n",
       "</style>\n",
       "<table border=\"1\" class=\"dataframe\">\n",
       "  <thead>\n",
       "    <tr>\n",
       "      <th></th>\n",
       "      <th></th>\n",
       "      <th colspan=\"2\" halign=\"left\">Ventas</th>\n",
       "    </tr>\n",
       "    <tr>\n",
       "      <th></th>\n",
       "      <th></th>\n",
       "      <th>sum</th>\n",
       "      <th>mean</th>\n",
       "    </tr>\n",
       "    <tr>\n",
       "      <th>Producto</th>\n",
       "      <th>Mes</th>\n",
       "      <th></th>\n",
       "      <th></th>\n",
       "    </tr>\n",
       "  </thead>\n",
       "  <tbody>\n",
       "    <tr>\n",
       "      <th rowspan=\"2\" valign=\"top\">A</th>\n",
       "      <th>Enero</th>\n",
       "      <td>250</td>\n",
       "      <td>125.0</td>\n",
       "    </tr>\n",
       "    <tr>\n",
       "      <th>Febrero</th>\n",
       "      <td>700</td>\n",
       "      <td>350.0</td>\n",
       "    </tr>\n",
       "    <tr>\n",
       "      <th rowspan=\"2\" valign=\"top\">B</th>\n",
       "      <th>Enero</th>\n",
       "      <td>450</td>\n",
       "      <td>225.0</td>\n",
       "    </tr>\n",
       "    <tr>\n",
       "      <th>Febrero</th>\n",
       "      <td>800</td>\n",
       "      <td>400.0</td>\n",
       "    </tr>\n",
       "  </tbody>\n",
       "</table>\n",
       "</div>"
      ],
      "text/plain": [
       "                 Ventas       \n",
       "                    sum   mean\n",
       "Producto Mes                  \n",
       "A        Enero      250  125.0\n",
       "         Febrero    700  350.0\n",
       "B        Enero      450  225.0\n",
       "         Febrero    800  400.0"
      ]
     },
     "execution_count": 4,
     "metadata": {},
     "output_type": "execute_result"
    }
   ],
   "source": [
    "# Agrupar por Producto y Mes y calcular la suma y promedio de las ventas en cada grupo\n",
    "agrupado = df.groupby(['Producto', 'Mes']).agg({'Ventas': ['sum', 'mean']})\n",
    "agrupado"
   ]
  },
  {
   "cell_type": "markdown",
   "metadata": {},
   "source": [
    "## Groupby Apply\n",
    "\n",
    "Este método permite aplicar una función a cada grupo y devolver un DataFrame con el resultado.\n",
    "\n",
    "```python\n",
    "df.groupby(columnas_a_agrupar).apply(funcion)\n",
    "```\n",
    "\n",
    "Supongamos que tenemos un DataFrame con información sobre ventas de diferentes productos en diferentes regiones:"
   ]
  },
  {
   "cell_type": "code",
   "execution_count": 5,
   "metadata": {},
   "outputs": [
    {
     "data": {
      "text/html": [
       "<div>\n",
       "<style scoped>\n",
       "    .dataframe tbody tr th:only-of-type {\n",
       "        vertical-align: middle;\n",
       "    }\n",
       "\n",
       "    .dataframe tbody tr th {\n",
       "        vertical-align: top;\n",
       "    }\n",
       "\n",
       "    .dataframe thead th {\n",
       "        text-align: right;\n",
       "    }\n",
       "</style>\n",
       "<table border=\"1\" class=\"dataframe\">\n",
       "  <thead>\n",
       "    <tr style=\"text-align: right;\">\n",
       "      <th></th>\n",
       "      <th>Region</th>\n",
       "      <th>Product</th>\n",
       "      <th>Sales</th>\n",
       "    </tr>\n",
       "  </thead>\n",
       "  <tbody>\n",
       "    <tr>\n",
       "      <th>0</th>\n",
       "      <td>North</td>\n",
       "      <td>A</td>\n",
       "      <td>100</td>\n",
       "    </tr>\n",
       "    <tr>\n",
       "      <th>1</th>\n",
       "      <td>North</td>\n",
       "      <td>B</td>\n",
       "      <td>200</td>\n",
       "    </tr>\n",
       "    <tr>\n",
       "      <th>2</th>\n",
       "      <td>South</td>\n",
       "      <td>A</td>\n",
       "      <td>150</td>\n",
       "    </tr>\n",
       "    <tr>\n",
       "      <th>3</th>\n",
       "      <td>South</td>\n",
       "      <td>B</td>\n",
       "      <td>250</td>\n",
       "    </tr>\n",
       "    <tr>\n",
       "      <th>4</th>\n",
       "      <td>East</td>\n",
       "      <td>A</td>\n",
       "      <td>120</td>\n",
       "    </tr>\n",
       "    <tr>\n",
       "      <th>5</th>\n",
       "      <td>West</td>\n",
       "      <td>B</td>\n",
       "      <td>180</td>\n",
       "    </tr>\n",
       "    <tr>\n",
       "      <th>6</th>\n",
       "      <td>East</td>\n",
       "      <td>A</td>\n",
       "      <td>110</td>\n",
       "    </tr>\n",
       "    <tr>\n",
       "      <th>7</th>\n",
       "      <td>West</td>\n",
       "      <td>B</td>\n",
       "      <td>190</td>\n",
       "    </tr>\n",
       "  </tbody>\n",
       "</table>\n",
       "</div>"
      ],
      "text/plain": [
       "  Region Product  Sales\n",
       "0  North       A    100\n",
       "1  North       B    200\n",
       "2  South       A    150\n",
       "3  South       B    250\n",
       "4   East       A    120\n",
       "5   West       B    180\n",
       "6   East       A    110\n",
       "7   West       B    190"
      ]
     },
     "execution_count": 5,
     "metadata": {},
     "output_type": "execute_result"
    }
   ],
   "source": [
    "import pandas as pd\n",
    "\n",
    "data = {\n",
    "    'Region': ['North', 'North', 'South', 'South', 'East', 'West', 'East', 'West'],\n",
    "    'Product': ['A', 'B', 'A', 'B', 'A', 'B', 'A', 'B'],\n",
    "    'Sales': [100, 200, 150, 250, 120, 180, 110, 190]\n",
    "}\n",
    "\n",
    "df = pd.DataFrame(data)\n",
    "df"
   ]
  },
  {
   "cell_type": "markdown",
   "metadata": {},
   "source": [
    "Podemos usar `groupby()` para agrupar los datos por región y aplicar una función personalizada que calcule el porcentaje de ventas de cada producto en cada región:\n",
    "\n"
   ]
  },
  {
   "cell_type": "code",
   "execution_count": 6,
   "metadata": {},
   "outputs": [
    {
     "name": "stderr",
     "output_type": "stream",
     "text": [
      "C:\\Users\\franc\\AppData\\Local\\Temp\\ipykernel_2644\\1199783526.py:5: DeprecationWarning: DataFrameGroupBy.apply operated on the grouping columns. This behavior is deprecated, and in a future version of pandas the grouping columns will be excluded from the operation. Either pass `include_groups=False` to exclude the groupings or explicitly select the grouping columns after groupby to silence this warning.\n",
      "  df.groupby('Region').apply(porcentaje_ventas_grupo)\n"
     ]
    },
    {
     "data": {
      "text/html": [
       "<div>\n",
       "<style scoped>\n",
       "    .dataframe tbody tr th:only-of-type {\n",
       "        vertical-align: middle;\n",
       "    }\n",
       "\n",
       "    .dataframe tbody tr th {\n",
       "        vertical-align: top;\n",
       "    }\n",
       "\n",
       "    .dataframe thead th {\n",
       "        text-align: right;\n",
       "    }\n",
       "</style>\n",
       "<table border=\"1\" class=\"dataframe\">\n",
       "  <thead>\n",
       "    <tr style=\"text-align: right;\">\n",
       "      <th></th>\n",
       "      <th></th>\n",
       "      <th>Region</th>\n",
       "      <th>Product</th>\n",
       "      <th>Sales</th>\n",
       "      <th>Porcentaje_Ventas</th>\n",
       "    </tr>\n",
       "    <tr>\n",
       "      <th>Region</th>\n",
       "      <th></th>\n",
       "      <th></th>\n",
       "      <th></th>\n",
       "      <th></th>\n",
       "      <th></th>\n",
       "    </tr>\n",
       "  </thead>\n",
       "  <tbody>\n",
       "    <tr>\n",
       "      <th rowspan=\"2\" valign=\"top\">East</th>\n",
       "      <th>4</th>\n",
       "      <td>East</td>\n",
       "      <td>A</td>\n",
       "      <td>120</td>\n",
       "      <td>0.521739</td>\n",
       "    </tr>\n",
       "    <tr>\n",
       "      <th>6</th>\n",
       "      <td>East</td>\n",
       "      <td>A</td>\n",
       "      <td>110</td>\n",
       "      <td>0.478261</td>\n",
       "    </tr>\n",
       "    <tr>\n",
       "      <th rowspan=\"2\" valign=\"top\">North</th>\n",
       "      <th>0</th>\n",
       "      <td>North</td>\n",
       "      <td>A</td>\n",
       "      <td>100</td>\n",
       "      <td>0.333333</td>\n",
       "    </tr>\n",
       "    <tr>\n",
       "      <th>1</th>\n",
       "      <td>North</td>\n",
       "      <td>B</td>\n",
       "      <td>200</td>\n",
       "      <td>0.666667</td>\n",
       "    </tr>\n",
       "    <tr>\n",
       "      <th rowspan=\"2\" valign=\"top\">South</th>\n",
       "      <th>2</th>\n",
       "      <td>South</td>\n",
       "      <td>A</td>\n",
       "      <td>150</td>\n",
       "      <td>0.375000</td>\n",
       "    </tr>\n",
       "    <tr>\n",
       "      <th>3</th>\n",
       "      <td>South</td>\n",
       "      <td>B</td>\n",
       "      <td>250</td>\n",
       "      <td>0.625000</td>\n",
       "    </tr>\n",
       "    <tr>\n",
       "      <th rowspan=\"2\" valign=\"top\">West</th>\n",
       "      <th>5</th>\n",
       "      <td>West</td>\n",
       "      <td>B</td>\n",
       "      <td>180</td>\n",
       "      <td>0.486486</td>\n",
       "    </tr>\n",
       "    <tr>\n",
       "      <th>7</th>\n",
       "      <td>West</td>\n",
       "      <td>B</td>\n",
       "      <td>190</td>\n",
       "      <td>0.513514</td>\n",
       "    </tr>\n",
       "  </tbody>\n",
       "</table>\n",
       "</div>"
      ],
      "text/plain": [
       "         Region Product  Sales  Porcentaje_Ventas\n",
       "Region                                           \n",
       "East   4   East       A    120           0.521739\n",
       "       6   East       A    110           0.478261\n",
       "North  0  North       A    100           0.333333\n",
       "       1  North       B    200           0.666667\n",
       "South  2  South       A    150           0.375000\n",
       "       3  South       B    250           0.625000\n",
       "West   5   West       B    180           0.486486\n",
       "       7   West       B    190           0.513514"
      ]
     },
     "execution_count": 6,
     "metadata": {},
     "output_type": "execute_result"
    }
   ],
   "source": [
    "def porcentaje_ventas_grupo(grupo):\n",
    "    grupo['Porcentaje_Ventas'] = grupo['Sales'] / grupo['Sales'].sum()\n",
    "    return grupo\n",
    "\n",
    "df.groupby('Region').apply(porcentaje_ventas_grupo)"
   ]
  },
  {
   "cell_type": "markdown",
   "metadata": {},
   "source": [
    "En este ejemplo, hemos definido una función personalizada `porcentaje_ventas_grupo` que toma como argumento un grupo de datos y calcula el porcentaje de ventas de cada producto en ese grupo. Después, hemos aplicado esta función a cada grupo usando el método `apply()`."
   ]
  },
  {
   "cell_type": "markdown",
   "metadata": {},
   "source": [
    "## Groupby Transform\n",
    "\n",
    "En pandas, el método `transform()` permite aplicar una función de transformación a cada grupo de un objeto groupby. La función de transformación se aplica a cada grupo y el resultado se asigna de vuelta a las filas correspondientes en el DataFrame original.\n",
    "\n",
    "Para el ejemplo anterior, podemos usar `groupby()` para agrupar los datos por región y aplicar una función de transformación que calcule el promedio de ventas de cada producto en cada región y lo añada como una nueva columna en el DataFrame original:"
   ]
  },
  {
   "cell_type": "code",
   "execution_count": 7,
   "metadata": {},
   "outputs": [
    {
     "data": {
      "text/html": [
       "<div>\n",
       "<style scoped>\n",
       "    .dataframe tbody tr th:only-of-type {\n",
       "        vertical-align: middle;\n",
       "    }\n",
       "\n",
       "    .dataframe tbody tr th {\n",
       "        vertical-align: top;\n",
       "    }\n",
       "\n",
       "    .dataframe thead th {\n",
       "        text-align: right;\n",
       "    }\n",
       "</style>\n",
       "<table border=\"1\" class=\"dataframe\">\n",
       "  <thead>\n",
       "    <tr style=\"text-align: right;\">\n",
       "      <th></th>\n",
       "      <th>Region</th>\n",
       "      <th>Product</th>\n",
       "      <th>Sales</th>\n",
       "      <th>Promedio_Ventas</th>\n",
       "    </tr>\n",
       "  </thead>\n",
       "  <tbody>\n",
       "    <tr>\n",
       "      <th>0</th>\n",
       "      <td>North</td>\n",
       "      <td>A</td>\n",
       "      <td>100</td>\n",
       "      <td>150.0</td>\n",
       "    </tr>\n",
       "    <tr>\n",
       "      <th>1</th>\n",
       "      <td>North</td>\n",
       "      <td>B</td>\n",
       "      <td>200</td>\n",
       "      <td>150.0</td>\n",
       "    </tr>\n",
       "    <tr>\n",
       "      <th>2</th>\n",
       "      <td>South</td>\n",
       "      <td>A</td>\n",
       "      <td>150</td>\n",
       "      <td>200.0</td>\n",
       "    </tr>\n",
       "    <tr>\n",
       "      <th>3</th>\n",
       "      <td>South</td>\n",
       "      <td>B</td>\n",
       "      <td>250</td>\n",
       "      <td>200.0</td>\n",
       "    </tr>\n",
       "    <tr>\n",
       "      <th>4</th>\n",
       "      <td>East</td>\n",
       "      <td>A</td>\n",
       "      <td>120</td>\n",
       "      <td>115.0</td>\n",
       "    </tr>\n",
       "    <tr>\n",
       "      <th>5</th>\n",
       "      <td>West</td>\n",
       "      <td>B</td>\n",
       "      <td>180</td>\n",
       "      <td>185.0</td>\n",
       "    </tr>\n",
       "    <tr>\n",
       "      <th>6</th>\n",
       "      <td>East</td>\n",
       "      <td>A</td>\n",
       "      <td>110</td>\n",
       "      <td>115.0</td>\n",
       "    </tr>\n",
       "    <tr>\n",
       "      <th>7</th>\n",
       "      <td>West</td>\n",
       "      <td>B</td>\n",
       "      <td>190</td>\n",
       "      <td>185.0</td>\n",
       "    </tr>\n",
       "  </tbody>\n",
       "</table>\n",
       "</div>"
      ],
      "text/plain": [
       "  Region Product  Sales  Promedio_Ventas\n",
       "0  North       A    100            150.0\n",
       "1  North       B    200            150.0\n",
       "2  South       A    150            200.0\n",
       "3  South       B    250            200.0\n",
       "4   East       A    120            115.0\n",
       "5   West       B    180            185.0\n",
       "6   East       A    110            115.0\n",
       "7   West       B    190            185.0"
      ]
     },
     "execution_count": 7,
     "metadata": {},
     "output_type": "execute_result"
    }
   ],
   "source": [
    "df['Promedio_Ventas'] = df.groupby('Region')['Sales'].transform('mean')\n",
    "df"
   ]
  },
  {
   "cell_type": "markdown",
   "metadata": {},
   "source": [
    "En este ejemplo, hemos usado el método `transform()` para calcular el promedio de ventas de cada producto en cada región y lo hemos asignado como una nueva columna llamada \"Promedio_Ventas\" en el DataFrame original. La función de transformación que hemos usado es `mean()`, que calcula la media de las ventas en cada grupo."
   ]
  },
  {
   "cell_type": "markdown",
   "metadata": {},
   "source": [
    "## Groupby Filter\n",
    "\n",
    "En pandas, el método `groupby()` se puede combinar con el método `filter()` para filtrar filas de un DataFrame según ciertas condiciones aplicadas a los grupos de un objeto groupby. `filter()` devuelve un nuevo DataFrame que contiene las filas que cumplen las condiciones especificadas para cada grupo.\n",
    "\n",
    "Para el ejemplo anterior, podemos usar `groupby()` para agrupar los datos por región y luego usar `filter()` para seleccionar los grupos que tienen un promedio de ventas mayor que 150:"
   ]
  },
  {
   "cell_type": "code",
   "execution_count": 8,
   "metadata": {},
   "outputs": [
    {
     "data": {
      "text/html": [
       "<div>\n",
       "<style scoped>\n",
       "    .dataframe tbody tr th:only-of-type {\n",
       "        vertical-align: middle;\n",
       "    }\n",
       "\n",
       "    .dataframe tbody tr th {\n",
       "        vertical-align: top;\n",
       "    }\n",
       "\n",
       "    .dataframe thead th {\n",
       "        text-align: right;\n",
       "    }\n",
       "</style>\n",
       "<table border=\"1\" class=\"dataframe\">\n",
       "  <thead>\n",
       "    <tr style=\"text-align: right;\">\n",
       "      <th></th>\n",
       "      <th>Region</th>\n",
       "      <th>Product</th>\n",
       "      <th>Sales</th>\n",
       "      <th>Promedio_Ventas</th>\n",
       "    </tr>\n",
       "  </thead>\n",
       "  <tbody>\n",
       "    <tr>\n",
       "      <th>2</th>\n",
       "      <td>South</td>\n",
       "      <td>A</td>\n",
       "      <td>150</td>\n",
       "      <td>200.0</td>\n",
       "    </tr>\n",
       "    <tr>\n",
       "      <th>3</th>\n",
       "      <td>South</td>\n",
       "      <td>B</td>\n",
       "      <td>250</td>\n",
       "      <td>200.0</td>\n",
       "    </tr>\n",
       "    <tr>\n",
       "      <th>5</th>\n",
       "      <td>West</td>\n",
       "      <td>B</td>\n",
       "      <td>180</td>\n",
       "      <td>185.0</td>\n",
       "    </tr>\n",
       "    <tr>\n",
       "      <th>7</th>\n",
       "      <td>West</td>\n",
       "      <td>B</td>\n",
       "      <td>190</td>\n",
       "      <td>185.0</td>\n",
       "    </tr>\n",
       "  </tbody>\n",
       "</table>\n",
       "</div>"
      ],
      "text/plain": [
       "  Region Product  Sales  Promedio_Ventas\n",
       "2  South       A    150            200.0\n",
       "3  South       B    250            200.0\n",
       "5   West       B    180            185.0\n",
       "7   West       B    190            185.0"
      ]
     },
     "execution_count": 8,
     "metadata": {},
     "output_type": "execute_result"
    }
   ],
   "source": [
    "df_filtered = df.groupby('Region').filter(lambda x: x['Sales'].mean() > 150)\n",
    "df_filtered"
   ]
  },
  {
   "cell_type": "markdown",
   "metadata": {},
   "source": [
    "En este ejemplo, hemos usado la función lambda lambda x: `x['Sales'].mean() > 150` como condición para filtrar los grupos. Esta función lambda devuelve **True** si el promedio de ventas en el grupo `x` es mayor que 150 y **False** en caso contrario. El método `filter()` devuelve un nuevo DataFrame que contiene solo las filas de los grupos que cumplen esta condición."
   ]
  },
  {
   "cell_type": "markdown",
   "metadata": {},
   "source": [
    "**Observación**: Para iterar a través de los grupos generados por el método `groupby()` de Pandas, se puede usar un bucle `for`. En cada iteración, se obtiene una tupla `(nombre_grupo, subconjunto_datos)` donde `nombre_grupo` es el nombre del grupo y `subconjunto_datos` es un objeto DataFrame que contiene solo las filas que pertenecen a ese grupo. \n",
    "\n",
    "En el ejemplo anterior, podemos agrupar los datos por región y luego iterar a través de los grupos usando un bucle `for`:"
   ]
  },
  {
   "cell_type": "code",
   "execution_count": 9,
   "metadata": {},
   "outputs": [
    {
     "name": "stdout",
     "output_type": "stream",
     "text": [
      "East\n",
      "  Region Product  Sales  Promedio_Ventas\n",
      "4   East       A    120            115.0\n",
      "6   East       A    110            115.0\n",
      "--------------\n",
      "North\n",
      "  Region Product  Sales  Promedio_Ventas\n",
      "0  North       A    100            150.0\n",
      "1  North       B    200            150.0\n",
      "--------------\n",
      "South\n",
      "  Region Product  Sales  Promedio_Ventas\n",
      "2  South       A    150            200.0\n",
      "3  South       B    250            200.0\n",
      "--------------\n",
      "West\n",
      "  Region Product  Sales  Promedio_Ventas\n",
      "5   West       B    180            185.0\n",
      "7   West       B    190            185.0\n",
      "--------------\n"
     ]
    }
   ],
   "source": [
    "for region, data in df.groupby('Region'):\n",
    "    print(region)\n",
    "    print(data)\n",
    "    print('--------------')"
   ]
  }
 ],
 "metadata": {
  "kernelspec": {
   "display_name": "Python 3 (ipykernel)",
   "language": "python",
   "name": "python3"
  },
  "language_info": {
   "codemirror_mode": {
    "name": "ipython",
    "version": 3
   },
   "file_extension": ".py",
   "mimetype": "text/x-python",
   "name": "python",
   "nbconvert_exporter": "python",
   "pygments_lexer": "ipython3",
   "version": "3.10.11"
  }
 },
 "nbformat": 4,
 "nbformat_minor": 4
}
