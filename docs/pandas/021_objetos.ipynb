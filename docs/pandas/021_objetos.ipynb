{
 "cells": [
  {
   "cell_type": "markdown",
   "id": "f18f2239",
   "metadata": {},
   "source": [
    "<a href=\"https://colab.research.google.com/github/fralfaro/python_eda/blob/main/docs/pandas/021_objetos.ipynb\" target=\"_parent\"><img src=\"https://colab.research.google.com/assets/colab-badge.svg\" alt=\"Open In Colab\"/></a>\n",
    "\n",
    "\n",
    "# Objetos\n",
    "\n",
    "En un nivel muy básico, los objetos de Pandas se pueden considerar como versiones mejoradas de matrices de `NumPy` en las que las filas y columnas se identifican con etiquetas en lugar de simples índices enteros.\n"
   ]
  },
  {
   "cell_type": "markdown",
   "id": "857b6ba2",
   "metadata": {},
   "source": [
    "## Tipo de Objetos\n",
    "\n",
    "### Pandas Series\n",
    "\n",
    "<img src=\"https://raw.githubusercontent.com/fralfaro/MAT281_2022/main/docs/lectures/data_manipulation/data_manipulation/images/series.png\"  align=\"center\"/>\n",
    "\n",
    "Un objeto de tipo **Series** es un array unidimensional etiquetado que puede contener cualquier tipo de dato, como enteros, números decimales, cadenas de texto o incluso objetos de Python. Es una estructura de datos fundamental en Pandas y es similar a un array unidimensional de NumPy, pero con índices etiquetados que permiten una manipulación de datos fácil e intuitiva.\n",
    "\n",
    "Un objeto de tipo Series de Pandas puede ser creado a partir de una lista, tupla, array de NumPy, o incluso de un diccionario. Por ejemplo, el siguiente código crea un objeto Series a partir de una lista de números enteros:"
   ]
  },
  {
   "cell_type": "code",
   "execution_count": 1,
   "id": "91a37910",
   "metadata": {},
   "outputs": [
    {
     "data": {
      "text/plain": [
       "0    1\n",
       "1    2\n",
       "2    3\n",
       "3    4\n",
       "4    5\n",
       "dtype: int64"
      ]
     },
     "execution_count": 1,
     "metadata": {},
     "output_type": "execute_result"
    }
   ],
   "source": [
    "import pandas as pd\n",
    "\n",
    "s = pd.Series([1, 2, 3, 4, 5])\n",
    "s"
   ]
  },
  {
   "cell_type": "markdown",
   "id": "7423553f",
   "metadata": {},
   "source": [
    "En la salida, el objeto Series se imprime con los valores de la lista de datos y sus índices correspondientes (del 0 al 4). El tipo de dato del objeto Series es `int64`, que es un tipo de dato entero de 64 bits. Ahora, podemos acceder con los valores (`values`) y los atributos de índice (`index`). \n",
    "\n",
    "Para acceder a los valores de la serie, ocupamos el comando `values`:"
   ]
  },
  {
   "cell_type": "code",
   "execution_count": 2,
   "id": "244f8099",
   "metadata": {},
   "outputs": [
    {
     "data": {
      "text/plain": [
       "array([1, 2, 3, 4, 5], dtype=int64)"
      ]
     },
     "execution_count": 2,
     "metadata": {},
     "output_type": "execute_result"
    }
   ],
   "source": [
    "# valores\n",
    "s.values"
   ]
  },
  {
   "cell_type": "markdown",
   "id": "354c20e7",
   "metadata": {},
   "source": [
    "Para acceder a los valores del índice, ocupamos el comando `index`:"
   ]
  },
  {
   "cell_type": "code",
   "execution_count": 3,
   "id": "30cb19c6",
   "metadata": {},
   "outputs": [
    {
     "data": {
      "text/plain": [
       "RangeIndex(start=0, stop=5, step=1)"
      ]
     },
     "execution_count": 3,
     "metadata": {},
     "output_type": "execute_result"
    }
   ],
   "source": [
    "# indice\n",
    "s.index"
   ]
  },
  {
   "cell_type": "markdown",
   "id": "02c8666d",
   "metadata": {},
   "source": [
    "Por otro lado, puedes especificar un índice personalizado para una serie de Pandas utilizando el parámetro index al crear la serie. Por ejemplo:"
   ]
  },
  {
   "cell_type": "code",
   "execution_count": 4,
   "id": "29b41e07",
   "metadata": {},
   "outputs": [
    {
     "data": {
      "text/plain": [
       "a    10\n",
       "b    20\n",
       "c    30\n",
       "d    40\n",
       "e    50\n",
       "dtype: int64"
      ]
     },
     "execution_count": 4,
     "metadata": {},
     "output_type": "execute_result"
    }
   ],
   "source": [
    "data = [10, 20, 30, 40, 50]\n",
    "index = ['a', 'b', 'c', 'd', 'e']\n",
    "s = pd.Series(data, index=index)\n",
    "s"
   ]
  },
  {
   "cell_type": "markdown",
   "id": "1fe2d50d",
   "metadata": {},
   "source": [
    "En este caso, el índice de la serie se ha definido como una lista de cadenas de texto. Al especificar un índice personalizado, se puede utilizar ese índice para seleccionar elementos de la serie en lugar del índice numérico predeterminado."
   ]
  },
  {
   "cell_type": "markdown",
   "id": "fe960db8",
   "metadata": {},
   "source": [
    "\n",
    "### Pandas Dataframes\n",
    "\n",
    "<img src=\"https://raw.githubusercontent.com/fralfaro/MAT281_2022/main/docs/lectures/data_manipulation/data_manipulation/images/dataframe.png\" align=\"center\"/>\n",
    "\n",
    "\n",
    "Un objeto **DataFrame** es una estructura de datos tabular bidimensional, similar a una hoja de cálculo de Excel o una tabla de una base de datos relacional. Consiste en un conjunto ordenado de columnas, donde cada columna puede ser de un tipo de dato diferente (como enteros, números decimales o cadenas de texto), y un índice que identifica cada una de las filas.\n",
    "\n",
    "Los datos en un DataFrame se almacenan en una o varias estructuras de tipo **Series** de Pandas, una para cada columna del DataFrame. Cada serie de columnas tiene su propio nombre, y los nombres de las columnas se utilizan como etiquetas para acceder a los datos de esa columna. El índice de un DataFrame es un objeto de tipo Series que identifica cada una de las filas.\n",
    "\n",
    "Un objeto DataFrame de Pandas se puede crear a partir de una amplia variedad de fuentes de datos:\n",
    "\n",
    "* listas\n",
    "* diccionarios\n",
    "* arrays de NumPy\n",
    "* archivos CSV\n",
    "* bases de datos\n",
    "* muchas otras\n",
    "\n",
    "Aquí hay un ejemplo de cómo crear un DataFrame a partir de un diccionario:"
   ]
  },
  {
   "cell_type": "code",
   "execution_count": 5,
   "id": "1ee1515b",
   "metadata": {},
   "outputs": [
    {
     "data": {
      "text/html": [
       "<div>\n",
       "<style scoped>\n",
       "    .dataframe tbody tr th:only-of-type {\n",
       "        vertical-align: middle;\n",
       "    }\n",
       "\n",
       "    .dataframe tbody tr th {\n",
       "        vertical-align: top;\n",
       "    }\n",
       "\n",
       "    .dataframe thead th {\n",
       "        text-align: right;\n",
       "    }\n",
       "</style>\n",
       "<table border=\"1\" class=\"dataframe\">\n",
       "  <thead>\n",
       "    <tr style=\"text-align: right;\">\n",
       "      <th></th>\n",
       "      <th>nombre</th>\n",
       "      <th>edad</th>\n",
       "      <th>ciudad</th>\n",
       "    </tr>\n",
       "  </thead>\n",
       "  <tbody>\n",
       "    <tr>\n",
       "      <th>0</th>\n",
       "      <td>Juan</td>\n",
       "      <td>25</td>\n",
       "      <td>Madrid</td>\n",
       "    </tr>\n",
       "    <tr>\n",
       "      <th>1</th>\n",
       "      <td>Ana</td>\n",
       "      <td>31</td>\n",
       "      <td>Barcelona</td>\n",
       "    </tr>\n",
       "    <tr>\n",
       "      <th>2</th>\n",
       "      <td>Pedro</td>\n",
       "      <td>19</td>\n",
       "      <td>Valencia</td>\n",
       "    </tr>\n",
       "    <tr>\n",
       "      <th>3</th>\n",
       "      <td>Maria</td>\n",
       "      <td>42</td>\n",
       "      <td>Sevilla</td>\n",
       "    </tr>\n",
       "  </tbody>\n",
       "</table>\n",
       "</div>"
      ],
      "text/plain": [
       "  nombre  edad     ciudad\n",
       "0   Juan    25     Madrid\n",
       "1    Ana    31  Barcelona\n",
       "2  Pedro    19   Valencia\n",
       "3  Maria    42    Sevilla"
      ]
     },
     "execution_count": 5,
     "metadata": {},
     "output_type": "execute_result"
    }
   ],
   "source": [
    "data = {'nombre': ['Juan', 'Ana', 'Pedro', 'Maria'],\n",
    "        'edad': [25, 31, 19, 42],\n",
    "        'ciudad': ['Madrid', 'Barcelona', 'Valencia', 'Sevilla']}\n",
    "df = pd.DataFrame(data)\n",
    "\n",
    "df"
   ]
  },
  {
   "cell_type": "markdown",
   "id": "0f5dcb2d",
   "metadata": {},
   "source": [
    "Este código crea un DataFrame a partir de un diccionario que contiene tres columnas: **nombre**, **edad** y **ciudad**. "
   ]
  },
  {
   "cell_type": "markdown",
   "id": "75adef80",
   "metadata": {},
   "source": [
    "Al igual que los objetos Series, los Dataframes tienen índices y valores. "
   ]
  },
  {
   "cell_type": "code",
   "execution_count": 6,
   "id": "ff1810d5",
   "metadata": {},
   "outputs": [
    {
     "data": {
      "text/plain": [
       "array([['Juan', 25, 'Madrid'],\n",
       "       ['Ana', 31, 'Barcelona'],\n",
       "       ['Pedro', 19, 'Valencia'],\n",
       "       ['Maria', 42, 'Sevilla']], dtype=object)"
      ]
     },
     "execution_count": 6,
     "metadata": {},
     "output_type": "execute_result"
    }
   ],
   "source": [
    "# valores\n",
    "df.values"
   ]
  },
  {
   "cell_type": "code",
   "execution_count": 7,
   "id": "572182eb",
   "metadata": {},
   "outputs": [
    {
     "data": {
      "text/plain": [
       "RangeIndex(start=0, stop=4, step=1)"
      ]
     },
     "execution_count": 7,
     "metadata": {},
     "output_type": "execute_result"
    }
   ],
   "source": [
    "# indice\n",
    "df.index"
   ]
  },
  {
   "cell_type": "markdown",
   "id": "60b4df82",
   "metadata": {},
   "source": [
    "Adicionalmente, los objetos Dataframe tienen el atributo `columns`, objeto que contiene las etiquetas de las columnas:"
   ]
  },
  {
   "cell_type": "code",
   "execution_count": 8,
   "id": "8f7cf838",
   "metadata": {},
   "outputs": [
    {
     "data": {
      "text/plain": [
       "Index(['nombre', 'edad', 'ciudad'], dtype='object')"
      ]
     },
     "execution_count": 8,
     "metadata": {},
     "output_type": "execute_result"
    }
   ],
   "source": [
    "# columnas\n",
    "df.columns"
   ]
  }
 ],
 "metadata": {
  "kernelspec": {
   "display_name": "Python 3 (ipykernel)",
   "language": "python",
   "name": "python3"
  },
  "language_info": {
   "codemirror_mode": {
    "name": "ipython",
    "version": 3
   },
   "file_extension": ".py",
   "mimetype": "text/x-python",
   "name": "python",
   "nbconvert_exporter": "python",
   "pygments_lexer": "ipython3",
   "version": "3.10.11"
  }
 },
 "nbformat": 4,
 "nbformat_minor": 5
}
