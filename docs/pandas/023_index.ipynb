{
 "cells": [
  {
   "cell_type": "markdown",
   "id": "2c91c2cc",
   "metadata": {},
   "source": [
    "<a href=\"https://colab.research.google.com/github/fralfaro/python_eda/blob/main/docs/pandas/023_index.ipynb\" target=\"_parent\"><img src=\"https://colab.research.google.com/assets/colab-badge.svg\" alt=\"Open In Colab\"/></a>\n",
    "\n",
    "# Indexación y Selección \n",
    "\n",
    "## Indexación pandas Series\n",
    "\n",
    "\n",
    "La indexación y selección de objetos Series de Pandas es una de las funcionalidades más importantes de la biblioteca, y permite acceder a los elementos individuales de una serie, así como seleccionar subconjuntos de elementos según diferentes criterios. \n",
    "\n",
    "\n",
    "Para acceder a los elementos hay 2 formas de hacerlo.\n",
    "\n",
    "1. Por **etiquetas** o método `.loc`\n",
    "\n",
    "2. Por **posición** o el método `.iloc`\n"
   ]
  },
  {
   "cell_type": "code",
   "execution_count": 1,
   "id": "b28f8f49",
   "metadata": {},
   "outputs": [
    {
     "data": {
      "text/plain": [
       "manzanas    10\n",
       "naranjas     5\n",
       "plátanos     7\n",
       "peras        3\n",
       "dtype: int64"
      ]
     },
     "execution_count": 1,
     "metadata": {},
     "output_type": "execute_result"
    }
   ],
   "source": [
    "import pandas as pd\n",
    "\n",
    "data = {'manzanas': 10, 'naranjas': 5, 'plátanos': 7, 'peras': 3}\n",
    "frutas = pd.Series(data)\n",
    "frutas"
   ]
  },
  {
   "cell_type": "markdown",
   "id": "26b6d35c",
   "metadata": {},
   "source": [
    "### Indexación de etiquetas\n",
    "\n",
    "Podemos acceder a los elementos de la serie utilizando las etiquetas del índice de la serie. Podemos acceder a los elementos por su etiqueta de la siguiente manera:"
   ]
  },
  {
   "cell_type": "code",
   "execution_count": 2,
   "id": "0e3cae67",
   "metadata": {},
   "outputs": [
    {
     "name": "stdout",
     "output_type": "stream",
     "text": [
      "10\n"
     ]
    }
   ],
   "source": [
    "# acceder por indice 'manzana' - sin '.loc'\n",
    "print(frutas['manzanas']) # 10"
   ]
  },
  {
   "cell_type": "code",
   "execution_count": 3,
   "id": "0ded5152",
   "metadata": {},
   "outputs": [
    {
     "name": "stdout",
     "output_type": "stream",
     "text": [
      "10\n"
     ]
    }
   ],
   "source": [
    "# acceder por indice 'manzana' - con '.loc'\n",
    "print(frutas.loc['manzanas']) # 10"
   ]
  },
  {
   "cell_type": "markdown",
   "id": "988a4ad3",
   "metadata": {},
   "source": [
    "### Indexación de posición\n",
    "\n",
    "Podemos acceder a los elementos de la serie utilizando la posición en la serie. Podemos acceder a los elementos por su posición de la siguiente manera:"
   ]
  },
  {
   "cell_type": "code",
   "execution_count": 4,
   "id": "3e77e0f7",
   "metadata": {},
   "outputs": [
    {
     "name": "stdout",
     "output_type": "stream",
     "text": [
      "10\n"
     ]
    },
    {
     "name": "stderr",
     "output_type": "stream",
     "text": [
      "C:\\Users\\franc\\AppData\\Local\\Temp\\ipykernel_17048\\1885408761.py:2: FutureWarning: Series.__getitem__ treating keys as positions is deprecated. In a future version, integer keys will always be treated as labels (consistent with DataFrame behavior). To access a value by position, use `ser.iloc[pos]`\n",
      "  print(frutas[0]) # 10\n"
     ]
    }
   ],
   "source": [
    "# acceder por la posicion 0 - sin '.loc'\n",
    "print(frutas[0]) # 10"
   ]
  },
  {
   "cell_type": "code",
   "execution_count": 5,
   "id": "20ce8c62",
   "metadata": {},
   "outputs": [
    {
     "name": "stdout",
     "output_type": "stream",
     "text": [
      "10\n"
     ]
    }
   ],
   "source": [
    "# acceder por la posicion 0 - con '.iloc'\n",
    "print(frutas.iloc[0]) # 10"
   ]
  },
  {
   "cell_type": "markdown",
   "id": "23258c99",
   "metadata": {},
   "source": [
    "> **Nota**: De aquí en más utilizaremos `.loc` e `.iloc` para acceder a los elementos de un Dataframe, para ser **explícito** en la forma de acceder a los datos."
   ]
  },
  {
   "cell_type": "markdown",
   "id": "68f4c8f6",
   "metadata": {},
   "source": [
    "### Selección de múltiples elementos\n",
    "\n",
    "Podemos seleccionar múltiples elementos de la serie de varias maneras. Por ejemplo, podemos seleccionar los elementos por etiquetas de índice utilizando una lista de etiquetas:"
   ]
  },
  {
   "cell_type": "code",
   "execution_count": 6,
   "id": "94d0b659",
   "metadata": {},
   "outputs": [
    {
     "name": "stdout",
     "output_type": "stream",
     "text": [
      "manzanas    10\n",
      "naranjas     5\n",
      "dtype: int64\n"
     ]
    }
   ],
   "source": [
    "# seleccionar por indices 'manzanas' y 'naranjas'\n",
    "print(frutas.loc[['manzanas', 'naranjas']]) "
   ]
  },
  {
   "cell_type": "markdown",
   "id": "845bf27c",
   "metadata": {},
   "source": [
    "También podemos seleccionar los elementos por su posición utilizando la función `iloc()`:"
   ]
  },
  {
   "cell_type": "code",
   "execution_count": 7,
   "id": "8387aed2",
   "metadata": {},
   "outputs": [
    {
     "name": "stdout",
     "output_type": "stream",
     "text": [
      "manzanas    10\n",
      "plátanos     7\n",
      "dtype: int64\n"
     ]
    }
   ],
   "source": [
    "# acceder por posicion 0 y 2\n",
    "print(frutas.iloc[[0, 2]])"
   ]
  },
  {
   "cell_type": "markdown",
   "id": "c63cfb81",
   "metadata": {},
   "source": [
    "### Selección de rangos\n",
    "\n",
    "Podemos seleccionar rangos de elementos de la serie de varias maneras. Podemos seleccionar un rango de elementos utilizando etiquetas de índice:"
   ]
  },
  {
   "cell_type": "code",
   "execution_count": 8,
   "id": "08639d9f",
   "metadata": {},
   "outputs": [
    {
     "name": "stdout",
     "output_type": "stream",
     "text": [
      "manzanas    10\n",
      "naranjas     5\n",
      "plátanos     7\n",
      "dtype: int64\n"
     ]
    }
   ],
   "source": [
    "# rango de indices\n",
    "print(frutas.loc['manzanas':'plátanos']) "
   ]
  },
  {
   "cell_type": "markdown",
   "id": "d2a302e9",
   "metadata": {},
   "source": [
    "También podemos seleccionar un rango de elementos utilizando la función `iloc()` y especificando las posiciones del rango:"
   ]
  },
  {
   "cell_type": "code",
   "execution_count": 9,
   "id": "0107600e",
   "metadata": {},
   "outputs": [
    {
     "name": "stdout",
     "output_type": "stream",
     "text": [
      "naranjas    5\n",
      "plátanos    7\n",
      "dtype: int64\n"
     ]
    }
   ],
   "source": [
    "# rango de posiciones\n",
    "print(frutas.iloc[1:3]) "
   ]
  },
  {
   "cell_type": "markdown",
   "id": "40b33ff7",
   "metadata": {},
   "source": [
    "## Indexación pandas dataframe\n",
    "\n",
    "En Pandas, la indexación y selección de datos en un DataFrame se pueden realizar de varias maneras. Primero, es importante tener en cuenta que un DataFrame consta de filas y columnas etiquetadas. La selección de datos se puede hacer utilizando estas etiquetas o mediante la posición de las filas y columnas.\n",
    "\n",
    "Aquí hay algunas formas comunes de indexación y selección de datos en un DataFrame de Pandas:\n",
    "\n",
    "### Selección de columnas\n",
    "\n",
    "Podemos seleccionar una o varias columnas de un DataFrame de la siguiente manera:"
   ]
  },
  {
   "cell_type": "code",
   "execution_count": 10,
   "id": "8dc1ed99",
   "metadata": {},
   "outputs": [
    {
     "data": {
      "text/html": [
       "<div>\n",
       "<style scoped>\n",
       "    .dataframe tbody tr th:only-of-type {\n",
       "        vertical-align: middle;\n",
       "    }\n",
       "\n",
       "    .dataframe tbody tr th {\n",
       "        vertical-align: top;\n",
       "    }\n",
       "\n",
       "    .dataframe thead th {\n",
       "        text-align: right;\n",
       "    }\n",
       "</style>\n",
       "<table border=\"1\" class=\"dataframe\">\n",
       "  <thead>\n",
       "    <tr style=\"text-align: right;\">\n",
       "      <th></th>\n",
       "      <th>nombre</th>\n",
       "      <th>edad</th>\n",
       "      <th>ciudad</th>\n",
       "    </tr>\n",
       "  </thead>\n",
       "  <tbody>\n",
       "    <tr>\n",
       "      <th>a</th>\n",
       "      <td>Juan</td>\n",
       "      <td>28</td>\n",
       "      <td>Madrid</td>\n",
       "    </tr>\n",
       "    <tr>\n",
       "      <th>b</th>\n",
       "      <td>Ana</td>\n",
       "      <td>23</td>\n",
       "      <td>Barcelona</td>\n",
       "    </tr>\n",
       "    <tr>\n",
       "      <th>c</th>\n",
       "      <td>Pedro</td>\n",
       "      <td>35</td>\n",
       "      <td>Valencia</td>\n",
       "    </tr>\n",
       "  </tbody>\n",
       "</table>\n",
       "</div>"
      ],
      "text/plain": [
       "  nombre  edad     ciudad\n",
       "a   Juan    28     Madrid\n",
       "b    Ana    23  Barcelona\n",
       "c  Pedro    35   Valencia"
      ]
     },
     "execution_count": 10,
     "metadata": {},
     "output_type": "execute_result"
    }
   ],
   "source": [
    "# Crear un DataFrame de ejemplo\n",
    "data = {\n",
    "    'nombre': ['Juan', 'Ana', 'Pedro'], \n",
    "    'edad': [28, 23, 35], \n",
    "    'ciudad': ['Madrid', 'Barcelona', 'Valencia'],\n",
    "    \n",
    "}\n",
    "df = pd.DataFrame(data,index = ['a','b','c'])\n",
    "df"
   ]
  },
  {
   "cell_type": "code",
   "execution_count": 11,
   "id": "1fba6d0a",
   "metadata": {},
   "outputs": [
    {
     "data": {
      "text/plain": [
       "a     Juan\n",
       "b      Ana\n",
       "c    Pedro\n",
       "Name: nombre, dtype: object"
      ]
     },
     "execution_count": 11,
     "metadata": {},
     "output_type": "execute_result"
    }
   ],
   "source": [
    "# Selección de una columna\n",
    "nombre_columna = df['nombre']\n",
    "nombre_columna"
   ]
  },
  {
   "cell_type": "code",
   "execution_count": 12,
   "id": "c2a03e6f",
   "metadata": {},
   "outputs": [
    {
     "data": {
      "text/html": [
       "<div>\n",
       "<style scoped>\n",
       "    .dataframe tbody tr th:only-of-type {\n",
       "        vertical-align: middle;\n",
       "    }\n",
       "\n",
       "    .dataframe tbody tr th {\n",
       "        vertical-align: top;\n",
       "    }\n",
       "\n",
       "    .dataframe thead th {\n",
       "        text-align: right;\n",
       "    }\n",
       "</style>\n",
       "<table border=\"1\" class=\"dataframe\">\n",
       "  <thead>\n",
       "    <tr style=\"text-align: right;\">\n",
       "      <th></th>\n",
       "      <th>nombre</th>\n",
       "      <th>edad</th>\n",
       "    </tr>\n",
       "  </thead>\n",
       "  <tbody>\n",
       "    <tr>\n",
       "      <th>a</th>\n",
       "      <td>Juan</td>\n",
       "      <td>28</td>\n",
       "    </tr>\n",
       "    <tr>\n",
       "      <th>b</th>\n",
       "      <td>Ana</td>\n",
       "      <td>23</td>\n",
       "    </tr>\n",
       "    <tr>\n",
       "      <th>c</th>\n",
       "      <td>Pedro</td>\n",
       "      <td>35</td>\n",
       "    </tr>\n",
       "  </tbody>\n",
       "</table>\n",
       "</div>"
      ],
      "text/plain": [
       "  nombre  edad\n",
       "a   Juan    28\n",
       "b    Ana    23\n",
       "c  Pedro    35"
      ]
     },
     "execution_count": 12,
     "metadata": {},
     "output_type": "execute_result"
    }
   ],
   "source": [
    "# Selección de varias columnas\n",
    "varias_columnas = df[['nombre', 'edad']]\n",
    "varias_columnas"
   ]
  },
  {
   "cell_type": "markdown",
   "id": "d63553c4",
   "metadata": {},
   "source": [
    "### Selección de filas\n",
    "\n",
    "Podemos seleccionar una o varias filas de un DataFrame utilizando el índice de la fila o utilizando la función `iloc()`:"
   ]
  },
  {
   "cell_type": "code",
   "execution_count": 13,
   "id": "5cf71ea4",
   "metadata": {},
   "outputs": [
    {
     "data": {
      "text/plain": [
       "nombre      Juan\n",
       "edad          28\n",
       "ciudad    Madrid\n",
       "Name: a, dtype: object"
      ]
     },
     "execution_count": 13,
     "metadata": {},
     "output_type": "execute_result"
    }
   ],
   "source": [
    "# Selección de una fila por etiqueta\n",
    "fila = df.loc['a']\n",
    "fila"
   ]
  },
  {
   "cell_type": "code",
   "execution_count": 14,
   "id": "7b83783f",
   "metadata": {},
   "outputs": [
    {
     "data": {
      "text/html": [
       "<div>\n",
       "<style scoped>\n",
       "    .dataframe tbody tr th:only-of-type {\n",
       "        vertical-align: middle;\n",
       "    }\n",
       "\n",
       "    .dataframe tbody tr th {\n",
       "        vertical-align: top;\n",
       "    }\n",
       "\n",
       "    .dataframe thead th {\n",
       "        text-align: right;\n",
       "    }\n",
       "</style>\n",
       "<table border=\"1\" class=\"dataframe\">\n",
       "  <thead>\n",
       "    <tr style=\"text-align: right;\">\n",
       "      <th></th>\n",
       "      <th>nombre</th>\n",
       "      <th>edad</th>\n",
       "      <th>ciudad</th>\n",
       "    </tr>\n",
       "  </thead>\n",
       "  <tbody>\n",
       "    <tr>\n",
       "      <th>a</th>\n",
       "      <td>Juan</td>\n",
       "      <td>28</td>\n",
       "      <td>Madrid</td>\n",
       "    </tr>\n",
       "    <tr>\n",
       "      <th>b</th>\n",
       "      <td>Ana</td>\n",
       "      <td>23</td>\n",
       "      <td>Barcelona</td>\n",
       "    </tr>\n",
       "  </tbody>\n",
       "</table>\n",
       "</div>"
      ],
      "text/plain": [
       "  nombre  edad     ciudad\n",
       "a   Juan    28     Madrid\n",
       "b    Ana    23  Barcelona"
      ]
     },
     "execution_count": 14,
     "metadata": {},
     "output_type": "execute_result"
    }
   ],
   "source": [
    "# Selección de varias filas por etiqueta\n",
    "varias_filas = df.loc['a':'b']\n",
    "varias_filas"
   ]
  },
  {
   "cell_type": "code",
   "execution_count": 15,
   "id": "6deb8e74",
   "metadata": {},
   "outputs": [
    {
     "data": {
      "text/plain": [
       "nombre      Juan\n",
       "edad          28\n",
       "ciudad    Madrid\n",
       "Name: a, dtype: object"
      ]
     },
     "execution_count": 15,
     "metadata": {},
     "output_type": "execute_result"
    }
   ],
   "source": [
    "# Selección de una fila por posición\n",
    "fila_posicion = df.iloc[0]\n",
    "fila_posicion"
   ]
  },
  {
   "cell_type": "code",
   "execution_count": 16,
   "id": "f93a0be4",
   "metadata": {},
   "outputs": [
    {
     "data": {
      "text/html": [
       "<div>\n",
       "<style scoped>\n",
       "    .dataframe tbody tr th:only-of-type {\n",
       "        vertical-align: middle;\n",
       "    }\n",
       "\n",
       "    .dataframe tbody tr th {\n",
       "        vertical-align: top;\n",
       "    }\n",
       "\n",
       "    .dataframe thead th {\n",
       "        text-align: right;\n",
       "    }\n",
       "</style>\n",
       "<table border=\"1\" class=\"dataframe\">\n",
       "  <thead>\n",
       "    <tr style=\"text-align: right;\">\n",
       "      <th></th>\n",
       "      <th>nombre</th>\n",
       "      <th>edad</th>\n",
       "      <th>ciudad</th>\n",
       "    </tr>\n",
       "  </thead>\n",
       "  <tbody>\n",
       "    <tr>\n",
       "      <th>a</th>\n",
       "      <td>Juan</td>\n",
       "      <td>28</td>\n",
       "      <td>Madrid</td>\n",
       "    </tr>\n",
       "    <tr>\n",
       "      <th>b</th>\n",
       "      <td>Ana</td>\n",
       "      <td>23</td>\n",
       "      <td>Barcelona</td>\n",
       "    </tr>\n",
       "  </tbody>\n",
       "</table>\n",
       "</div>"
      ],
      "text/plain": [
       "  nombre  edad     ciudad\n",
       "a   Juan    28     Madrid\n",
       "b    Ana    23  Barcelona"
      ]
     },
     "execution_count": 16,
     "metadata": {},
     "output_type": "execute_result"
    }
   ],
   "source": [
    "# Selección de varias filas por posición\n",
    "varias_filas_posicion = df.iloc[0:2]\n",
    "varias_filas_posicion"
   ]
  },
  {
   "cell_type": "markdown",
   "id": "a7e08d93",
   "metadata": {},
   "source": [
    "### Selección de filas y columnas\n",
    "\n",
    "Podemos seleccionar un subconjunto de filas y columnas de un DataFrame utilizando etiquetas o posición de fila y columna:"
   ]
  },
  {
   "cell_type": "code",
   "execution_count": 17,
   "id": "72e63aa4",
   "metadata": {},
   "outputs": [
    {
     "data": {
      "text/html": [
       "<div>\n",
       "<style scoped>\n",
       "    .dataframe tbody tr th:only-of-type {\n",
       "        vertical-align: middle;\n",
       "    }\n",
       "\n",
       "    .dataframe tbody tr th {\n",
       "        vertical-align: top;\n",
       "    }\n",
       "\n",
       "    .dataframe thead th {\n",
       "        text-align: right;\n",
       "    }\n",
       "</style>\n",
       "<table border=\"1\" class=\"dataframe\">\n",
       "  <thead>\n",
       "    <tr style=\"text-align: right;\">\n",
       "      <th></th>\n",
       "      <th>nombre</th>\n",
       "      <th>edad</th>\n",
       "    </tr>\n",
       "  </thead>\n",
       "  <tbody>\n",
       "    <tr>\n",
       "      <th>a</th>\n",
       "      <td>Juan</td>\n",
       "      <td>28</td>\n",
       "    </tr>\n",
       "    <tr>\n",
       "      <th>b</th>\n",
       "      <td>Ana</td>\n",
       "      <td>23</td>\n",
       "    </tr>\n",
       "  </tbody>\n",
       "</table>\n",
       "</div>"
      ],
      "text/plain": [
       "  nombre  edad\n",
       "a   Juan    28\n",
       "b    Ana    23"
      ]
     },
     "execution_count": 17,
     "metadata": {},
     "output_type": "execute_result"
    }
   ],
   "source": [
    "# Selección de filas y columnas por etiqueta\n",
    "subconjunto = df.loc['a':'b', ['nombre', 'edad']]\n",
    "subconjunto"
   ]
  },
  {
   "cell_type": "code",
   "execution_count": 18,
   "id": "3017edbf",
   "metadata": {},
   "outputs": [
    {
     "data": {
      "text/html": [
       "<div>\n",
       "<style scoped>\n",
       "    .dataframe tbody tr th:only-of-type {\n",
       "        vertical-align: middle;\n",
       "    }\n",
       "\n",
       "    .dataframe tbody tr th {\n",
       "        vertical-align: top;\n",
       "    }\n",
       "\n",
       "    .dataframe thead th {\n",
       "        text-align: right;\n",
       "    }\n",
       "</style>\n",
       "<table border=\"1\" class=\"dataframe\">\n",
       "  <thead>\n",
       "    <tr style=\"text-align: right;\">\n",
       "      <th></th>\n",
       "      <th>nombre</th>\n",
       "      <th>edad</th>\n",
       "    </tr>\n",
       "  </thead>\n",
       "  <tbody>\n",
       "    <tr>\n",
       "      <th>a</th>\n",
       "      <td>Juan</td>\n",
       "      <td>28</td>\n",
       "    </tr>\n",
       "    <tr>\n",
       "      <th>b</th>\n",
       "      <td>Ana</td>\n",
       "      <td>23</td>\n",
       "    </tr>\n",
       "  </tbody>\n",
       "</table>\n",
       "</div>"
      ],
      "text/plain": [
       "  nombre  edad\n",
       "a   Juan    28\n",
       "b    Ana    23"
      ]
     },
     "execution_count": 18,
     "metadata": {},
     "output_type": "execute_result"
    }
   ],
   "source": [
    "# Selección de filas y columnas por posición\n",
    "subconjunto_posicion = df.iloc[0:2, 0:2]\n",
    "subconjunto_posicion"
   ]
  },
  {
   "cell_type": "markdown",
   "id": "905c6f5a",
   "metadata": {},
   "source": [
    "## Diferencia de loc e iloc\n",
    "\n",
    "`loc` e `iloc` son dos atributos que se utilizan para la selección de datos en un DataFrame o una Serie. Ambos atributos permiten la selección de filas y columnas específicas en un DataFrame, pero utilizan diferentes métodos para hacerlo.\n",
    "\n",
    "* `loc`: este atributo permite la selección de datos mediante etiquetas de filas y columnas. Se utiliza para acceder a las filas y columnas utilizando etiquetas explícitas. Por ejemplo, `data.loc[3, 'columna']` seleccionaría el valor en la fila 3 y la columna 'columna'.\n",
    "\n",
    "* `iloc` : este atributo permite la selección de datos mediante índices enteros de filas y columnas. Se utiliza para acceder a las filas y columnas utilizando índices enteros implícitos. Por ejemplo, `df.iloc[3, 1]` seleccionaría el valor en la cuarta fila y la segunda columna.\n",
    "\n",
    "La principal diferencia entre loc e iloc es el tipo de indexación utilizado. loc se utiliza para indexar los datos mediante etiquetas, mientras que iloc se utiliza para indexar los datos mediante la posición en la matriz de datos.\n",
    "\n",
    "Además, `loc` es inclusivo en el sentido de que el límite superior se incluye en la selección, mientras que `iloc` es exclusivo en el límite superior y no incluye el valor correspondiente. Es decir, `loc` incluye la última fila/columna seleccionada, mientras que `iloc` no lo hace.\n",
    "\n",
    "\n",
    "<img src=\"https://miro.medium.com/max/1400/1*dYtynwab99wnMqfgyPUd3w.png\" alt=\"\" width=\"500\" align=\"center\"/>\n",
    "\n",
    "\n",
    "\n",
    "\n",
    "Por ejemplo, si tenemos un DataFrame con índice de etiquetas de `A` a `E` y un índice numérico de `0` a `4`, la selección utilizando `loc` incluiría la última fila y columna seleccionada, mientras que la selección utilizando `iloc` no lo haría:"
   ]
  },
  {
   "cell_type": "code",
   "execution_count": 19,
   "id": "ea9cbcf8",
   "metadata": {},
   "outputs": [
    {
     "data": {
      "text/html": [
       "<div>\n",
       "<style scoped>\n",
       "    .dataframe tbody tr th:only-of-type {\n",
       "        vertical-align: middle;\n",
       "    }\n",
       "\n",
       "    .dataframe tbody tr th {\n",
       "        vertical-align: top;\n",
       "    }\n",
       "\n",
       "    .dataframe thead th {\n",
       "        text-align: right;\n",
       "    }\n",
       "</style>\n",
       "<table border=\"1\" class=\"dataframe\">\n",
       "  <thead>\n",
       "    <tr style=\"text-align: right;\">\n",
       "      <th></th>\n",
       "      <th>col_1</th>\n",
       "      <th>col_2</th>\n",
       "      <th>col_3</th>\n",
       "    </tr>\n",
       "  </thead>\n",
       "  <tbody>\n",
       "    <tr>\n",
       "      <th>A</th>\n",
       "      <td>1</td>\n",
       "      <td>6</td>\n",
       "      <td>11</td>\n",
       "    </tr>\n",
       "    <tr>\n",
       "      <th>B</th>\n",
       "      <td>2</td>\n",
       "      <td>7</td>\n",
       "      <td>12</td>\n",
       "    </tr>\n",
       "    <tr>\n",
       "      <th>C</th>\n",
       "      <td>3</td>\n",
       "      <td>8</td>\n",
       "      <td>13</td>\n",
       "    </tr>\n",
       "    <tr>\n",
       "      <th>D</th>\n",
       "      <td>4</td>\n",
       "      <td>9</td>\n",
       "      <td>14</td>\n",
       "    </tr>\n",
       "    <tr>\n",
       "      <th>E</th>\n",
       "      <td>5</td>\n",
       "      <td>10</td>\n",
       "      <td>15</td>\n",
       "    </tr>\n",
       "  </tbody>\n",
       "</table>\n",
       "</div>"
      ],
      "text/plain": [
       "   col_1  col_2  col_3\n",
       "A      1      6     11\n",
       "B      2      7     12\n",
       "C      3      8     13\n",
       "D      4      9     14\n",
       "E      5     10     15"
      ]
     },
     "execution_count": 19,
     "metadata": {},
     "output_type": "execute_result"
    }
   ],
   "source": [
    "df = pd.DataFrame({\n",
    "    'col_1': [1, 2, 3, 4, 5], \n",
    "    'col_2': [6, 7, 8, 9, 10], \n",
    "    'col_3': [11, 12, 13, 14, 15]},\n",
    "    index=['A', 'B', 'C', 'D', 'E']\n",
    ")\n",
    "\n",
    "df"
   ]
  },
  {
   "cell_type": "code",
   "execution_count": 20,
   "id": "5167f5ff",
   "metadata": {},
   "outputs": [
    {
     "data": {
      "text/html": [
       "<div>\n",
       "<style scoped>\n",
       "    .dataframe tbody tr th:only-of-type {\n",
       "        vertical-align: middle;\n",
       "    }\n",
       "\n",
       "    .dataframe tbody tr th {\n",
       "        vertical-align: top;\n",
       "    }\n",
       "\n",
       "    .dataframe thead th {\n",
       "        text-align: right;\n",
       "    }\n",
       "</style>\n",
       "<table border=\"1\" class=\"dataframe\">\n",
       "  <thead>\n",
       "    <tr style=\"text-align: right;\">\n",
       "      <th></th>\n",
       "      <th>col_1</th>\n",
       "      <th>col_2</th>\n",
       "    </tr>\n",
       "  </thead>\n",
       "  <tbody>\n",
       "    <tr>\n",
       "      <th>B</th>\n",
       "      <td>2</td>\n",
       "      <td>7</td>\n",
       "    </tr>\n",
       "    <tr>\n",
       "      <th>C</th>\n",
       "      <td>3</td>\n",
       "      <td>8</td>\n",
       "    </tr>\n",
       "    <tr>\n",
       "      <th>D</th>\n",
       "      <td>4</td>\n",
       "      <td>9</td>\n",
       "    </tr>\n",
       "  </tbody>\n",
       "</table>\n",
       "</div>"
      ],
      "text/plain": [
       "   col_1  col_2\n",
       "B      2      7\n",
       "C      3      8\n",
       "D      4      9"
      ]
     },
     "execution_count": 20,
     "metadata": {},
     "output_type": "execute_result"
    }
   ],
   "source": [
    "# Selección utilizando loc\n",
    "df.loc['B':'D', ['col_1','col_2']]"
   ]
  },
  {
   "cell_type": "code",
   "execution_count": 21,
   "id": "b119f4b6",
   "metadata": {},
   "outputs": [
    {
     "data": {
      "text/html": [
       "<div>\n",
       "<style scoped>\n",
       "    .dataframe tbody tr th:only-of-type {\n",
       "        vertical-align: middle;\n",
       "    }\n",
       "\n",
       "    .dataframe tbody tr th {\n",
       "        vertical-align: top;\n",
       "    }\n",
       "\n",
       "    .dataframe thead th {\n",
       "        text-align: right;\n",
       "    }\n",
       "</style>\n",
       "<table border=\"1\" class=\"dataframe\">\n",
       "  <thead>\n",
       "    <tr style=\"text-align: right;\">\n",
       "      <th></th>\n",
       "      <th>col_1</th>\n",
       "      <th>col_2</th>\n",
       "    </tr>\n",
       "  </thead>\n",
       "  <tbody>\n",
       "    <tr>\n",
       "      <th>B</th>\n",
       "      <td>2</td>\n",
       "      <td>7</td>\n",
       "    </tr>\n",
       "    <tr>\n",
       "      <th>C</th>\n",
       "      <td>3</td>\n",
       "      <td>8</td>\n",
       "    </tr>\n",
       "    <tr>\n",
       "      <th>D</th>\n",
       "      <td>4</td>\n",
       "      <td>9</td>\n",
       "    </tr>\n",
       "  </tbody>\n",
       "</table>\n",
       "</div>"
      ],
      "text/plain": [
       "   col_1  col_2\n",
       "B      2      7\n",
       "C      3      8\n",
       "D      4      9"
      ]
     },
     "execution_count": 21,
     "metadata": {},
     "output_type": "execute_result"
    }
   ],
   "source": [
    "# Selección utilizando iloc\n",
    "df.iloc[1:4, 0:2]"
   ]
  },
  {
   "cell_type": "markdown",
   "id": "709017fe",
   "metadata": {},
   "source": [
    "En resumen, la principal diferencia entre `loc` e `iloc` es el tipo de indexación utilizado y cómo se maneja el límite superior en la selección. `loc` se utiliza para indexar los datos mediante etiquetas explícitas, mientras que `iloc` se utiliza para indexar los datos mediante posiciones implícitas."
   ]
  }
 ],
 "metadata": {
  "kernelspec": {
   "display_name": "Python 3 (ipykernel)",
   "language": "python",
   "name": "python3"
  },
  "language_info": {
   "codemirror_mode": {
    "name": "ipython",
    "version": 3
   },
   "file_extension": ".py",
   "mimetype": "text/x-python",
   "name": "python",
   "nbconvert_exporter": "python",
   "pygments_lexer": "ipython3",
   "version": "3.10.11"
  }
 },
 "nbformat": 4,
 "nbformat_minor": 5
}
