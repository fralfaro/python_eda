{
 "cells": [
  {
   "cell_type": "markdown",
   "id": "d7af8762",
   "metadata": {},
   "source": [
    "<a href=\"https://colab.research.google.com/github/fralfaro/python_eda/blob/main/docs/pandas/026_fechas.ipynb\" target=\"_parent\"><img src=\"https://colab.research.google.com/assets/colab-badge.svg\" alt=\"Open In Colab\"/></a>\n",
    "\n",
    "# Manipulación de Fechas\n",
    "\n",
    "Pandas se desarrolló en el contexto del modelado financiero, por lo que, contiene varias herramientas para trabajar con fechas, horas y datos indexados por tiempo.\n",
    "\n",
    "Comenzaremos por entendender las herramientas para manejar fechas y horas en Python, antes de pasar más específicamente a las herramientas proporcionadas por Pandas."
   ]
  },
  {
   "cell_type": "markdown",
   "id": "9f44509b",
   "metadata": {},
   "source": [
    "## Fechas y horas Python\n",
    "\n",
    "Python tiene dos módulos integrados para trabajar con fechas y horas: `datetime` y `dateutil`.\n",
    "\n",
    "El módulo `datetime` proporciona clases para trabajar con fechas y horas. La clase principal es `datetime.datetime`, que combina una fecha y una hora. Por ejemplo, puedes crear un objeto `datetime.datetime` con la fecha y hora actual usando la función `now()`:"
   ]
  },
  {
   "cell_type": "code",
   "execution_count": 1,
   "id": "b650996a",
   "metadata": {},
   "outputs": [
    {
     "name": "stdout",
     "output_type": "stream",
     "text": [
      "2023-02-20 14:54:24.462728\n"
     ]
    }
   ],
   "source": [
    "import datetime\n",
    "\n",
    "now = datetime.datetime.now()\n",
    "print(now)"
   ]
  },
  {
   "cell_type": "markdown",
   "id": "72cdd57d",
   "metadata": {},
   "source": [
    "Puedes acceder a partes específicas de un objeto `datetime.datetime`, como el año, el mes, el día, la hora, el minuto y el segundo. Algunos de los atributos más comunes son:\n",
    "\n",
    "* `year`: representa el año de la fecha y la hora.\n",
    "* `month`: representa el mes de la fecha y la hora, como un número entre 1 y 12.\n",
    "* `day`: representa el día del mes de la fecha y la hora, como un número entre 1 y 31.\n",
    "* `hour`: representa la hora del día de la fecha y la hora, como un número entre 0 y 23.\n",
    "* `minute`: representa los minutos de la hora de la fecha y la hora, como un número entre 0 y 59.\n",
    "* `second`: representa los segundos de la hora de la fecha y la hora, como un número entre 0 y 59.\n",
    "* `microsecond`: representa los microsegundos de la hora de la fecha y la hora, como un número entre 0 y 999999."
   ]
  },
  {
   "cell_type": "code",
   "execution_count": 2,
   "id": "324c05f8",
   "metadata": {},
   "outputs": [
    {
     "name": "stdout",
     "output_type": "stream",
     "text": [
      "2023\n",
      "2\n",
      "20\n",
      "14\n",
      "54\n",
      "24\n",
      "482265\n"
     ]
    }
   ],
   "source": [
    "from datetime import datetime\n",
    "\n",
    "# Crear objeto datetime\n",
    "now = datetime.now()\n",
    "\n",
    "# Acceder a los atributos\n",
    "print(now.year)\n",
    "print(now.month)\n",
    "print(now.day)\n",
    "print(now.hour)\n",
    "print(now.minute)\n",
    "print(now.second)\n",
    "print(now.microsecond)"
   ]
  },
  {
   "cell_type": "markdown",
   "id": "884b9500",
   "metadata": {},
   "source": [
    "También puedes crear un objeto `datetime.datetime` a partir de una cadena de texto usando la función `strptime()`:"
   ]
  },
  {
   "cell_type": "code",
   "execution_count": 3,
   "id": "124e6167",
   "metadata": {},
   "outputs": [
    {
     "name": "stdout",
     "output_type": "stream",
     "text": [
      "2023-02-20\n",
      "20/02/2023\n",
      "2023-02-20 14:54:24\n",
      "20/02/2023 14:54\n",
      "Monday, February 20, 2023\n"
     ]
    }
   ],
   "source": [
    "from datetime import datetime\n",
    "\n",
    "# Crear objeto datetime\n",
    "now = datetime.now()\n",
    "\n",
    "# Convertir objeto datetime en cadena de texto\n",
    "# Formato: AAAA-MM-DD\n",
    "date_string = now.strftime('%Y-%m-%d')\n",
    "print(date_string)\n",
    "\n",
    "# Formato: DD/MM/AAAA\n",
    "date_string = now.strftime('%d/%m/%Y')\n",
    "print(date_string)\n",
    "\n",
    "# Formato: AAAA-MM-DD HH:MM:SS\n",
    "date_string = now.strftime('%Y-%m-%d %H:%M:%S')\n",
    "print(date_string)\n",
    "\n",
    "# Formato: DD/MM/AAAA HH:MM\n",
    "date_string = now.strftime('%d/%m/%Y %H:%M')\n",
    "print(date_string)\n",
    "\n",
    "# Formato: Día de la semana, Mes DD, AAAA\n",
    "date_string = now.strftime('%A, %B %d, %Y')\n",
    "print(date_string)"
   ]
  },
  {
   "cell_type": "markdown",
   "id": "8b296f68",
   "metadata": {},
   "source": [
    "Algunos de los códigos de formato más comunes son:\n",
    "\n",
    "* `%Y`: año con cuatro dígitos.\n",
    "* `%y`: año con dos dígitos.\n",
    "* `%m`: mes como número de dos dígitos.\n",
    "* `%d`: día del mes como número de dos dígitos.\n",
    "* `%H`: hora en formato de 24 horas con dos dígitos.\n",
    "* `%I`: hora en formato de 12 horas con dos dígitos.\n",
    "* `%M`: minutos con dos dígitos.\n",
    "* `%S`: segundos con dos dígitos.\n",
    "* `%p`: indicador de AM/PM."
   ]
  },
  {
   "cell_type": "markdown",
   "id": "097f16f1",
   "metadata": {},
   "source": [
    "> **Nota**: La lista completa de códigos de formato se puede encontrar en la [documentación oficial de Python](https://docs.python.org/3/library/datetime.html#strftime-strptime-behavior)."
   ]
  },
  {
   "cell_type": "markdown",
   "id": "c9674cfc",
   "metadata": {},
   "source": [
    "El módulo `dateutil` es una extensión del módulo `datetime` que proporciona funciones adicionales para trabajar con fechas y horas. Por ejemplo, puedes crear un objeto `dateutil.parser.parse()` a partir de una cadena de texto que contenga una fecha y hora, y `dateutil.relativedelta.relativedelta()` para calcular la diferencia entre dos fechas:"
   ]
  },
  {
   "cell_type": "code",
   "execution_count": 4,
   "id": "1f9772aa",
   "metadata": {},
   "outputs": [],
   "source": [
    "from dateutil.parser import parse\n",
    "from dateutil.relativedelta import relativedelta"
   ]
  },
  {
   "cell_type": "code",
   "execution_count": 5,
   "id": "c43a6d42",
   "metadata": {},
   "outputs": [
    {
     "name": "stdout",
     "output_type": "stream",
     "text": [
      "2022-02-17 15:30:00\n"
     ]
    }
   ],
   "source": [
    "# funcion parse\n",
    "date_string = 'February 17, 2022 3:30 PM'\n",
    "date = parse(date_string)\n",
    "print(date)"
   ]
  },
  {
   "cell_type": "code",
   "execution_count": 7,
   "id": "4729a234",
   "metadata": {},
   "outputs": [
    {
     "name": "stdout",
     "output_type": "stream",
     "text": [
      "relativedelta(months=+1)\n",
      "1 0\n"
     ]
    }
   ],
   "source": [
    "# diferencia de fechas\n",
    "date1 = datetime(2022, 2, 17)\n",
    "date2 = datetime(2022, 3, 17)\n",
    "delta = relativedelta(date2, date1)\n",
    "\n",
    "print(delta)\n",
    "print(delta.months, delta.days)"
   ]
  },
  {
   "cell_type": "markdown",
   "id": "efa6e371",
   "metadata": {},
   "source": [
    "Estos son solo algunos ejemplos de cómo puedes trabajar con fechas y horas en Python utilizando los módulos `datetime` y `dateutil`. Hay muchas más funciones disponibles en estos módulos que pueden ayudarte a trabajar con fechas y horas de manera más avanzada."
   ]
  },
  {
   "cell_type": "markdown",
   "id": "2dd136d8",
   "metadata": {},
   "source": [
    "## Fechas y horas Numpy\n",
    "\n",
    "NumPy es una librería de Python que se enfoca en el procesamiento de matrices y arreglos numéricos. El tipo de datos `datetime64` de NumPy permite trabajar con datos de tiempo de manera más eficiente que con las clases `datetime` y `dateutil`.\n",
    "\n",
    "El tipo de datos `datetime64` es un tipo de datos de fecha y hora nativo de NumPy. `datetime64` representa fechas y horas como enteros de 64 bits, donde el número entero representa un número de nanosegundos desde el 1 de enero de 1970. Puedes crear un arreglo `datetime64` a partir de una cadena de texto que contenga una fecha y hora usando la función `numpy.datetime64()`:"
   ]
  },
  {
   "cell_type": "code",
   "execution_count": 8,
   "id": "146e4d65",
   "metadata": {},
   "outputs": [
    {
     "name": "stdout",
     "output_type": "stream",
     "text": [
      "2022-02-17\n"
     ]
    }
   ],
   "source": [
    "import numpy as np\n",
    "\n",
    "date_string = '2022-02-17'\n",
    "date = np.datetime64(date_string)\n",
    "print(date)"
   ]
  },
  {
   "cell_type": "markdown",
   "id": "6d69ad39",
   "metadata": {},
   "source": [
    "Puedes crear un rango de fechas usando la función `numpy.arange()` con un paso de tiempo de `datetime64`:"
   ]
  },
  {
   "cell_type": "code",
   "execution_count": 9,
   "id": "e9103261",
   "metadata": {},
   "outputs": [
    {
     "name": "stdout",
     "output_type": "stream",
     "text": [
      "['2022-02-01' '2022-02-02' '2022-02-03' '2022-02-04' '2022-02-05'\n",
      " '2022-02-06' '2022-02-07' '2022-02-08' '2022-02-09' '2022-02-10'\n",
      " '2022-02-11' '2022-02-12' '2022-02-13' '2022-02-14' '2022-02-15'\n",
      " '2022-02-16' '2022-02-17' '2022-02-18' '2022-02-19' '2022-02-20'\n",
      " '2022-02-21' '2022-02-22' '2022-02-23' '2022-02-24' '2022-02-25'\n",
      " '2022-02-26' '2022-02-27' '2022-02-28']\n"
     ]
    }
   ],
   "source": [
    "dates = np.arange('2022-02', '2022-03', dtype='datetime64[D]')\n",
    "print(dates)"
   ]
  },
  {
   "cell_type": "markdown",
   "id": "37a47cee",
   "metadata": {},
   "source": [
    "También puedes realizar operaciones aritméticas en objetos `datetime64`, como agregar días, meses o años. Por ejemplo:"
   ]
  },
  {
   "cell_type": "code",
   "execution_count": 10,
   "id": "6db77c26",
   "metadata": {},
   "outputs": [
    {
     "name": "stdout",
     "output_type": "stream",
     "text": [
      "['2022-02-18' '2022-02-19' '2022-02-20']\n"
     ]
    }
   ],
   "source": [
    "dates = np.array(['2022-02-17', '2022-02-18', '2022-02-19'], dtype='datetime64')\n",
    "new_dates = dates + np.timedelta64(1, 'D')\n",
    "print(new_dates)"
   ]
  },
  {
   "cell_type": "markdown",
   "id": "385756f1",
   "metadata": {},
   "source": [
    "Además, NumPy proporciona funciones para realizar cálculos de fechas y horas, como `numpy.busday_count()`, que calcula el número de días hábiles entre dos fechas. Por ejemplo:"
   ]
  },
  {
   "cell_type": "code",
   "execution_count": 11,
   "id": "9fd145bc",
   "metadata": {},
   "outputs": [
    {
     "name": "stdout",
     "output_type": "stream",
     "text": [
      "4\n"
     ]
    }
   ],
   "source": [
    "start_date = np.datetime64('2022-02-15')\n",
    "end_date = np.datetime64('2022-02-20')\n",
    "count = np.busday_count(start_date, end_date)\n",
    "print(count)"
   ]
  },
  {
   "cell_type": "markdown",
   "id": "167bee0a",
   "metadata": {},
   "source": [
    "Estos son solo algunos ejemplos de cómo puedes trabajar con fechas y horas en NumPy utilizando el tipo de datos `datetime64`. NumPy también proporciona muchas más funciones útiles para trabajar con datos de tiempo de manera eficiente."
   ]
  },
  {
   "cell_type": "markdown",
   "id": "4b0ea53b",
   "metadata": {},
   "source": [
    "## Fechas y horas Pandas\n",
    "\n",
    "Pandas tiene una amplia variedad de herramientas para trabajar con fechas y horas, incluyendo las clases `Timestamp`, `DatetimeIndex`, y `Period`.\n",
    "\n",
    "La clase `Timestamp` representa una sola fecha y hora. Puedes crear un objeto `Timestamp` a partir de una cadena de texto que contenga una fecha y hora usando la función `pandas.to_datetime()`:"
   ]
  },
  {
   "cell_type": "code",
   "execution_count": 12,
   "id": "75fd33eb",
   "metadata": {},
   "outputs": [
    {
     "name": "stdout",
     "output_type": "stream",
     "text": [
      "2022-02-17 00:00:00\n"
     ]
    }
   ],
   "source": [
    "import pandas as pd\n",
    "\n",
    "date_string = '2022-02-17'\n",
    "date = pd.to_datetime(date_string)\n",
    "print(date)"
   ]
  },
  {
   "cell_type": "markdown",
   "id": "399a34e8",
   "metadata": {},
   "source": [
    "La clase `DatetimeIndex` es una estructura de datos que contiene una serie de fechas y horas. Puedes crear un objeto `DatetimeIndex` a partir de una lista o un rango de fechas usando la función `pandas.date_range()`:"
   ]
  },
  {
   "cell_type": "code",
   "execution_count": 13,
   "id": "bc5fb6e5",
   "metadata": {},
   "outputs": [
    {
     "name": "stdout",
     "output_type": "stream",
     "text": [
      "DatetimeIndex(['2022-02-01', '2022-02-02', '2022-02-03', '2022-02-04',\n",
      "               '2022-02-05', '2022-02-06', '2022-02-07', '2022-02-08',\n",
      "               '2022-02-09', '2022-02-10', '2022-02-11', '2022-02-12',\n",
      "               '2022-02-13', '2022-02-14', '2022-02-15', '2022-02-16',\n",
      "               '2022-02-17', '2022-02-18', '2022-02-19', '2022-02-20',\n",
      "               '2022-02-21', '2022-02-22', '2022-02-23', '2022-02-24',\n",
      "               '2022-02-25', '2022-02-26', '2022-02-27', '2022-02-28'],\n",
      "              dtype='datetime64[ns]', freq='D')\n"
     ]
    }
   ],
   "source": [
    "dates = pd.date_range('2022-02-01', '2022-02-28')\n",
    "print(dates)"
   ]
  },
  {
   "cell_type": "markdown",
   "id": "8763ae67",
   "metadata": {},
   "source": [
    "La clase `Period` representa un período de tiempo, como un mes o un trimestre. Puedes crear un objeto `Period` a partir de una cadena de texto que contenga un período de tiempo usando la función `pandas.Period()`:"
   ]
  },
  {
   "cell_type": "code",
   "execution_count": 14,
   "id": "341fbef7",
   "metadata": {},
   "outputs": [
    {
     "name": "stdout",
     "output_type": "stream",
     "text": [
      "2022-02\n"
     ]
    }
   ],
   "source": [
    "month_string = '2022-02'\n",
    "month = pd.Period(month_string, freq='M')\n",
    "print(month)"
   ]
  },
  {
   "cell_type": "markdown",
   "id": "68969b0a",
   "metadata": {},
   "source": [
    "Pandas también proporciona muchas funciones para trabajar con fechas y horas. Por ejemplo, puedes seleccionar filas de un dataframe por fecha y hora utilizando el método `loc[]` y especificando una condición booleana:"
   ]
  },
  {
   "cell_type": "code",
   "execution_count": 15,
   "id": "7e69cdd5",
   "metadata": {},
   "outputs": [
    {
     "data": {
      "text/html": [
       "<div>\n",
       "<style scoped>\n",
       "    .dataframe tbody tr th:only-of-type {\n",
       "        vertical-align: middle;\n",
       "    }\n",
       "\n",
       "    .dataframe tbody tr th {\n",
       "        vertical-align: top;\n",
       "    }\n",
       "\n",
       "    .dataframe thead th {\n",
       "        text-align: right;\n",
       "    }\n",
       "</style>\n",
       "<table border=\"1\" class=\"dataframe\">\n",
       "  <thead>\n",
       "    <tr style=\"text-align: right;\">\n",
       "      <th></th>\n",
       "      <th>value</th>\n",
       "    </tr>\n",
       "    <tr>\n",
       "      <th>date</th>\n",
       "      <th></th>\n",
       "    </tr>\n",
       "  </thead>\n",
       "  <tbody>\n",
       "    <tr>\n",
       "      <th>2022-02-17</th>\n",
       "      <td>16</td>\n",
       "    </tr>\n",
       "    <tr>\n",
       "      <th>2022-02-18</th>\n",
       "      <td>17</td>\n",
       "    </tr>\n",
       "    <tr>\n",
       "      <th>2022-02-19</th>\n",
       "      <td>18</td>\n",
       "    </tr>\n",
       "    <tr>\n",
       "      <th>2022-02-20</th>\n",
       "      <td>19</td>\n",
       "    </tr>\n",
       "  </tbody>\n",
       "</table>\n",
       "</div>"
      ],
      "text/plain": [
       "            value\n",
       "date             \n",
       "2022-02-17     16\n",
       "2022-02-18     17\n",
       "2022-02-19     18\n",
       "2022-02-20     19"
      ]
     },
     "execution_count": 15,
     "metadata": {},
     "output_type": "execute_result"
    }
   ],
   "source": [
    "data = {'date': pd.date_range('2022-02-01', '2022-02-28'), 'value': range(28)}\n",
    "df = pd.DataFrame(data)\n",
    "df.set_index('date', inplace=True)\n",
    "selected = df.loc['2022-02-17':'2022-02-20']\n",
    "selected"
   ]
  },
  {
   "cell_type": "markdown",
   "id": "5ab4e849",
   "metadata": {},
   "source": [
    "También puedes realizar operaciones aritméticas en objetos `Timestamp`, `DatetimeIndex` y `Period`. Por ejemplo, puedes agregar días, meses o años a un objeto `Timestamp` usando el método `Timestamp + pd.Timedelta()`:"
   ]
  },
  {
   "cell_type": "code",
   "execution_count": 16,
   "id": "c37fa347",
   "metadata": {},
   "outputs": [
    {
     "name": "stdout",
     "output_type": "stream",
     "text": [
      "2022-02-18 00:00:00\n"
     ]
    }
   ],
   "source": [
    "date = pd.to_datetime('2022-02-17')\n",
    "new_date = date + pd.Timedelta(days=1)\n",
    "print(new_date)"
   ]
  },
  {
   "cell_type": "markdown",
   "id": "fc6034d6",
   "metadata": {},
   "source": [
    "Estos son solo algunos ejemplos de cómo puedes trabajar con fechas y horas en Pandas utilizando las clases `Timestamp`, `DatetimeIndex` y `Period`. Pandas también proporciona muchas más funciones útiles para trabajar con datos de tiempo de manera eficiente."
   ]
  }
 ],
 "metadata": {
  "kernelspec": {
   "display_name": "Python 3 (ipykernel)",
   "language": "python",
   "name": "python3"
  },
  "language_info": {
   "codemirror_mode": {
    "name": "ipython",
    "version": 3
   },
   "file_extension": ".py",
   "mimetype": "text/x-python",
   "name": "python",
   "nbconvert_exporter": "python",
   "pygments_lexer": "ipython3",
   "version": "3.8.10"
  }
 },
 "nbformat": 4,
 "nbformat_minor": 5
}
