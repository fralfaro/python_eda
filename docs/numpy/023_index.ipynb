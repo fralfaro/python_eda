{
 "cells": [
  {
   "cell_type": "markdown",
   "id": "d309a480",
   "metadata": {},
   "source": [
    "<a href=\"https://colab.research.google.com/github/fralfaro/python_eda/blob/main/docs/numpy/023_index.ipynb\" target=\"_parent\"><img src=\"https://colab.research.google.com/assets/colab-badge.svg\" alt=\"Open In Colab\"/></a>\n",
    "\n",
    "# Indexación \n",
    "\n",
    "La **indexación** en NumPy es similar a la indexación en listas de Python, pero se extiende a múltiples dimensiones. En NumPy, los arrays se pueden indexar y rebanar para acceder a elementos y subarrays específicos. Aquí hay algunos ejemplos de indexación en NumPy:"
   ]
  },
  {
   "cell_type": "markdown",
   "id": "16dcafec",
   "metadata": {},
   "source": [
    "* **Acceder a elementos individuales de un array unidimensional**:\n"
   ]
  },
  {
   "cell_type": "code",
   "execution_count": null,
   "id": "414a385d",
   "metadata": {},
   "outputs": [],
   "source": [
    "import numpy as np\n",
    "\n",
    "# Crear un array unidimensional\n",
    "a = np.array([1, 2, 3, 4, 5])"
   ]
  },
  {
   "cell_type": "code",
   "execution_count": null,
   "id": "c74a5428",
   "metadata": {},
   "outputs": [],
   "source": [
    "# Acceder al primer elemento\n",
    "print(a[0])"
   ]
  },
  {
   "cell_type": "code",
   "execution_count": null,
   "id": "50782616",
   "metadata": {},
   "outputs": [],
   "source": [
    "# Acceder al último elemento\n",
    "print(a[-1])"
   ]
  },
  {
   "cell_type": "code",
   "execution_count": 1,
   "id": "0a38d6b8",
   "metadata": {},
   "outputs": [
    {
     "name": "stdout",
     "output_type": "stream",
     "text": [
      "1\n",
      "5\n",
      "3\n"
     ]
    }
   ],
   "source": [
    "# Acceder al tercer elemento\n",
    "print(a[2])"
   ]
  },
  {
   "cell_type": "markdown",
   "id": "0983c853",
   "metadata": {},
   "source": [
    "* **Acceder a elementos individuales de un array multidimensional**:"
   ]
  },
  {
   "cell_type": "code",
   "execution_count": 14,
   "id": "28ff187c",
   "metadata": {},
   "outputs": [],
   "source": [
    "# Crear un array bidimensional\n",
    "b = np.array([\n",
    "    [1, 2, 3],\n",
    "    [4, 5, 6],\n",
    "    [7, 8, 9]]\n",
    ")"
   ]
  },
  {
   "cell_type": "code",
   "execution_count": 3,
   "id": "965c195d",
   "metadata": {},
   "outputs": [
    {
     "name": "stdout",
     "output_type": "stream",
     "text": [
      "1\n"
     ]
    }
   ],
   "source": [
    "# Acceder al primer elemento\n",
    "print(b[0, 0])"
   ]
  },
  {
   "cell_type": "code",
   "execution_count": 4,
   "id": "eda2a188",
   "metadata": {},
   "outputs": [
    {
     "name": "stdout",
     "output_type": "stream",
     "text": [
      "9\n"
     ]
    }
   ],
   "source": [
    "# Acceder al último elemento\n",
    "print(b[-1, -1])"
   ]
  },
  {
   "cell_type": "code",
   "execution_count": 5,
   "id": "65dd5c69",
   "metadata": {},
   "outputs": [
    {
     "name": "stdout",
     "output_type": "stream",
     "text": [
      "6\n"
     ]
    }
   ],
   "source": [
    "# Acceder al elemento en la segunda fila y tercer columna\n",
    "print(b[1, 2])"
   ]
  },
  {
   "cell_type": "markdown",
   "id": "213fc881",
   "metadata": {},
   "source": [
    "* **Rebanar un array unidimensional**:\n"
   ]
  },
  {
   "cell_type": "code",
   "execution_count": 6,
   "id": "48ff136b",
   "metadata": {},
   "outputs": [],
   "source": [
    "# Rebanar un array unidimensional\n",
    "a = np.array([1, 2, 3, 4, 5])"
   ]
  },
  {
   "cell_type": "code",
   "execution_count": 7,
   "id": "1123b342",
   "metadata": {},
   "outputs": [
    {
     "name": "stdout",
     "output_type": "stream",
     "text": [
      "[1 2 3]\n"
     ]
    }
   ],
   "source": [
    "# Rebanar los primeros tres elementos\n",
    "print(a[:3])"
   ]
  },
  {
   "cell_type": "code",
   "execution_count": 8,
   "id": "fa0774ec",
   "metadata": {},
   "outputs": [
    {
     "name": "stdout",
     "output_type": "stream",
     "text": [
      "[4 5]\n"
     ]
    }
   ],
   "source": [
    "# Rebanar los últimos dos elementos\n",
    "print(a[-2:])"
   ]
  },
  {
   "cell_type": "code",
   "execution_count": 9,
   "id": "fe14e3ca",
   "metadata": {},
   "outputs": [
    {
     "name": "stdout",
     "output_type": "stream",
     "text": [
      "[1 3 5]\n"
     ]
    }
   ],
   "source": [
    "# Rebanar todos los elementos saltando de dos en dos\n",
    "print(a[::2])"
   ]
  },
  {
   "cell_type": "markdown",
   "id": "557dfb34",
   "metadata": {},
   "source": [
    "* **Rebanar un array multidimensional**:"
   ]
  },
  {
   "cell_type": "code",
   "execution_count": 15,
   "id": "d52658f9",
   "metadata": {},
   "outputs": [],
   "source": [
    "# Rebanar un array bidimensional\n",
    "b = np.array([\n",
    "    [1, 2, 3], \n",
    "    [4, 5, 6], \n",
    "    [7, 8, 9]]\n",
    ")"
   ]
  },
  {
   "cell_type": "code",
   "execution_count": 11,
   "id": "1d42c403",
   "metadata": {},
   "outputs": [
    {
     "name": "stdout",
     "output_type": "stream",
     "text": [
      "[[1 2 3]\n",
      " [4 5 6]]\n"
     ]
    }
   ],
   "source": [
    "# Rebanar la primera y segunda fila\n",
    "print(b[:2, :])"
   ]
  },
  {
   "cell_type": "code",
   "execution_count": 12,
   "id": "8eedabc6",
   "metadata": {},
   "outputs": [
    {
     "name": "stdout",
     "output_type": "stream",
     "text": [
      "[[2 3]\n",
      " [5 6]\n",
      " [8 9]]\n"
     ]
    }
   ],
   "source": [
    "# Rebanar la segunda y tercera columna\n",
    "print(b[:, 1:])"
   ]
  },
  {
   "cell_type": "code",
   "execution_count": 13,
   "id": "6cd0ed23",
   "metadata": {},
   "outputs": [
    {
     "name": "stdout",
     "output_type": "stream",
     "text": [
      "[1 5 9]\n"
     ]
    }
   ],
   "source": [
    "# Rebanar la diagonal principal\n",
    "print(b.diagonal())"
   ]
  }
 ],
 "metadata": {
  "kernelspec": {
   "display_name": "Python 3 (ipykernel)",
   "language": "python",
   "name": "python3"
  },
  "language_info": {
   "codemirror_mode": {
    "name": "ipython",
    "version": 3
   },
   "file_extension": ".py",
   "mimetype": "text/x-python",
   "name": "python",
   "nbconvert_exporter": "python",
   "pygments_lexer": "ipython3",
   "version": "3.8.10"
  }
 },
 "nbformat": 4,
 "nbformat_minor": 5
}
