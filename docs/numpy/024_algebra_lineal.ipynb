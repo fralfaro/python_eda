{
 "cells": [
  {
   "cell_type": "markdown",
   "id": "ce6fe264",
   "metadata": {},
   "source": [
    "<a href=\"https://colab.research.google.com/github/fralfaro/python_eda/blob/main/docs/numpy/024_algebra_lineal.ipynb\" target=\"_parent\"><img src=\"https://colab.research.google.com/assets/colab-badge.svg\" alt=\"Open In Colab\"/></a>\n",
    "\n",
    "# Algebra Lineal\n",
    "\n",
    "NumPy es una biblioteca popular en Python para el **álgebra lineal**, que es una rama de las matemáticas que se enfoca en el estudio de vectores, matrices y sistemas de ecuaciones lineales. NumPy proporciona una gran cantidad de funciones y métodos para realizar operaciones de álgebra lineal de manera eficiente en Python.\n",
    "\n",
    "Aquí hay algunos ejemplos de operaciones de álgebra lineal que se pueden realizar con NumPy:"
   ]
  },
  {
   "cell_type": "markdown",
   "id": "f8042de9",
   "metadata": {},
   "source": [
    "* **Vectores/Matrices especializadas**"
   ]
  },
  {
   "cell_type": "code",
   "execution_count": 1,
   "id": "4971e434",
   "metadata": {},
   "outputs": [],
   "source": [
    "import numpy as np"
   ]
  },
  {
   "cell_type": "code",
   "execution_count": 2,
   "id": "2f208a81",
   "metadata": {},
   "outputs": [
    {
     "name": "stdout",
     "output_type": "stream",
     "text": [
      "Zeros:\n",
      "[[0. 0. 0.]\n",
      " [0. 0. 0.]\n",
      " [0. 0. 0.]]\n"
     ]
    }
   ],
   "source": [
    "# Arreglo de ceros: np.zeros(shape)\n",
    "print(\"Zeros:\")\n",
    "print( np.zeros((3,3)) )"
   ]
  },
  {
   "cell_type": "code",
   "execution_count": 3,
   "id": "99d36ee5",
   "metadata": {},
   "outputs": [
    {
     "name": "stdout",
     "output_type": "stream",
     "text": [
      "\n",
      "Ones:\n",
      "[[1. 1. 1.]\n",
      " [1. 1. 1.]\n",
      " [1. 1. 1.]]\n"
     ]
    }
   ],
   "source": [
    "# Arreglos de uno: np.ones(shape)\n",
    "print(\"\\nOnes:\")\n",
    "print( np.ones((3,3)) )"
   ]
  },
  {
   "cell_type": "code",
   "execution_count": 4,
   "id": "6993fbe0",
   "metadata": {},
   "outputs": [
    {
     "name": "stdout",
     "output_type": "stream",
     "text": [
      "\n",
      "Empty:\n",
      "[[0.00000000e+000 1.07814025e-311]\n",
      " [1.07814025e-311 1.07814025e-311]]\n"
     ]
    }
   ],
   "source": [
    "# Arreglo vacio: np.empty(shape)\n",
    "print(\"\\nEmpty:\")\n",
    "print( np.empty([2, 2]) )"
   ]
  },
  {
   "cell_type": "code",
   "execution_count": 5,
   "id": "b3f2b2e1",
   "metadata": {},
   "outputs": [
    {
     "name": "stdout",
     "output_type": "stream",
     "text": [
      "\n",
      "Range:\n"
     ]
    },
    {
     "data": {
      "text/plain": [
       "array([0., 1., 2., 3., 4., 5., 6., 7., 8., 9.])"
      ]
     },
     "execution_count": 5,
     "metadata": {},
     "output_type": "execute_result"
    }
   ],
   "source": [
    "# Rango de valores: np.range(start, stop, step)\n",
    "print(\"\\nRange:\")\n",
    "np.arange(0., 10., 1.) "
   ]
  },
  {
   "cell_type": "code",
   "execution_count": 6,
   "id": "ea7e9a96",
   "metadata": {},
   "outputs": [
    {
     "name": "stdout",
     "output_type": "stream",
     "text": [
      "\n",
      "Regular grid:\n",
      "[0.    0.125 0.25  0.375 0.5   0.625 0.75  0.875 1.   ]\n"
     ]
    }
   ],
   "source": [
    "# Grilla de valores: np.linspace(start, end, n_values)\n",
    "print(\"\\nRegular grid:\")\n",
    "print( np.linspace(0., 1., 9) )"
   ]
  },
  {
   "cell_type": "code",
   "execution_count": 7,
   "id": "78d23bb9",
   "metadata": {},
   "outputs": [
    {
     "name": "stdout",
     "output_type": "stream",
     "text": [
      "\n",
      "Random sequences:\n",
      "[6.62913893 1.44357124 3.41205452 4.61207364 8.59583224 8.59604932]\n"
     ]
    }
   ],
   "source": [
    "# fijar semilla\n",
    "np.random.seed(42)\n",
    "\n",
    "# Sequencia de valores aleatorios: np.random\n",
    "print(\"\\nRandom sequences:\")\n",
    "print( np.random.uniform(10, size=6) )"
   ]
  },
  {
   "cell_type": "markdown",
   "id": "6e5ae7fb",
   "metadata": {},
   "source": [
    "* **Operaciones con Matrices**"
   ]
  },
  {
   "cell_type": "code",
   "execution_count": 8,
   "id": "fd04665b",
   "metadata": {},
   "outputs": [
    {
     "name": "stdout",
     "output_type": "stream",
     "text": [
      "Matrix A: \n",
      " [[1 2 3]\n",
      " [4 5 6]\n",
      " [7 8 9]]\n",
      "\n",
      "Matrix B: \n",
      " [[9 8 7]\n",
      " [6 5 4]\n",
      " [3 2 1]]\n"
     ]
    }
   ],
   "source": [
    "# crear matrices\n",
    "\n",
    "A = np.array([\n",
    "    [1,2,3],\n",
    "    [4,5,6],\n",
    "    [7,8,9]\n",
    "])\n",
    "\n",
    "B = np.array([\n",
    "    [9,8,7],\n",
    "    [6,5,4],\n",
    "    [3,2,1]]\n",
    ")\n",
    "\n",
    "print(f\"Matrix A: \\n {A}\\n\")\n",
    "print(f\"Matrix B: \\n {B}\")"
   ]
  },
  {
   "cell_type": "code",
   "execution_count": 9,
   "id": "48da1c6c",
   "metadata": {},
   "outputs": [
    {
     "name": "stdout",
     "output_type": "stream",
     "text": [
      "Sum:\n",
      "[[10 10 10]\n",
      " [10 10 10]\n",
      " [10 10 10]]\n"
     ]
    }
   ],
   "source": [
    "# sumar dos matrices\n",
    "print(\"Sum:\")\n",
    "print( A+B )"
   ]
  },
  {
   "cell_type": "code",
   "execution_count": 10,
   "id": "720a0d72",
   "metadata": {},
   "outputs": [
    {
     "name": "stdout",
     "output_type": "stream",
     "text": [
      "\n",
      "Subtraction\n",
      "[[-8 -6 -4]\n",
      " [-2  0  2]\n",
      " [ 4  6  8]]\n"
     ]
    }
   ],
   "source": [
    "# restar dos matrices\n",
    "print(\"\\nSubtraction\")\n",
    "print( A-B )"
   ]
  },
  {
   "cell_type": "code",
   "execution_count": 11,
   "id": "ada05262",
   "metadata": {},
   "outputs": [
    {
     "name": "stdout",
     "output_type": "stream",
     "text": [
      "\n",
      "Product\n",
      "[[ 9 16 21]\n",
      " [24 25 24]\n",
      " [21 16  9]]\n"
     ]
    }
   ],
   "source": [
    "# producto uno a uno\n",
    "print(\"\\nProduct\")\n",
    "print( A*B )"
   ]
  },
  {
   "cell_type": "code",
   "execution_count": 12,
   "id": "889a94da",
   "metadata": {},
   "outputs": [
    {
     "name": "stdout",
     "output_type": "stream",
     "text": [
      "\n",
      "Matricial Product\n",
      "[[ 30  24  18]\n",
      " [ 84  69  54]\n",
      " [138 114  90]]\n"
     ]
    }
   ],
   "source": [
    "# producto matricial\n",
    "print(\"\\nMatricial Product\")\n",
    "print( np.dot(A,B) )"
   ]
  },
  {
   "cell_type": "code",
   "execution_count": 13,
   "id": "4d0854b5",
   "metadata": {},
   "outputs": [
    {
     "name": "stdout",
     "output_type": "stream",
     "text": [
      "\n",
      " Power\n",
      "[[ 1  4  9]\n",
      " [16 25 36]\n",
      " [49 64 81]]\n"
     ]
    }
   ],
   "source": [
    "# potencia\n",
    "print(\"\\n Power\")\n",
    "print( A**2 )"
   ]
  },
  {
   "cell_type": "markdown",
   "id": "d880aca2",
   "metadata": {},
   "source": [
    "* **Algunas funciones especiales**:"
   ]
  },
  {
   "cell_type": "code",
   "execution_count": 14,
   "id": "36715944",
   "metadata": {},
   "outputs": [],
   "source": [
    "# crear matriz\n",
    "A = np.array([\n",
    "    [1,2,3],\n",
    "    [4,5,6],\n",
    "    [7,8,9]\n",
    "])"
   ]
  },
  {
   "cell_type": "code",
   "execution_count": 15,
   "id": "7e699069",
   "metadata": {},
   "outputs": [
    {
     "name": "stdout",
     "output_type": "stream",
     "text": [
      "funcion exponencial\n",
      "[[2.71828183e+00 7.38905610e+00 2.00855369e+01]\n",
      " [5.45981500e+01 1.48413159e+02 4.03428793e+02]\n",
      " [1.09663316e+03 2.98095799e+03 8.10308393e+03]]\n"
     ]
    }
   ],
   "source": [
    "print(\"funcion exponencial\")\n",
    "print( np.exp(A) )"
   ]
  },
  {
   "cell_type": "code",
   "execution_count": 16,
   "id": "7261905f",
   "metadata": {},
   "outputs": [
    {
     "name": "stdout",
     "output_type": "stream",
     "text": [
      "funcion seno\n",
      "[[ 0.84147098  0.90929743  0.14112001]\n",
      " [-0.7568025  -0.95892427 -0.2794155 ]\n",
      " [ 0.6569866   0.98935825  0.41211849]]\n"
     ]
    }
   ],
   "source": [
    "print(\"funcion seno\")\n",
    "print( np.sin(A) )"
   ]
  },
  {
   "cell_type": "code",
   "execution_count": 17,
   "id": "419eb5fd",
   "metadata": {},
   "outputs": [
    {
     "name": "stdout",
     "output_type": "stream",
     "text": [
      "funcion coseno\n",
      "[[ 0.54030231 -0.41614684 -0.9899925 ]\n",
      " [-0.65364362  0.28366219  0.96017029]\n",
      " [ 0.75390225 -0.14550003 -0.91113026]]\n"
     ]
    }
   ],
   "source": [
    "print(\"funcion coseno\")\n",
    "print( np.cos(A))"
   ]
  },
  {
   "cell_type": "code",
   "execution_count": 18,
   "id": "07d3e7d8",
   "metadata": {},
   "outputs": [
    {
     "name": "stdout",
     "output_type": "stream",
     "text": [
      "funcion tangente\n",
      "[[ 1.55740772 -2.18503986 -0.14254654]\n",
      " [ 1.15782128 -3.38051501 -0.29100619]\n",
      " [ 0.87144798 -6.79971146 -0.45231566]]\n"
     ]
    }
   ],
   "source": [
    "print(\"funcion tangente\")\n",
    "print( np.tan(A) )"
   ]
  },
  {
   "cell_type": "markdown",
   "id": "abf63f8a",
   "metadata": {},
   "source": [
    "* **Operaciones álgebra líneal**:"
   ]
  },
  {
   "cell_type": "code",
   "execution_count": 19,
   "id": "9f3305c4",
   "metadata": {},
   "outputs": [],
   "source": [
    "# crear matriz\n",
    "A = np.array([[1,2],\n",
    "              [3,4]])"
   ]
  },
  {
   "cell_type": "code",
   "execution_count": 20,
   "id": "d5f3ed18",
   "metadata": {},
   "outputs": [
    {
     "name": "stdout",
     "output_type": "stream",
     "text": [
      "Transpose: \n",
      "[[1 3]\n",
      " [2 4]]\n"
     ]
    }
   ],
   "source": [
    "# matriz transpuesta\n",
    "print(\"Transpose: \")\n",
    "print( A.T )"
   ]
  },
  {
   "cell_type": "code",
   "execution_count": 21,
   "id": "6c8bce06",
   "metadata": {},
   "outputs": [
    {
     "name": "stdout",
     "output_type": "stream",
     "text": [
      "determinant\n",
      "-2.0\n"
     ]
    }
   ],
   "source": [
    "# determinante\n",
    "print(\"determinant\")\n",
    "print( round(np.linalg.det(A) ,2))"
   ]
  },
  {
   "cell_type": "code",
   "execution_count": 22,
   "id": "82f33eba",
   "metadata": {},
   "outputs": [
    {
     "name": "stdout",
     "output_type": "stream",
     "text": [
      "Inverse\n",
      "[[-2.   1. ]\n",
      " [ 1.5 -0.5]]\n"
     ]
    }
   ],
   "source": [
    "# Matriz Inversa\n",
    "print(\"Inverse\")\n",
    "print( np.linalg.inv(A) )"
   ]
  },
  {
   "cell_type": "code",
   "execution_count": 23,
   "id": "8480b9fe",
   "metadata": {},
   "outputs": [
    {
     "name": "stdout",
     "output_type": "stream",
     "text": [
      "Trace\n",
      "5\n"
     ]
    }
   ],
   "source": [
    "# traza\n",
    "print(\"Trace\")\n",
    "print( np.trace(A))"
   ]
  },
  {
   "cell_type": "code",
   "execution_count": 24,
   "id": "a668eb9c",
   "metadata": {},
   "outputs": [
    {
     "name": "stdout",
     "output_type": "stream",
     "text": [
      "eigenvalues\n",
      "[-0.37228132  5.37228132]\n",
      "\n",
      "eigenvectors\n",
      "[[-0.82456484 -0.41597356]\n",
      " [ 0.56576746 -0.90937671]]\n"
     ]
    }
   ],
   "source": [
    "# Valores y vectores propios\n",
    "eigenvalues, eigenvectors = np.linalg.eig(A) \n",
    "\n",
    "print(\"eigenvalues\")\n",
    "print( eigenvalues )\n",
    "print(\"\\neigenvectors\")\n",
    "print( eigenvectors )\n"
   ]
  },
  {
   "cell_type": "code",
   "execution_count": 25,
   "id": "9b6a599c",
   "metadata": {},
   "outputs": [
    {
     "name": "stdout",
     "output_type": "stream",
     "text": [
      "QR decomposition:\n",
      "\n",
      "Q\n",
      "[[-0.31622777 -0.9486833 ]\n",
      " [-0.9486833   0.31622777]]\n",
      "\n",
      "R\n",
      "[[-3.16227766 -4.42718872]\n",
      " [ 0.         -0.63245553]]\n"
     ]
    }
   ],
   "source": [
    "# descomposicion QR\n",
    "Q,R = np.linalg.qr(A)\n",
    "\n",
    "print(\"QR decomposition:\")\n",
    "print(\"\\nQ\")\n",
    "print( Q )\n",
    "print(\"\\nR\")\n",
    "print( R )"
   ]
  },
  {
   "cell_type": "markdown",
   "id": "34dbce3e",
   "metadata": {},
   "source": [
    "* **Resolver sitema de ecuaciones**:"
   ]
  },
  {
   "cell_type": "code",
   "execution_count": 26,
   "id": "42eea5f8",
   "metadata": {},
   "outputs": [],
   "source": [
    "# crear matriz\n",
    "A = np.array([[1,2],\n",
    "              [3,4]])\n",
    "\n",
    "# sistemas lineales: Ax = b\n",
    "b = np.array([[5.], [7.]])"
   ]
  },
  {
   "cell_type": "code",
   "execution_count": 27,
   "id": "b09388f0",
   "metadata": {},
   "outputs": [
    {
     "name": "stdout",
     "output_type": "stream",
     "text": [
      "linear system: Ax=b\n",
      "\n",
      "x = \n",
      "[[-3.]\n",
      " [ 4.]]\n"
     ]
    }
   ],
   "source": [
    "print(\"linear system: Ax=b\")\n",
    "print(\"\\nx = \")\n",
    "print( np.linalg.solve(A, b) )"
   ]
  }
 ],
 "metadata": {
  "kernelspec": {
   "display_name": "Python 3 (ipykernel)",
   "language": "python",
   "name": "python3"
  },
  "language_info": {
   "codemirror_mode": {
    "name": "ipython",
    "version": 3
   },
   "file_extension": ".py",
   "mimetype": "text/x-python",
   "name": "python",
   "nbconvert_exporter": "python",
   "pygments_lexer": "ipython3",
   "version": "3.10.11"
  }
 },
 "nbformat": 4,
 "nbformat_minor": 5
}
