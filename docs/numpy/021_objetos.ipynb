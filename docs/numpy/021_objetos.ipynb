{
 "cells": [
  {
   "cell_type": "markdown",
   "id": "571ab7ed",
   "metadata": {},
   "source": [
    "<a href=\"https://colab.research.google.com/github/fralfaro/python_eda/blob/main/docs/numpy/021_objetos.ipynb\" target=\"_parent\"><img src=\"https://colab.research.google.com/assets/colab-badge.svg\" alt=\"Open In Colab\"/></a>\n",
    "\n",
    "# Objetos\n",
    "\n",
    "<img src=\"https://i1.wp.com/indianaiproduction.com/wp-content/uploads/2019/06/NumPy-array.png?resize=768%2C368&ssl=1\" align=\"center\"/>\n",
    "\n",
    "En NumPy, el objeto principal es el **array multidimensional** (llamado `ndarray`), que es una estructura de datos eficiente para el procesamiento de datos numéricos. Los arrays en NumPy son objetos homogéneos y de tamaño fijo que contienen elementos del mismo tipo de datos.\n",
    "\n",
    "Aquí hay algunos ejemplos de objetos en NumPy:"
   ]
  },
  {
   "cell_type": "code",
   "execution_count": 1,
   "id": "284a3e87",
   "metadata": {},
   "outputs": [
    {
     "name": "stdout",
     "output_type": "stream",
     "text": [
      "[1 2 3]\n"
     ]
    }
   ],
   "source": [
    "import numpy as np\n",
    "\n",
    "# Crear un array 1D de longitud 3\n",
    "arr_1d = np.array([1, 2, 3])\n",
    "print(arr_1d)"
   ]
  },
  {
   "cell_type": "code",
   "execution_count": 2,
   "id": "899d7664",
   "metadata": {},
   "outputs": [
    {
     "name": "stdout",
     "output_type": "stream",
     "text": [
      "[[1 2 3]\n",
      " [4 5 6]]\n"
     ]
    }
   ],
   "source": [
    "# Crear un array 2D de tamaño 2x3\n",
    "arr_2d = np.array([\n",
    "    [1, 2, 3], \n",
    "    [4, 5, 6]\n",
    "])\n",
    "print(arr_2d)"
   ]
  },
  {
   "cell_type": "code",
   "execution_count": 5,
   "id": "1445b899",
   "metadata": {},
   "outputs": [
    {
     "name": "stdout",
     "output_type": "stream",
     "text": [
      "[[[ 1  2  3]\n",
      "  [ 4  5  6]]\n",
      "\n",
      " [[ 7  8  9]\n",
      "  [10 11 12]]]\n"
     ]
    }
   ],
   "source": [
    "# Crear un array 3D de tamaño 2x2x3\n",
    "arr_3d = np.array([\n",
    "    [\n",
    "        [1, 2, 3], \n",
    "        [4, 5, 6]\n",
    "    ], \n",
    "    [\n",
    "        [7, 8, 9],\n",
    "        [10, 11, 12]\n",
    "    ]\n",
    "])\n",
    "print(arr_3d)"
   ]
  },
  {
   "cell_type": "markdown",
   "id": "af918ee6",
   "metadata": {},
   "source": [
    "Veamos algunos atributos de los arreglos en Numpy:\n",
    "\n",
    "* `ndarray.shape`: devuelve la forma (dimensiones) del array.\n",
    "* `ndarray.ndim`: devuelve el número de dimensiones del array.\n",
    "* `ndarray.size`: devuelve el número total de elementos en el array.\n",
    "* `ndarray.dtype`: devuelve el tipo de datos de los elementos del array.\n"
   ]
  },
  {
   "cell_type": "code",
   "execution_count": 7,
   "id": "cb6516bb",
   "metadata": {},
   "outputs": [],
   "source": [
    "# crear objeto\n",
    "obj_numpy =np.array(\n",
    "    [1, 2, 3, 4, 5, 6, 7, 8, 9])"
   ]
  },
  {
   "cell_type": "code",
   "execution_count": 8,
   "id": "c501525a",
   "metadata": {},
   "outputs": [
    {
     "data": {
      "text/plain": [
       "(9,)"
      ]
     },
     "execution_count": 8,
     "metadata": {},
     "output_type": "execute_result"
    }
   ],
   "source": [
    "# shape\n",
    "obj_numpy.shape"
   ]
  },
  {
   "cell_type": "code",
   "execution_count": 9,
   "id": "c1d2542f",
   "metadata": {},
   "outputs": [
    {
     "data": {
      "text/plain": [
       "1"
      ]
     },
     "execution_count": 9,
     "metadata": {},
     "output_type": "execute_result"
    }
   ],
   "source": [
    "# ndim\n",
    "obj_numpy.ndim"
   ]
  },
  {
   "cell_type": "code",
   "execution_count": null,
   "id": "78c55545",
   "metadata": {},
   "outputs": [],
   "source": [
    "# size\n",
    "obj_numpy.size"
   ]
  },
  {
   "cell_type": "code",
   "execution_count": 10,
   "id": "fb2331b4",
   "metadata": {},
   "outputs": [
    {
     "data": {
      "text/plain": [
       "dtype('int32')"
      ]
     },
     "execution_count": 10,
     "metadata": {},
     "output_type": "execute_result"
    }
   ],
   "source": [
    "# dtype\n",
    "obj_numpy.dtype"
   ]
  }
 ],
 "metadata": {
  "kernelspec": {
   "display_name": "Python 3 (ipykernel)",
   "language": "python",
   "name": "python3"
  },
  "language_info": {
   "codemirror_mode": {
    "name": "ipython",
    "version": 3
   },
   "file_extension": ".py",
   "mimetype": "text/x-python",
   "name": "python",
   "nbconvert_exporter": "python",
   "pygments_lexer": "ipython3",
   "version": "3.10.11"
  }
 },
 "nbformat": 4,
 "nbformat_minor": 5
}
