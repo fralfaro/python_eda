{
 "cells": [
  {
   "cell_type": "markdown",
   "metadata": {},
   "source": [
    "<a href=\"https://colab.research.google.com/github/fralfaro/python_eda/blob/main/docs/numpy/01_intro.ipynb\" target=\"_parent\"><img src=\"https://colab.research.google.com/assets/colab-badge.svg\" alt=\"Open In Colab\"/></a>\n",
    "\n",
    "# Introducción\n",
    "\n",
    "## Acerca de Numpy\n",
    "\n",
    "<img src=\"https://upload.wikimedia.org/wikipedia/commons/thumb/3/31/NumPy_logo_2020.svg/2560px-NumPy_logo_2020.svg.png\" align=\"center\" width = \"300\"/>\n",
    "\n",
    "[Numpy](https://numpy.org/) s una biblioteca de Python que se utiliza para trabajar con matrices y vectores de datos numéricos. Proporciona un conjunto de funciones y métodos eficientes y optimizados para el procesamiento de datos numéricos, incluyendo operaciones matriciales, estadísticas, álgebra lineal, entre otras.\n",
    "\n",
    "NumPy es ampliamente utilizado en áreas como la ciencia de datos, el aprendizaje automático, la ingeniería y la física, entre otras. Es una herramienta fundamental en el ecosistema de Python para el procesamiento y análisis de datos numéricos.\n",
    "\n",
    "Algunas de las características principales de NumPy son:\n",
    "\n",
    "* Arrays multidimensionales eficientes y optimizados para operaciones numéricas.\n",
    "* Funciones y métodos para operaciones matemáticas y estadísticas.\n",
    "* Integración con otras bibliotecas de Python para el procesamiento de datos, como **Pandas** y **Matplotlib**.\n",
    "* Capacidad de procesar grandes conjuntos de datos numéricos de manera eficiente y escalable.\n",
    " \n"
   ]
  },
  {
   "cell_type": "markdown",
   "metadata": {},
   "source": [
    "## Python Lists vs Numpy Arrays\n",
    "\n",
    "\n",
    "Las **listas** de Python y los **arrays** de NumPy son dos estructuras de datos diferentes que se utilizan para almacenar y manipular conjuntos de datos en Python.\n",
    "\n",
    "* Las listas de Python son una colección de elementos que pueden ser de diferentes tipos de datos, como enteros, flotantes, cadenas, etc. Pueden ser de longitud variable y se pueden modificar en tiempo de ejecución. Las listas de Python son más flexibles y versátiles que los arrays de NumPy, pero pueden ser más lentas para operaciones matemáticas y numéricas.\n",
    "\n",
    "* Los arrays de NumPy son una estructura de datos más especializada que se utiliza para trabajar con datos numéricos, como matrices y vectores. Son más rápidos y eficientes que las listas de Python para operaciones numéricas y matemáticas, y proporcionan muchas funciones y métodos útiles para el procesamiento de datos, como operaciones matriciales y de álgebra lineal. Los arrays de NumPy tienen una longitud fija y no se pueden modificar una vez creados.\n",
    "\n",
    "Una pregunta común para principiantes es cuál es la verdadera diferencia aquí. La respuesta es el **rendimiento**. Las estructuras de datos de Numpy funcionan mejor en:\n",
    "\n",
    "* **Tamaño**: las estructuras de datos de Numpy ocupan menos espacio\n",
    "* **Rendimiento**: necesitan velocidad y son más rápidos que las listas\n",
    "* **Funcionalidad**: SciPy y NumPy tienen funciones optimizadas, como las operaciones de álgebra lineal integradas."
   ]
  },
  {
   "cell_type": "markdown",
   "metadata": {},
   "source": [
    "### Diferencias Tiempo - Memoria \n",
    "\n",
    "Los principales beneficios del uso de matrices NumPy deberían ser un menor consumo de memoria y un mejor comportamiento en tiempo de ejecución.\n",
    "\n",
    "* Para las **listas** de Python podemos concluir de esto que para cada elemento nuevo, necesitamos otros ocho bytes para la referencia al nuevo objeto. El nuevo objeto entero en sí consume 28 bytes. El tamaño de una lista **lst** sin el tamaño de los elementos se puede calcular con:\n",
    "\n",
    "                        64 + 8 * len (lst) + + len (lst) * 28\n",
    "                        \n",
    "                        "
   ]
  },
  {
   "cell_type": "markdown",
   "metadata": {},
   "source": [
    "\n",
    "\n",
    "<img src=\"https://raw.githubusercontent.com/fralfaro/MAT281_2022/main/docs/lectures/data_manipulation/scientific_computing/images/list_structure.png\" align=\"center\"/>"
   ]
  },
  {
   "cell_type": "markdown",
   "metadata": {},
   "source": [
    "* Los **array** NumPy ocupan menos espacio. Esto significa que una matriz entera arbitraria de longitud **n** en necesidades numpy se calcula por: \n",
    "\n",
    "                        96 + n * 8 bytes"
   ]
  },
  {
   "cell_type": "markdown",
   "metadata": {},
   "source": [
    "\n",
    "\n",
    "<img src=\"https://raw.githubusercontent.com/fralfaro/MAT281_2022/main/docs/lectures/data_manipulation/scientific_computing/images/array_structure.png\"  align=\"center\"/>"
   ]
  },
  {
   "cell_type": "markdown",
   "metadata": {},
   "source": [
    "Veamos un ejemplo:\n",
    "\n"
   ]
  },
  {
   "cell_type": "code",
   "execution_count": 13,
   "metadata": {},
   "outputs": [],
   "source": [
    "import numpy as np \n",
    "import time\n",
    "import sys\n",
    "\n",
    "def arreglo_python(n):\n",
    "    t1 = time.time()\n",
    "    X = range(n)\n",
    "    Y = range(n)\n",
    "    Z = [X[i] + Y[i] for i in range(len(X)) ]\n",
    "    return (time.time() - t1,sys.getsizeof(Z) )\n",
    "\n",
    "def arreglo_numpy(n):\n",
    "    t1 = time.time()\n",
    "    X = np.arange(n)\n",
    "    Y = np.arange(n)\n",
    "    Z = X + Y\n",
    "    return (time.time() - t1,sys.getsizeof(Z) )"
   ]
  },
  {
   "cell_type": "code",
   "execution_count": 14,
   "metadata": {},
   "outputs": [],
   "source": [
    "# parametros\n",
    "size_of_vec = 1000000\n",
    "\n",
    "t1, size1 = arreglo_python(size_of_vec)\n",
    "t2, size2 = arreglo_numpy(size_of_vec)"
   ]
  },
  {
   "cell_type": "code",
   "execution_count": 22,
   "metadata": {},
   "outputs": [
    {
     "name": "stdout",
     "output_type": "stream",
     "text": [
      "size of vector: 10\n",
      "python list -- time: 0.0 seg, size: 184 bytes\n",
      "numpy array -- time: 0.0 seg, size: 152 bytes\n",
      "\n",
      "size of vector: 100\n",
      "python list -- time: 0.0 seg, size: 904 bytes\n",
      "numpy array -- time: 0.0 seg, size: 512 bytes\n",
      "\n",
      "size of vector: 1000\n",
      "python list -- time: 0.0 seg, size: 9016 bytes\n",
      "numpy array -- time: 0.0 seg, size: 4112 bytes\n",
      "\n",
      "size of vector: 10000\n",
      "python list -- time: 0.0 seg, size: 87616 bytes\n",
      "numpy array -- time: 0.00452495 seg, size: 40112 bytes\n",
      "\n",
      "size of vector: 100000\n",
      "python list -- time: 0.01462412 seg, size: 824456 bytes\n",
      "numpy array -- time: 0.00096154 seg, size: 400112 bytes\n",
      "\n",
      "size of vector: 1000000\n",
      "python list -- time: 0.1639111 seg, size: 8697456 bytes\n",
      "numpy array -- time: 0.00457025 seg, size: 4000112 bytes\n",
      "\n"
     ]
    }
   ],
   "source": [
    "# generar varios casos\n",
    "for size_of_vec in [10,100,1000,10000,100000,1000000]:\n",
    "    print(f\"size of vector: {size_of_vec}\")\n",
    "    \n",
    "    #list vs numpy\n",
    "    t1, size1 = arreglo_python(size_of_vec)\n",
    "    t2, size2 = arreglo_numpy(size_of_vec)\n",
    "    \n",
    "    # resultados\n",
    "    print(f\"python list -- time: {round(t1,8)} seg, size: {size1} bytes\")\n",
    "    print(f\"numpy array -- time: {round(t2,8)} seg, size: {size2} bytes\\n\")"
   ]
  }
 ],
 "metadata": {
  "kernelspec": {
   "display_name": "Python 3 (ipykernel)",
   "language": "python",
   "name": "python3"
  },
  "language_info": {
   "codemirror_mode": {
    "name": "ipython",
    "version": 3
   },
   "file_extension": ".py",
   "mimetype": "text/x-python",
   "name": "python",
   "nbconvert_exporter": "python",
   "pygments_lexer": "ipython3",
   "version": "3.10.11"
  }
 },
 "nbformat": 4,
 "nbformat_minor": 4
}
