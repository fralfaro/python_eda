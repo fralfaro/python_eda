{
 "cells": [
  {
   "cell_type": "markdown",
   "id": "8a1c7996",
   "metadata": {},
   "source": [
    "<a href=\"https://colab.research.google.com/github/fralfaro/python_eda/blob/main/docs/numpy/022_operaciones.ipynb\" target=\"_parent\"><img src=\"https://colab.research.google.com/assets/colab-badge.svg\" alt=\"Open In Colab\"/></a>\n",
    "\n",
    "# Operaciones\n",
    "\n",
    "NumPy proporciona una variedad de **operaciones básicas** que se pueden realizar en los arrays, como operaciones aritméticas, operaciones de comparación y operaciones de agregación. Aquí hay algunos ejemplos de operaciones básicas en NumPy:\n",
    "\n"
   ]
  },
  {
   "cell_type": "markdown",
   "id": "9814af83",
   "metadata": {},
   "source": [
    "## Operaciones aritméticas\n"
   ]
  },
  {
   "cell_type": "code",
   "execution_count": 3,
   "id": "80b93bee",
   "metadata": {},
   "outputs": [],
   "source": [
    "import numpy as np\n",
    "\n",
    "# Crear dos arrays\n",
    "a = np.array([1, 2, 3])\n",
    "b = np.array([4, 5, 6])"
   ]
  },
  {
   "cell_type": "code",
   "execution_count": 4,
   "id": "1989e5ec",
   "metadata": {},
   "outputs": [
    {
     "name": "stdout",
     "output_type": "stream",
     "text": [
      "[5 7 9]\n"
     ]
    }
   ],
   "source": [
    "# Suma de arrays\n",
    "c = a + b\n",
    "print(c)"
   ]
  },
  {
   "cell_type": "code",
   "execution_count": 5,
   "id": "2fcdec8e",
   "metadata": {},
   "outputs": [
    {
     "name": "stdout",
     "output_type": "stream",
     "text": [
      "[-3 -3 -3]\n"
     ]
    }
   ],
   "source": [
    "# Resta de arrays\n",
    "c = a - b\n",
    "print(c)"
   ]
  },
  {
   "cell_type": "code",
   "execution_count": 6,
   "id": "267c2b55",
   "metadata": {},
   "outputs": [
    {
     "name": "stdout",
     "output_type": "stream",
     "text": [
      "[ 4 10 18]\n"
     ]
    }
   ],
   "source": [
    "# Multiplicación de arrays\n",
    "c = a * b\n",
    "print(c)"
   ]
  },
  {
   "cell_type": "code",
   "execution_count": 7,
   "id": "faba8b1f",
   "metadata": {},
   "outputs": [
    {
     "name": "stdout",
     "output_type": "stream",
     "text": [
      "[0.25 0.4  0.5 ]\n"
     ]
    }
   ],
   "source": [
    "# División de arrays\n",
    "c = a / b\n",
    "print(c)"
   ]
  },
  {
   "cell_type": "markdown",
   "id": "8ff07a40",
   "metadata": {},
   "source": [
    "## Operaciones de comparación"
   ]
  },
  {
   "cell_type": "code",
   "execution_count": 8,
   "id": "7b238b51",
   "metadata": {},
   "outputs": [],
   "source": [
    "# Crear dos arrays\n",
    "a = np.array([1, 2, 3])\n",
    "b = np.array([2, 2, 4])"
   ]
  },
  {
   "cell_type": "code",
   "execution_count": 9,
   "id": "b7132aab",
   "metadata": {},
   "outputs": [
    {
     "name": "stdout",
     "output_type": "stream",
     "text": [
      "[False  True False]\n"
     ]
    }
   ],
   "source": [
    "# Comparación de arrays\n",
    "c = a == b\n",
    "print(c)"
   ]
  },
  {
   "cell_type": "code",
   "execution_count": 10,
   "id": "554fe5fc",
   "metadata": {},
   "outputs": [
    {
     "name": "stdout",
     "output_type": "stream",
     "text": [
      "[False False False]\n"
     ]
    }
   ],
   "source": [
    "# Comparación de arrays\n",
    "c = a > b\n",
    "print(c)"
   ]
  },
  {
   "cell_type": "code",
   "execution_count": 11,
   "id": "3d1bb214",
   "metadata": {},
   "outputs": [
    {
     "name": "stdout",
     "output_type": "stream",
     "text": [
      "[ True  True  True]\n"
     ]
    }
   ],
   "source": [
    "# Comparación de arrays\n",
    "c = a <= b\n",
    "print(c)"
   ]
  },
  {
   "cell_type": "markdown",
   "id": "620cd9aa",
   "metadata": {},
   "source": [
    "## Operaciones de estadísticas"
   ]
  },
  {
   "cell_type": "code",
   "execution_count": 16,
   "id": "c66b8d3f",
   "metadata": {},
   "outputs": [
    {
     "name": "stdout",
     "output_type": "stream",
     "text": [
      "Suma de elementos: 15\n"
     ]
    }
   ],
   "source": [
    "# Crear un array\n",
    "a = np.array([1, 2, 3, 4, 5])\n",
    "\n",
    "# Suma de los elementos en un array\n",
    "sum_a = np.sum(a)\n",
    "print(f\"Suma de elementos: {sum_a}\")"
   ]
  },
  {
   "cell_type": "code",
   "execution_count": 17,
   "id": "23f7f2c6",
   "metadata": {},
   "outputs": [
    {
     "name": "stdout",
     "output_type": "stream",
     "text": [
      "minimo: 1\n",
      "maximo: 5\n"
     ]
    }
   ],
   "source": [
    "# Mínimo y máximo de los elementos en un array\n",
    "min_a = np.min(a)\n",
    "max_a = np.max(a)\n",
    "\n",
    "print(f\"minimo: {min_a}\")\n",
    "print(f\"maximo: {max_a}\")"
   ]
  },
  {
   "cell_type": "code",
   "execution_count": 18,
   "id": "8e95ab63",
   "metadata": {},
   "outputs": [
    {
     "name": "stdout",
     "output_type": "stream",
     "text": [
      "promedio: 3.0\n",
      "desviacion estandar: 1.4142135623730951\n"
     ]
    }
   ],
   "source": [
    "# Promedio y desviación estándar de los elementos en un array\n",
    "mean_a = np.mean(a)\n",
    "std_a = np.std(a)\n",
    "\n",
    "print(f\"promedio: {mean_a}\")\n",
    "print(f\"desviacion estandar: {std_a}\")"
   ]
  }
 ],
 "metadata": {
  "kernelspec": {
   "display_name": "Python 3 (ipykernel)",
   "language": "python",
   "name": "python3"
  },
  "language_info": {
   "codemirror_mode": {
    "name": "ipython",
    "version": 3
   },
   "file_extension": ".py",
   "mimetype": "text/x-python",
   "name": "python",
   "nbconvert_exporter": "python",
   "pygments_lexer": "ipython3",
   "version": "3.10.11"
  }
 },
 "nbformat": 4,
 "nbformat_minor": 5
}
