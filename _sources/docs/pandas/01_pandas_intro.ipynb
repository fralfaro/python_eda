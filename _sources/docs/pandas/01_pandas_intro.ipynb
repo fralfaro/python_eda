{
 "cells": [
  {
   "cell_type": "markdown",
   "id": "dbc7ae6b",
   "metadata": {},
   "source": [
    "# Introducción\n",
    "\n",
    "<img src=\"https://raw.githubusercontent.com/fralfaro/MAT281_2022/main/docs/lectures/data_manipulation/data_manipulation/images/pandas.jpeg\" width=\"360\" height=\"240\" align=\"center\"/>\n",
    "\n",
    "[Pandas](https://pandas.pydata.org/) es una biblioteca que proporciona estructuras de datos rápidas, flexibles y expresivas diseñadas para que trabajar con datos \"relacionales\" o \"etiquetados\" sea fácil e intuitivo. \n",
    "\n",
    "Su objetivo es ser el bloque de construcción fundamental de alto nivel para hacer análisis de datos prácticos del mundo real en Python. Además, tiene el objetivo más amplio de convertirse en la herramienta de análisis/manipulación de datos de código abierto más potente y flexible disponible en cualquier idioma. Ya está en camino hacia este objetivo.\n",
    "\n",
    "Las principales estructuras de datos en Pandas son `Series` y `DataFrames`. \n",
    "\n",
    "* Las `Series` son  arreglos unidimensionales con índices. Se puede pensar como una generalización de los arreglos de `Numpy`. \n",
    "\n",
    "* Los `DataFrames` son arreglos bidimensionales y una extensión natural de las `Series`. "
   ]
  },
  {
   "cell_type": "markdown",
   "id": "cdb753bc",
   "metadata": {},
   "source": [
    "**Origen**\n",
    "\n",
    "**Pandas** fue desarrollado por [Wes McKinney](https://wesmckinney.com/) en 2008 mientras trabajaba en AQR Capital Management. McKinney creó Pandas como una herramienta para el análisis y la manipulación de datos para ayudar a los analistas e investigadores a trabajar con conjuntos de datos grandes y complejos de una manera más eficiente e intuitiva. Desde entonces, Pandas se ha convertido en una de las bibliotecas más utilizadas para el análisis de datos en Python y es mantenida por un equipo de colaboradores de código abierto."
   ]
  },
  {
   "cell_type": "markdown",
   "id": "bbc73683",
   "metadata": {},
   "source": [
    "**Importar librería** \n",
    "\n",
    "Para importar la librería Pandas en Python, simplemente debes usar la palabra reservada `import` seguida del nombre de la librería:\n",
    "\n",
    "```python\n",
    "import pandas\n",
    "```\n",
    "\n",
    "Al hacerlo, puedes utilizar todas las funciones y objetos disponibles en Pandas. Sin embargo, para ahorrar tiempo en la escritura del código, es común utilizar un alias para Pandas, que generalmente es `pd`. Para hacerlo, puedes usar la siguiente línea de código:\n",
    "\n",
    "```python\n",
    "import pandas as pd\n",
    "```"
   ]
  }
 ],
 "metadata": {
  "kernelspec": {
   "display_name": "Python 3 (ipykernel)",
   "language": "python",
   "name": "python3"
  },
  "language_info": {
   "codemirror_mode": {
    "name": "ipython",
    "version": 3
   },
   "file_extension": ".py",
   "mimetype": "text/x-python",
   "name": "python",
   "nbconvert_exporter": "python",
   "pygments_lexer": "ipython3",
   "version": "3.8.10"
  }
 },
 "nbformat": 4,
 "nbformat_minor": 5
}
