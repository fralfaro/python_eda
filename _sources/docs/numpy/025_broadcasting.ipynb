{
 "cells": [
  {
   "cell_type": "markdown",
   "id": "ecb83898",
   "metadata": {},
   "source": [
    "<a href=\"https://colab.research.google.com/github/fralfaro/python_eda/blob/main/docs/numpy/025_broadcasting.ipynb\" target=\"_parent\"><img src=\"https://colab.research.google.com/assets/colab-badge.svg\" alt=\"Open In Colab\"/></a>\n",
    "\n",
    "# Broadcasting\n",
    "\n",
    "<img src=\"https://raw.githubusercontent.com/fralfaro/MAT281_2022/main/docs/lectures/data_manipulation/scientific_computing/images/broad.png\" width=\"360\" height=\"240\" align=\"center\"/>\n",
    "\n",
    "**Broadcasting** es un término utilizado en NumPy para describir la forma en que las operaciones entre arrays con diferentes formas se manejan automáticamente por NumPy. En otras palabras, cuando se realizan operaciones aritméticas entre dos arrays de diferentes formas, NumPy ajusta automáticamente la forma del array más pequeño para que coincida con la forma del array más grande antes de realizar la operación. Esto permite que las operaciones se realicen de manera eficiente sin la necesidad de crear copias adicionales de los datos.\n",
    "\n",
    "Las reglas de broadcasting en NumPy son las siguientes:\n",
    "\n",
    "* Si los dos arrays tienen el mismo número de dimensiones, pero las formas no son iguales, NumPy agrega 1 a la forma del array más pequeño para que coincida con la forma del array más grande.\n",
    "\n",
    "* Si la forma de los dos arrays no es la misma y no tienen el mismo número de dimensiones, NumPy agrega 1 a las dimensiones menos y expande las formas de los arrays para que sean iguales en la dimensión más alta.\n",
    "\n",
    "* Si la forma de los dos arrays no es la misma y alguna dimensión no coincide, NumPy genera un error."
   ]
  },
  {
   "cell_type": "code",
   "execution_count": 2,
   "id": "7645bbf4",
   "metadata": {},
   "outputs": [],
   "source": [
    "import numpy as np"
   ]
  },
  {
   "cell_type": "code",
   "execution_count": 3,
   "id": "aa6147d7",
   "metadata": {},
   "outputs": [
    {
     "name": "stdout",
     "output_type": "stream",
     "text": [
      "np.arange(3)+ 5:\n",
      "[5 6 7]\n"
     ]
    }
   ],
   "source": [
    "# example 01\n",
    "a = np.arange(3)+ 5\n",
    "print(f\"np.arange(3) + 5:\\n{a}\" )"
   ]
  },
  {
   "cell_type": "code",
   "execution_count": 4,
   "id": "50f8d843",
   "metadata": {},
   "outputs": [
    {
     "name": "stdout",
     "output_type": "stream",
     "text": [
      "np.ones((3,3))+np.arange(3):\n",
      "[[1. 2. 3.]\n",
      " [1. 2. 3.]\n",
      " [1. 2. 3.]]\n"
     ]
    }
   ],
   "source": [
    "# example 02\n",
    "b = np.ones((3,3))+np.arange(3)\n",
    "print(f\"np.ones((3,3)) + np.arange(3):\\n{b}\" )"
   ]
  },
  {
   "cell_type": "code",
   "execution_count": 5,
   "id": "351644a4",
   "metadata": {},
   "outputs": [
    {
     "name": "stdout",
     "output_type": "stream",
     "text": [
      "np.arange(3).reshape((3,1)) + np.arange(3):\n",
      "[[0 1 2]\n",
      " [1 2 3]\n",
      " [2 3 4]]\n"
     ]
    }
   ],
   "source": [
    "# example 03\n",
    "c = np.arange(3).reshape((3,1)) +  np.arange(3)\n",
    "print(f\"np.arange(3).reshape((3,1)) + np.arange(3):\\n{c }\" )"
   ]
  }
 ],
 "metadata": {
  "kernelspec": {
   "display_name": "Python 3 (ipykernel)",
   "language": "python",
   "name": "python3"
  },
  "language_info": {
   "codemirror_mode": {
    "name": "ipython",
    "version": 3
   },
   "file_extension": ".py",
   "mimetype": "text/x-python",
   "name": "python",
   "nbconvert_exporter": "python",
   "pygments_lexer": "ipython3",
   "version": "3.8.10"
  }
 },
 "nbformat": 4,
 "nbformat_minor": 5
}
