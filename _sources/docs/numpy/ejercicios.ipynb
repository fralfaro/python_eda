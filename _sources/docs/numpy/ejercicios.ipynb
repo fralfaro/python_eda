{
 "cells": [
  {
   "cell_type": "markdown",
   "id": "91cfb26a-4ebd-4a72-9c7a-1ea769d89b61",
   "metadata": {},
   "source": [
    "# Ejercicios"
   ]
  },
  {
   "cell_type": "code",
   "execution_count": 1,
   "id": "38ffbcef-4dec-4387-b0fa-2df5bf3b5e4d",
   "metadata": {},
   "outputs": [],
   "source": [
    "import numpy as np"
   ]
  },
  {
   "cell_type": "markdown",
   "id": "8eed31be-9a4c-40bb-9c51-0e286c2e1e86",
   "metadata": {},
   "source": [
    "## Numpy Arrays"
   ]
  },
  {
   "cell_type": "markdown",
   "id": "d955f9a1-8aba-4a58-916b-7c7ac2272503",
   "metadata": {},
   "source": [
    "**Ejercicio 1**: Crear un arreglo NumPy 1D de 5 elementos con valores enteros del 0 al 4."
   ]
  },
  {
   "cell_type": "code",
   "execution_count": 2,
   "id": "b1d1c80e-39ac-4f90-b961-ddf4ef519813",
   "metadata": {},
   "outputs": [
    {
     "name": "stdout",
     "output_type": "stream",
     "text": [
      "[0 1 2 3 4]\n"
     ]
    }
   ],
   "source": [
    "arr = np.array([0, 1, 2, 3, 4])\n",
    "print(arr)"
   ]
  },
  {
   "cell_type": "markdown",
   "id": "f58fe0fb-43f6-4258-8de1-ad645af6a358",
   "metadata": {},
   "source": [
    "**Ejercicio 2**: Crear un arreglo NumPy 2D de 3x3 con todos los elementos igual a 1.ual a 1."
   ]
  },
  {
   "cell_type": "code",
   "execution_count": 3,
   "id": "3121401c-41f3-40a7-a15e-eaafc3a605b2",
   "metadata": {},
   "outputs": [
    {
     "name": "stdout",
     "output_type": "stream",
     "text": [
      "[[1. 1. 1.]\n",
      " [1. 1. 1.]\n",
      " [1. 1. 1.]]\n"
     ]
    }
   ],
   "source": [
    "arr = np.ones((3, 3))\n",
    "print(arr)"
   ]
  },
  {
   "cell_type": "markdown",
   "id": "00163c83-1d79-4557-8fc5-5998fd3aac08",
   "metadata": {},
   "source": [
    "\r\n",
    "**Ejercicio 3**: Crear un arreglo NumPy 1D de 10 elementos con valores equidistantes entre 0 y 1."
   ]
  },
  {
   "cell_type": "code",
   "execution_count": 4,
   "id": "4b0185db-02ec-46db-9f9f-e5d921fe29dc",
   "metadata": {},
   "outputs": [
    {
     "name": "stdout",
     "output_type": "stream",
     "text": [
      "[0.         0.11111111 0.22222222 0.33333333 0.44444444 0.55555556\n",
      " 0.66666667 0.77777778 0.88888889 1.        ]\n"
     ]
    }
   ],
   "source": [
    "arr = np.linspace(0, 1, 10)\n",
    "print(arr)"
   ]
  },
  {
   "cell_type": "markdown",
   "id": "d1ab9557-9b76-4525-832c-61ed6bea49b5",
   "metadata": {},
   "source": [
    "**Ejercicio 4**: Crear un arreglo NumPy 2D de 3x3 con valores aleatorios entre 0 y 1.\r"
   ]
  },
  {
   "cell_type": "code",
   "execution_count": 5,
   "id": "ac67cd0b-cccb-4ee1-a4a0-bb7906f3f3c3",
   "metadata": {},
   "outputs": [
    {
     "name": "stdout",
     "output_type": "stream",
     "text": [
      "[[0.41951944 0.06979298 0.18179434]\n",
      " [0.62465905 0.77333522 0.6738003 ]\n",
      " [0.35120366 0.02928759 0.84761288]]\n"
     ]
    }
   ],
   "source": [
    "arr = np.random.rand(3, 3)\n",
    "print(arr)"
   ]
  },
  {
   "cell_type": "markdown",
   "id": "3cd2a8d7-09e5-42a8-a31b-dbf4b1fe3078",
   "metadata": {},
   "source": [
    "**Ejercicio 5**: Crear un arreglo NumPy 1D con números enteros pares del 0 al 10.\r"
   ]
  },
  {
   "cell_type": "code",
   "execution_count": 6,
   "id": "cd1631b0-fad0-4cb9-a8f6-5ed8ee3cce8f",
   "metadata": {},
   "outputs": [
    {
     "name": "stdout",
     "output_type": "stream",
     "text": [
      "[ 0  2  4  6  8 10]\n"
     ]
    }
   ],
   "source": [
    "arr = np.arange(0, 11, 2)\n",
    "print(arr)"
   ]
  },
  {
   "cell_type": "markdown",
   "id": "67acc200-9918-451b-9b07-0aa566f5d983",
   "metadata": {},
   "source": [
    "**Ejercicio 6**: Crear un arreglo NumPy 2D de 4x4 con números enteros aleatorios en el rango de 1 a 10.\r"
   ]
  },
  {
   "cell_type": "code",
   "execution_count": 7,
   "id": "83fd9c16-0ecd-4914-a138-e29b06b4e096",
   "metadata": {},
   "outputs": [
    {
     "name": "stdout",
     "output_type": "stream",
     "text": [
      "[[ 8  4  9  5]\n",
      " [ 8 10  6 10]\n",
      " [ 7  6  7  8]\n",
      " [ 3  9  6  7]]\n"
     ]
    }
   ],
   "source": [
    "arr = np.random.randint(1, 11, (4, 4))\n",
    "print(arr)"
   ]
  },
  {
   "cell_type": "markdown",
   "id": "a34bac78-895a-4e0b-8f60-6feb10cd47b9",
   "metadata": {},
   "source": [
    "**Ejercicio 7**: Crear un arreglo NumPy 1D con los primeros 5 números primos.\r"
   ]
  },
  {
   "cell_type": "code",
   "execution_count": 8,
   "id": "e0afd95f-cb17-4251-8cff-877da055ce21",
   "metadata": {},
   "outputs": [
    {
     "name": "stdout",
     "output_type": "stream",
     "text": [
      "[ 2  3  5  7 11]\n"
     ]
    }
   ],
   "source": [
    "primes = np.array([2, 3, 5, 7, 11])\n",
    "print(primes)"
   ]
  },
  {
   "cell_type": "markdown",
   "id": "515035ec-b934-4b13-ae8a-8fb3d2a853a2",
   "metadata": {},
   "source": [
    "**Ejercicio 8**: Crear un arreglo NumPy 1D con valores de 0 a 9 y luego invertir el orden de los elementos.\r"
   ]
  },
  {
   "cell_type": "code",
   "execution_count": 9,
   "id": "10197be9-1c8e-473d-af85-ece6f50115ce",
   "metadata": {},
   "outputs": [
    {
     "name": "stdout",
     "output_type": "stream",
     "text": [
      "[9 8 7 6 5 4 3 2 1 0]\n"
     ]
    }
   ],
   "source": [
    "arr = np.arange(10)\n",
    "arr_inverted = arr[::-1]\n",
    "print(arr_inverted)"
   ]
  },
  {
   "cell_type": "markdown",
   "id": "0c073e7a-5b9e-4ff4-92ed-8c22eedb4989",
   "metadata": {},
   "source": [
    "**Ejercicio 9**: Dado un arreglo NumPy 1D, calcular la suma de sus elementos.\r"
   ]
  },
  {
   "cell_type": "code",
   "execution_count": 10,
   "id": "99611866-3c50-4eb9-896b-d725265c2d58",
   "metadata": {},
   "outputs": [
    {
     "name": "stdout",
     "output_type": "stream",
     "text": [
      "15\n"
     ]
    }
   ],
   "source": [
    "arr = np.array([1, 2, 3, 4, 5])\n",
    "suma = np.sum(arr)\n",
    "print(suma)"
   ]
  },
  {
   "cell_type": "markdown",
   "id": "2a60f1cc-c70b-45e1-9417-7cb1a1a8b76f",
   "metadata": {},
   "source": [
    "**Ejercicio 10**: Dado un arreglo NumPy 2D, calcular la suma de cada columna por separado."
   ]
  },
  {
   "cell_type": "code",
   "execution_count": 11,
   "id": "cea9f247-a21e-4f30-8e9d-6aa061e8de17",
   "metadata": {},
   "outputs": [
    {
     "name": "stdout",
     "output_type": "stream",
     "text": [
      "[12 15 18]\n"
     ]
    }
   ],
   "source": [
    "arr = np.array([[1, 2, 3], [4, 5, 6], [7, 8, 9]])\n",
    "suma_columnas = np.sum(arr, axis=0)\n",
    "print(suma_columnas)"
   ]
  },
  {
   "cell_type": "markdown",
   "id": "7d147ff8-91ee-4381-945a-b73e6326a284",
   "metadata": {},
   "source": [
    "## Operaciones Matemáticas\n",
    "\n",
    "**Ejercicio 1:** Encuentra la suma, resta, multiplicación y división de dos arreglos NumPy de 1D `a` y `b`.\r"
   ]
  },
  {
   "cell_type": "code",
   "execution_count": 12,
   "id": "fedd69ad-df0b-4241-a8a6-e0faed6968e8",
   "metadata": {},
   "outputs": [],
   "source": [
    "a = np.array([1, 2, 3, 4])\n",
    "b = np.array([5, 6, 7, 8])"
   ]
  },
  {
   "cell_type": "code",
   "execution_count": 13,
   "id": "98c7a438-25f0-422d-b1cd-7298a94d27ce",
   "metadata": {},
   "outputs": [
    {
     "name": "stdout",
     "output_type": "stream",
     "text": [
      "Suma: [ 6  8 10 12]\n",
      "Resta: [-4 -4 -4 -4]\n",
      "Multiplicación: [ 5 12 21 32]\n",
      "División: [0.2        0.33333333 0.42857143 0.5       ]\n"
     ]
    }
   ],
   "source": [
    "suma = a + b\n",
    "resta = a - b\n",
    "multiplicacion = a * b\n",
    "division = a / b\n",
    "\n",
    "print(\"Suma:\", suma)\n",
    "print(\"Resta:\", resta)\n",
    "print(\"Multiplicación:\", multiplicacion)\n",
    "print(\"División:\", division)"
   ]
  },
  {
   "cell_type": "markdown",
   "id": "f7ccbb5f-1ee9-4678-9f55-c61b46670c25",
   "metadata": {},
   "source": [
    "**Ejercicio 2:** Calcula el promedio, la mediana y la desviación estándar de un arreglo NumPy 1D `datos`.\r"
   ]
  },
  {
   "cell_type": "code",
   "execution_count": 14,
   "id": "f1b176d0-ef00-49cf-be29-3bb52f912463",
   "metadata": {},
   "outputs": [],
   "source": [
    "datos = np.array([10, 15, 20, 25, 30, 35, 40])"
   ]
  },
  {
   "cell_type": "code",
   "execution_count": 15,
   "id": "60189a76-7be1-4644-9150-39d9d846035e",
   "metadata": {},
   "outputs": [
    {
     "name": "stdout",
     "output_type": "stream",
     "text": [
      "Promedio: 25.0\n",
      "Mediana: 25.0\n",
      "Desviación Estándar: 10.0\n"
     ]
    }
   ],
   "source": [
    "promedio = np.mean(datos)\n",
    "mediana = np.median(datos)\n",
    "desviacion_estandar = np.std(datos)\n",
    "\n",
    "print(\"Promedio:\", promedio)\n",
    "print(\"Mediana:\", mediana)\n",
    "print(\"Desviación Estándar:\", desviacion_estandar)"
   ]
  },
  {
   "cell_type": "markdown",
   "id": "edf76c06-279f-4843-8a31-4648206d2b75",
   "metadata": {},
   "source": [
    "**Ejercicio 3:** Calcula el producto punto de dos arreglos NumPy 1D `a` y `b`.\r"
   ]
  },
  {
   "cell_type": "code",
   "execution_count": 16,
   "id": "1031c64e-2644-45a9-8bd8-c65e5b36afea",
   "metadata": {},
   "outputs": [],
   "source": [
    "a = np.array([1, 2, 3])\n",
    "b = np.array([4, 5, 6])"
   ]
  },
  {
   "cell_type": "code",
   "execution_count": 17,
   "id": "f2f8f2ff-c10b-4afa-a731-016681132b67",
   "metadata": {},
   "outputs": [
    {
     "name": "stdout",
     "output_type": "stream",
     "text": [
      "Producto Punto: 32\n"
     ]
    }
   ],
   "source": [
    "producto_punto = np.dot(a, b)\n",
    "\n",
    "print(\"Producto Punto:\", producto_punto)"
   ]
  },
  {
   "cell_type": "markdown",
   "id": "95bc23b5-f599-4af6-97c1-730662555828",
   "metadata": {},
   "source": [
    "**Ejercicio 4:** Encuentra el valor mínimo y máximo en un arreglo NumPy 1D `valores`.\r"
   ]
  },
  {
   "cell_type": "code",
   "execution_count": 18,
   "id": "63067c3a-229b-4b49-ab6c-cd411da4d55a",
   "metadata": {},
   "outputs": [],
   "source": [
    "valores = np.array([5, 8, 2, 10, 3])"
   ]
  },
  {
   "cell_type": "code",
   "execution_count": 19,
   "id": "27ddd091-c2e8-459e-bbd6-1253630c7bca",
   "metadata": {},
   "outputs": [
    {
     "name": "stdout",
     "output_type": "stream",
     "text": [
      "Valor Mínimo: 2\n",
      "Valor Máximo: 10\n"
     ]
    }
   ],
   "source": [
    "minimo = np.min(valores)\n",
    "maximo = np.max(valores)\n",
    "\n",
    "print(\"Valor Mínimo:\", minimo)\n",
    "print(\"Valor Máximo:\", maximo)"
   ]
  },
  {
   "cell_type": "markdown",
   "id": "7e0a636f-bd78-4fc5-bd0e-cd7887ee6cca",
   "metadata": {},
   "source": [
    "**Ejercicio 5:** Calcula la suma acumulativa de un arreglo NumPy 1D `serie`.\r"
   ]
  },
  {
   "cell_type": "code",
   "execution_count": 20,
   "id": "35a41d8c-4f6c-4760-a27e-81dcecbdb920",
   "metadata": {},
   "outputs": [],
   "source": [
    "serie = np.array([1, 2, 3, 4, 5])"
   ]
  },
  {
   "cell_type": "code",
   "execution_count": 21,
   "id": "382a90e8-ab49-4e1d-a086-785dd91a8a7f",
   "metadata": {},
   "outputs": [
    {
     "name": "stdout",
     "output_type": "stream",
     "text": [
      "Suma Acumulativa: [ 1  3  6 10 15]\n"
     ]
    }
   ],
   "source": [
    "suma_acumulativa = np.cumsum(serie)\n",
    "\n",
    "print(\"Suma Acumulativa:\", suma_acumulativa)"
   ]
  },
  {
   "cell_type": "markdown",
   "id": "001920a5-d958-4a3c-9ceb-6c2461162bcf",
   "metadata": {},
   "source": [
    "**Ejercicio 6:** Calcula el promedio de cada fila y cada columna en un arreglo NumPy 2D `matriz`.\r"
   ]
  },
  {
   "cell_type": "code",
   "execution_count": 22,
   "id": "4f7dcc02-f9a0-4aed-9143-28720da92368",
   "metadata": {},
   "outputs": [],
   "source": [
    "matriz = np.array([[1, 2, 3], [4, 5, 6], [7, 8, 9]])"
   ]
  },
  {
   "cell_type": "code",
   "execution_count": 23,
   "id": "c671f3d0-af5e-4495-a940-443bc7dcde0e",
   "metadata": {},
   "outputs": [
    {
     "name": "stdout",
     "output_type": "stream",
     "text": [
      "Promedio por Filas: [2. 5. 8.]\n",
      "Promedio por Columnas: [4. 5. 6.]\n"
     ]
    }
   ],
   "source": [
    "promedio_filas = np.mean(matriz, axis=1)\n",
    "promedio_columnas = np.mean(matriz, axis=0)\n",
    "\n",
    "print(\"Promedio por Filas:\", promedio_filas)\n",
    "print(\"Promedio por Columnas:\", promedio_columnas)"
   ]
  },
  {
   "cell_type": "markdown",
   "id": "014fcd3c-19e6-4a97-8769-6f39802a3ff9",
   "metadata": {},
   "source": [
    "**Ejercicio 7:** Calcula la potencia de un arreglo NumPy 1D `numeros` al cuadrado.\r"
   ]
  },
  {
   "cell_type": "code",
   "execution_count": 24,
   "id": "4624914d-ca73-44df-98be-433f8092c8d2",
   "metadata": {},
   "outputs": [],
   "source": [
    "numeros = np.array([2, 3, 4, 5, 6])"
   ]
  },
  {
   "cell_type": "code",
   "execution_count": 25,
   "id": "7734e6fc-d312-4cbe-87cc-560eb3706616",
   "metadata": {},
   "outputs": [
    {
     "name": "stdout",
     "output_type": "stream",
     "text": [
      "Cuadrado: [ 4  9 16 25 36]\n"
     ]
    }
   ],
   "source": [
    "cuadrado = np.power(numeros, 2)\n",
    "\n",
    "print(\"Cuadrado:\", cuadrado)"
   ]
  },
  {
   "cell_type": "markdown",
   "id": "04ae6afd-d99e-454f-9cfe-c9bd8f413c06",
   "metadata": {},
   "source": [
    "**Ejercicio 8:** Encuentra el valor absoluto de un arreglo NumPy 1D `valores`\r"
   ]
  },
  {
   "cell_type": "code",
   "execution_count": 26,
   "id": "3c7e2648-91d5-4036-b3c0-fa406f593591",
   "metadata": {},
   "outputs": [],
   "source": [
    "valores = np.array([-3, 5, -7, 8, -2])"
   ]
  },
  {
   "cell_type": "code",
   "execution_count": 27,
   "id": "2634d9fa-bf18-4c37-b5c2-4fbaec4484bc",
   "metadata": {},
   "outputs": [
    {
     "name": "stdout",
     "output_type": "stream",
     "text": [
      "Valor Absoluto: [3 5 7 8 2]\n"
     ]
    }
   ],
   "source": [
    "valor_absoluto = np.abs(valores)\n",
    "\n",
    "print(\"Valor Absoluto:\", valor_absoluto)"
   ]
  },
  {
   "cell_type": "markdown",
   "id": "e5bf6ae4-8fc8-4c52-af7d-b808c8aa343e",
   "metadata": {},
   "source": [
    "**Ejercicio 9:** Calcula la media ponderada de un arreglo NumPy 1D `datos` con pesos correspondientes en el arreglo `pesos`.\r"
   ]
  },
  {
   "cell_type": "code",
   "execution_count": 28,
   "id": "932b1bbb-ade2-47c4-b2bb-0b2ba58ecc10",
   "metadata": {},
   "outputs": [],
   "source": [
    "datos = np.array([10, 15, 20, 25, 30])\n",
    "pesos = np.array([0.1, 0.2, 0.3, 0.2, 0.2])"
   ]
  },
  {
   "cell_type": "code",
   "execution_count": 29,
   "id": "5feaf4a6-d279-45f6-9a01-a7c3f09c6810",
   "metadata": {},
   "outputs": [
    {
     "name": "stdout",
     "output_type": "stream",
     "text": [
      "Media Ponderada: 21.0\n"
     ]
    }
   ],
   "source": [
    "media_ponderada = np.average(datos, weights=pesos)\n",
    "\n",
    "print(\"Media Ponderada:\", media_ponderada)"
   ]
  },
  {
   "cell_type": "markdown",
   "id": "d450d8e2-5f75-4c8f-9586-e057d089508a",
   "metadata": {},
   "source": [
    "**Ejercicio 10:** Calcula el producto de matrices de dos arreglos NumPy 2D `matriz_a` y `matriz_b`."
   ]
  },
  {
   "cell_type": "code",
   "execution_count": 30,
   "id": "987fb8a0-86cf-4871-9f22-37001594ed43",
   "metadata": {},
   "outputs": [],
   "source": [
    "matriz_a = np.array([[1, 2], [3, 4]])\n",
    "matriz_b = np.array([[5, 6], [7, 8]])"
   ]
  },
  {
   "cell_type": "code",
   "execution_count": 31,
   "id": "f5dc8f72-210e-4327-bd1e-7b8f498001de",
   "metadata": {},
   "outputs": [
    {
     "name": "stdout",
     "output_type": "stream",
     "text": [
      "Producto de Matrices:\n",
      "[[19 22]\n",
      " [43 50]]\n"
     ]
    }
   ],
   "source": [
    "producto_matrices = np.dot(matriz_a, matriz_b)\n",
    "\n",
    "print(\"Producto de Matrices:\")\n",
    "print(producto_matrices)"
   ]
  },
  {
   "cell_type": "markdown",
   "id": "497dded4-b62b-4fbf-9810-6c2d601cc82c",
   "metadata": {},
   "source": [
    "## Indexación\n",
    "\n",
    "**Ejercicio 1:** Extraer el tercer elemento de un arreglo NumPy 1D `arr`.\r"
   ]
  },
  {
   "cell_type": "markdown",
   "id": "500f5b2c-c053-44cd-b3cf-1dcdaa8e8a9d",
   "metadata": {},
   "source": [
    "**Ejercicio 2:** Extraer una subserie de un arreglo NumPy 1D `arr` que contenga elementos desde el segundo al cuarto (inclusive).\r"
   ]
  },
  {
   "cell_type": "markdown",
   "id": "1c3fe178-9ad9-49f4-af9e-c7ad3f7386e4",
   "metadata": {},
   "source": [
    "**Ejercicio 3:** Extraer los elementos pares de un arreglo NumPy 1D `numeros`.\r"
   ]
  },
  {
   "cell_type": "markdown",
   "id": "8076cb4b-7c4a-4b69-987b-fba260d8c235",
   "metadata": {},
   "source": [
    "**Ejercicio 4:** En un arreglo NumPy 2D `matriz`, extraer la segunda fila y la tercera columna.\r"
   ]
  },
  {
   "cell_type": "markdown",
   "id": "6286c665-333b-4be8-9394-85a8346f5851",
   "metadata": {},
   "source": [
    "**Ejercicio 5:** En un arreglo NumPy 2D `matriz`, extraer todos los elementos que sean mayores que 5.\r"
   ]
  },
  {
   "cell_type": "markdown",
   "id": "aaaa9ddc-dca4-4edb-a27e-cfedb7f13022",
   "metadata": {},
   "source": [
    "**Ejercicio 6:** Crear una vista de un arreglo NumPy 1D `original` que contenga solo los elementos desde el segundo al quinto (inclusive).\r"
   ]
  },
  {
   "cell_type": "markdown",
   "id": "a01f76cb-c649-47e5-9d47-db9d8e7bdf80",
   "metadata": {},
   "source": [
    "**Ejercicio 7:** En un arreglo NumPy 2D `matriz`, extraer los elementos de la segunda fila que sean mayores que 3.\r"
   ]
  },
  {
   "cell_type": "markdown",
   "id": "436b9b72-f32b-4cbc-ba02-1e8aee6725d1",
   "metadata": {},
   "source": [
    "**Ejercicio 8:** Crear una vista de un arreglo NumPy 2D `original` que contenga solo la primera y la última fila.\r"
   ]
  },
  {
   "cell_type": "markdown",
   "id": "b400a3cf-fe17-441a-882c-42df73d93eb4",
   "metadata": {},
   "source": [
    "**Ejercicio 9:** En un arreglo NumPy 2D `matriz`, extraer las filas pares.\r"
   ]
  },
  {
   "cell_type": "markdown",
   "id": "d8a7fa86-e829-4253-9736-5132ebe5ba49",
   "metadata": {},
   "source": [
    "**Ejercicio 10:** En un arreglo NumPy 2D `matriz`, reemplazar todos los elementos mayores que 5 por el valor 0."
   ]
  }
 ],
 "metadata": {
  "kernelspec": {
   "display_name": "Python 3 (ipykernel)",
   "language": "python",
   "name": "python3"
  },
  "language_info": {
   "codemirror_mode": {
    "name": "ipython",
    "version": 3
   },
   "file_extension": ".py",
   "mimetype": "text/x-python",
   "name": "python",
   "nbconvert_exporter": "python",
   "pygments_lexer": "ipython3",
   "version": "3.9.13"
  }
 },
 "nbformat": 4,
 "nbformat_minor": 5
}
